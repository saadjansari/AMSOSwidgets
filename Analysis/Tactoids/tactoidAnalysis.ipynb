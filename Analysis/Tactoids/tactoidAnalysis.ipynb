{
 "cells": [
  {
   "cell_type": "markdown",
   "metadata": {},
   "source": [
    "# T-AMSOS : Simulation Analysis"
   ]
  },
  {
   "cell_type": "code",
   "execution_count": 29,
   "metadata": {},
   "outputs": [],
   "source": [
    "import os, math, random, shutil, yaml, glob, copy, random, sys,time\n",
    "import numpy as np\n",
    "import seaborn as sns\n",
    "from pytransform3d import rotations as pyro\n",
    "import matplotlib.pyplot as plt\n",
    "from mpl_toolkits.mplot3d import Axes3D\n",
    "from numba import jit\n",
    "%matplotlib notebook"
   ]
  },
  {
   "cell_type": "code",
   "execution_count": 66,
   "metadata": {},
   "outputs": [
    {
     "name": "stdout",
     "output_type": "stream",
     "text": [
      "Filamin-Actin ratio = 6.0, Polydisperse\n"
     ]
    }
   ],
   "source": [
    "# tactoid sim path\n",
    "tpath = \"/Users/saadjansari/Documents/Projects/AMSOS/resultsSummit/Tactoids/scan_f_n400/k_fast/poly/f16\"\n",
    "\n",
    "# Create plots directory\n",
    "rpath = os.path.join(tpath, 'plots')\n",
    "if os.path.exists(rpath):\n",
    "    shutil.rmtree( rpath)\n",
    "os.mkdir( rpath)\n",
    "\n",
    "# Specify parameters\n",
    "analyze_bulk = False\n",
    "run_visualization = True\n",
    "run_tests = False\n",
    "\n",
    "# Load parameters from RunConfig.yaml and ProteinConfig.yaml files\n",
    "with open( os.path.join(tpath,'RunConfig.yaml')) as f:\n",
    "    pars1 = yaml.load( f, Loader=yaml.FullLoader)\n",
    "with open( os.path.join(tpath,'ProteinConfig.yaml')) as f:\n",
    "    pars2 = yaml.load( f, Loader=yaml.FullLoader)\n",
    "    \n",
    "dt = pars1['timeSnap'] # Specify frame step of simulation\n",
    "boxsize = np.array( pars1['initBoxHigh']) # Specify frame step of simulation\n",
    "\n",
    "# get filament and protein number\n",
    "if os.path.exists( os.path.join(tpath, 'TubuleInitial.dat')):\n",
    "    with open(os.path.join(tpath, 'TubuleInitial.dat'), 'r') as file1:\n",
    "        nfil = len( file1.readlines() )-2\n",
    "else:\n",
    "    nfil = pars1['sylinderNumber']\n",
    "if os.path.exists( os.path.join(tpath, 'ProteinInitial.dat')):\n",
    "    with open(os.path.join(tpath, 'ProteinInitial.dat'), 'r') as file1:\n",
    "        nprot = len( file1.readlines() )-2\n",
    "else:\n",
    "    nprot = pars2['freeNumber']\n",
    "\n",
    "FAratio = np.around( nprot/nfil,1) # filamin to actin ratio\n",
    "\n",
    "# Determine if filaments are polydisperse or monodisperse\n",
    "with open( os.path.join(tpath, 'result/result0-399/SylinderAscii_0.dat'), 'r') as file1:\n",
    "    lens = []\n",
    "    for line in file1:\n",
    "        if line.startswith('C'):\n",
    "            data = line.split()\n",
    "            pos0 = np.array([float(data[3]), float(data[4]), float(data[5])])\n",
    "            pos1 = np.array([float(data[6]), float(data[7]), float(data[8])])\n",
    "            lens.append( np.linalg.norm(pos1-pos0))\n",
    "if max(lens) - min(lens) < 0.001:\n",
    "    dispersity = 'Mono'\n",
    "else:\n",
    "    dispersity = 'Poly'\n",
    "    \n",
    "# title of plots\n",
    "ftitle='Filamin-Actin ratio = {0}, {1}disperse'.format(FAratio,dispersity)\n",
    "print(ftitle)\n",
    "\n",
    "# Display\n",
    "cols = {\n",
    "    'cluster': \"limegreen\",\n",
    "    'bulk': \"mediumvioletred\",\n",
    "    'env': \"dodgerblue\"\n",
    "}\n",
    "lw = 2 # linewidth\n",
    "\n",
    "plt.close('all')"
   ]
  },
  {
   "cell_type": "markdown",
   "metadata": {},
   "source": [
    "### Description\n",
    "\n",
    "This script performs structural and dynamics analysis for a single tactoid simulation. It does so in the following way:\n",
    "\n",
    "1. Initialization:\n",
    "    * Create filament and protein objects by extracting data from SylinderAscii_X.dat and ProteinAscii_X.dat files. \n",
    "    * Filaments are stored in `ftlist[nFrame][nFilament]`\n",
    "    * Proteins are stored in `ptlist[nFrame][nFilament]`\n",
    "    \n",
    "\n",
    "2. Pre-processing:\n",
    "    * Find the biggest cluster of filaments (this is our potential tactoid). We do this by running a connected component analysis on a graph with filaments representing nodes and proteins representing edges. This information is stored in `ect[nFrame]`\n",
    "    * Transform all filaments to the cluster center of mass frame. The cluster has an origin at some $[x_{cm},y_{cm},z_{cm}]$ and a Z-axis that points in the direction of the nematic director (the eigenvector of the nematic tensor $Q$ with the biggest eigenvalue. The transformed filaments are stored in `ftlist2[nFrame][nFilament]`\n",
    "   \n",
    "   \n",
    "3. Analysis:\n",
    "    * Pair-pair separation: mean separation between filaments as a function of time. This is a measure of density.\n",
    "    * Pair-pair MSD: mean square displacement of pairs.\n",
    "    * MSD in z: mean square displacement in Z. Given that the only axis of symmetry is in the Z-direction, looking at MSD_z makes sense.\n",
    "    * Nematic order: the nematic order (orientation correlation)\n",
    "    * Xlink energy: mean energy of xlinks as a function of time. \n",
    "    * Xlink distance: distance of xlinks from the center of the cluster.\n",
    "    \n",
    "\n",
    "We start by defining some utility classes and functions:\n",
    "* **Filament class / Protein class**: this will store the coordinate information about filaments and proteins.\n",
    "* **Nearest image convention**: these functions allow one to calculate the distance between points and the mean of points given the box-size for a perdiodic boundary condition.\n",
    "* **Connected components**: enables finding filament clusters that are connected together by proteins.\n",
    "* **Confidence interval**: find confidence interval for non-normal distribution using the non-parametrized bootstrap method.\n",
    "* **AnalysisBook class**: Container for functions that do analysis on filament lists.\n",
    "\n",
    "\n",
    "#### Notes:\n",
    "    * The tactoid/bundle is characterized by a single rotation axis of symmetry along the nematic director. \n",
    "      There is no axis of symmetry in the XY-plane.\n",
    "    * We can transform the tactoid so that the nematic director points in the +Z direction.\n",
    "    * We cannot transform to the complete tactoid reference frame because of the ambiguity of \n",
    "      definition of the X and Y axes. \n",
    "    * Since we use periodic boundary conditions, we should account for this during analysis."
   ]
  },
  {
   "cell_type": "markdown",
   "metadata": {},
   "source": [
    "### Utility Functions:\n",
    "#### Filament and Protein class:"
   ]
  },
  {
   "cell_type": "code",
   "execution_count": 67,
   "metadata": {},
   "outputs": [],
   "source": [
    "# Filament class\n",
    "class Filament():\n",
    "    def __init__(self, pos0, pos1, radius,gid):\n",
    "        self.radius = radius\n",
    "        self.pos0 = pos0\n",
    "        self.pos1 = pos1\n",
    "        self.gid = gid\n",
    "    def GetCenter(self,boxsize):\n",
    "        return getMean(self.pos0, self.pos1,boxsize)\n",
    "    def GetLength(self,boxsize):\n",
    "        xi = getDistance(self.pos1,self.pos0,boxsize)\n",
    "        return np.linalg.norm( xi)\n",
    "    def GetOrientation(self,boxsize):\n",
    "        xi = self.pos1 - self.pos0\n",
    "        return xi/np.sqrt(xi.dot(xi))\n",
    "\n",
    "    def Plot3(self,ax, col=\"red\"):\n",
    "        ax.plot3D( [self.pos0[0], self.pos1[0]], [self.pos0[1], self.pos1[1]], [self.pos0[2], self.pos1[2]], col)\n",
    "    def GetStringtoWrite(self):\n",
    "        return 'C {0} {1} {2:0.6f} {3:0.6f} {4:0.6f} {5:0.6f} {6:0.6f} {7:0.6f}\\n'.format(\n",
    "        self.gid, self.radius,\n",
    "        self.pos0[0], self.pos0[1], self.pos0[2],\n",
    "        self.pos1[0], self.pos1[1], self.pos1[2])\n",
    "    def __repr__(self):\n",
    "        return \"Filament()\"\n",
    "    def __str__(self):\n",
    "        return 'Filament {0}:\\n  pos0: {1}\\n  pos1: {2}\\n  radius: {3}'.format(self.gid, self.pos0, self.pos1,self.radius)\n",
    "    \n",
    "# Protein class\n",
    "class Protein():\n",
    "    def __init__(self, pos0, pos1, link0, link1, gid):\n",
    "        self.pos0 = pos0\n",
    "        self.pos1 = pos1\n",
    "        self.link0 = link0\n",
    "        self.link1 = link1\n",
    "        self.gid = gid\n",
    "    def GetCenter(self,boxsize):\n",
    "        return getMean(self.pos0, self.pos1,boxsize)\n",
    "    def GetLength(self,boxsize):\n",
    "        xi = getDistance(self.pos1,self.pos0,boxsize)\n",
    "        return np.linalg.norm( xi)\n",
    "    def GetOrientation(self,boxsize):\n",
    "        if link0 is not -1 and link1 is not -1:\n",
    "            xi = self.pos1 - self.pos0\n",
    "            return xi/np.sqrt( xi.dot(xi))\n",
    "        else:\n",
    "            return None\n",
    "        \n",
    "    def Plot3(self,ax,col=\"blue\"):\n",
    "        ax.plot3D( [self.pos0[0], self.pos1[0]], [self.pos0[1], self.pos1[1]], [self.pos0[2], self.pos1[2]], col)\n",
    "    def GetStringtoWrite(self):\n",
    "        return 'P {0} 0 {2:0.6f} {3:0.6f} {4:0.6f} {5:0.6f} {6:0.6f} {7:0.6f} {8} {9} \\n'.format(\n",
    "        self.gid, self.radius,\n",
    "        self.pos0[0], self.pos0[1], self.pos0[2],\n",
    "        self.pos1[0], self.pos1[1], self.pos1[2],\n",
    "        self.link0, self.link1)\n",
    "    def __repr__(self):\n",
    "        return \"Protein()\"\n",
    "    def __str__(self):\n",
    "        return 'Protein {0}:\\n  pos0: {1}\\n  pos1: {2}\\n  Links: {3}--{4}'.format(self.gid, self.pos0, self.pos1, self.link0, self.link1)\n"
   ]
  },
  {
   "cell_type": "markdown",
   "metadata": {},
   "source": [
    "#### Nearest image convention:\n",
    "Distance and Mean calculation functions that use the nearest image convention."
   ]
  },
  {
   "cell_type": "code",
   "execution_count": 68,
   "metadata": {},
   "outputs": [],
   "source": [
    "def getDistance(p0,p1,boxsize):\n",
    "    # distance between two points in the nearest image convention\n",
    "    # can use multidimensional arrays for distances between multiple points\n",
    "    dist = np.absolute( p1-p0)\n",
    "    for idx in range(dist.shape[-1]):\n",
    "        if len(dist.shape) == 1:\n",
    "            k = np.floor( dist[idx]/(0.5*boxsize[idx]))\n",
    "            dist[idx] -= k*boxsize[idx]\n",
    "        elif len(dist.shape) == 2:\n",
    "            k = np.floor( dist[:,idx]/(0.5*boxsize[idx]))\n",
    "            dist[:,idx] -= k*boxsize[idx]\n",
    "        elif len(dist.shape) == 3:\n",
    "            k = np.floor( dist[:,:,idx]/(0.5*boxsize[idx]))\n",
    "            dist[:,:,idx] -= k*boxsize[idx]\n",
    "    return np.absolute(dist)\n",
    "def getMean(p0,p1,boxsize):\n",
    "    # mean of the two points in the nearest image\n",
    "    dist = np.absolute(p1-p0)\n",
    "    for idx in range(dist.shape[-1]):\n",
    "        if len(dist.shape) == 1:\n",
    "            k = np.floor( dist[idx]/(0.5*boxsize[idx]))\n",
    "            p1[idx] -= k*boxsize[idx]\n",
    "        elif len(dist.shape) == 2:\n",
    "            k = np.floor( dist[:,idx]/(0.5*boxsize[idx]))\n",
    "            p1[:,idx] -= k*boxsize[idx]\n",
    "        elif len(dist.shape) == 3:\n",
    "            k = np.floor( dist[:,:,idx]/(0.5*boxsize[idx]))\n",
    "            p1[:,:,idx] -= k*boxsize[idx]\n",
    "    return (p0 + p1)/2"
   ]
  },
  {
   "cell_type": "markdown",
   "metadata": {},
   "source": [
    "#### Connected Components:\n",
    "We use Depth-First-Search (DFS) to find connected components in an undirected graph. This algorithm can be found <a href=\"https://www.geeksforgeeks.org/connected-components-in-an-undirected-graph/\" target=\"_blank\">here</a>.\n",
    "1) The vertices represent filaments, and the edges represent proteins (links).\n",
    "\n",
    "2) We add to our graph, edges corresponding to proteins.\n",
    "\n",
    "3) We employ DFS:\n",
    "\n",
    "    i) Initialize all vertices as not visited.\n",
    "    ii) Do following for every vertex 'v'.\n",
    "       (a) If 'v' is not visited before, call DFSUtil(v)\n",
    "       (b) Print new line character\n",
    "\n",
    "    DFSUtil(v)\n",
    "       (a) Mark 'v' as visited.\n",
    "       (b) Print 'v'\n",
    "       (c) Do following for every adjacent 'u' of 'v'.\n",
    "             If 'u' is not visited, then recursively call DFSUtil(u)"
   ]
  },
  {
   "cell_type": "code",
   "execution_count": 69,
   "metadata": {},
   "outputs": [],
   "source": [
    "# Python code to get connected components in an undirected graph \n",
    "# This code is contributed by Abhishek Valsan\n",
    "class Graph: \n",
    "      \n",
    "    # init function to declare class variables \n",
    "    def __init__(self,V): \n",
    "        self.V = V \n",
    "        self.adj = [[] for i in range(V)] \n",
    "  \n",
    "    def DFSUtil(self, temp, v, visited): \n",
    "  \n",
    "        # Mark the current vertex as visited \n",
    "        visited[v] = True\n",
    "  \n",
    "        # Store the vertex to list \n",
    "        temp.append(v) \n",
    "  \n",
    "        # Repeat for all vertices adjacent \n",
    "        # to this vertex v \n",
    "        for i in self.adj[v]: \n",
    "            if visited[i] == False: \n",
    "                  \n",
    "                # Update the list \n",
    "                temp = self.DFSUtil(temp, i, visited) \n",
    "        return temp\n",
    "  \n",
    "    # method to add an undirected edge \n",
    "    def addEdge(self, v, w): \n",
    "        self.adj[v].append(w) \n",
    "        self.adj[w].append(v) \n",
    "  \n",
    "    # Method to retrieve connected components \n",
    "    # in an undirected graph \n",
    "    def connectedComponents(self): \n",
    "        visited = [] \n",
    "        cc = [] \n",
    "        for i in range(self.V): \n",
    "            visited.append(False) \n",
    "        for v in range(self.V): \n",
    "            if visited[v] == False: \n",
    "                temp = [] \n",
    "                cc.append(self.DFSUtil(temp, v, visited)) \n",
    "        cc = [sorted(ec) for ec in cc]\n",
    "        cc = sorted(cc, key=len, reverse=True)\n",
    "        return cc"
   ]
  },
  {
   "cell_type": "markdown",
   "metadata": {},
   "source": [
    "#### Confidence interval (non-normal distribution)\n",
    "We do this via the bootstraping non-parametrized method"
   ]
  },
  {
   "cell_type": "code",
   "execution_count": 70,
   "metadata": {},
   "outputs": [],
   "source": [
    "def getCIBootstrap(data,alpha,n_iter=10000):\n",
    "    boot_mu = [np.mean(np.random.choice(x, len(x))) for _ in range(iteration)]\n",
    "    beta = (1-alpha)/2\n",
    "    lo_x_boot = np.percentile(boot_mu, 100*beta)\n",
    "    hi_x_boot = np.percentile(boot_mu, 100*(1-beta))\n",
    "    return (lo_x_boot, hi_x_boot)"
   ]
  },
  {
   "cell_type": "markdown",
   "metadata": {},
   "source": [
    "#### Analysis Book:"
   ]
  },
  {
   "cell_type": "code",
   "execution_count": 71,
   "metadata": {},
   "outputs": [],
   "source": [
    "class AnalysisBook():\n",
    "    def __init__(self,boxsize):\n",
    "        self.boxsize = boxsize\n",
    "    # refpair to all other filament distances\n",
    "    def R2Adistance(self, rfil, fils):\n",
    "        dist = np.zeros(( len(fils)-1,3))\n",
    "        cnt=0\n",
    "        for cnt,f1 in enumerate(fils):\n",
    "            if f1.gid is not rfil.gid:\n",
    "                dist[cnt,:] = getDistance( rfil.GetCenter(self.boxsize), f1.GetCenter(self.boxsize),self.boxsize)\n",
    "                cnt+=1\n",
    "        return dist\n",
    "    # pair to pair distances\n",
    "    def P2Pdistance(self, fils):\n",
    "        # only computer for upper triangle. Then add the transpose to get bottom triangle\n",
    "        p00 = np.zeros(( len(fils), len(fils),3))\n",
    "        p01 = np.zeros(( len(fils), len(fils),3))\n",
    "        p10 = np.zeros(( len(fils), len(fils),3))\n",
    "        p11 = np.zeros(( len(fils), len(fils),3))\n",
    "        for i1,f1 in enumerate(fils):\n",
    "            for i2,f2 in enumerate(fils):\n",
    "                if i1 > i2:\n",
    "                    p00[i1,i2,:] = f1.pos0\n",
    "                    p01[i1,i2,:] = f1.pos1\n",
    "                    p10[i1,i2,:] = f2.pos0\n",
    "                    p11[i1,i2,:] = f2.pos0\n",
    "        c0 = getMean( p00,p01, self.boxsize)\n",
    "        c1 = getMean( p10,p11, self.boxsize)\n",
    "        dist = getDistance(c0,c1,self.boxsize)\n",
    "        dist = dist + np.transpose(dist, (1,0,2) )\n",
    "        return dist\n",
    "    # get center of mass\n",
    "    def COM(self, fils):\n",
    "        sumList = np.zeros((1,3))\n",
    "        for fil in fils:\n",
    "            sumList += fil.GetLength(self.boxsize)*getDistance(np.array([0,0,0]), fil.GetCenter(self.boxsize), self.boxsize )\n",
    "        COM = sumList / np.sum( [f.GetLength(self.boxsize) for f in fils])\n",
    "        return COM[0]\n",
    "    # Get nematic tensor\n",
    "    def NematicTensor( self,fils):\n",
    "        orientList = []\n",
    "        for fil in fils:\n",
    "            orientList.append(fil.GetOrientation( self.boxsize) )\n",
    "        PList = np.array(orientList)\n",
    "        QList = np.array([np.outer(p, p) for p in PList])\n",
    "        polarOrder = np.mean(PList, axis=0)\n",
    "        nematicOrder = np.mean(QList, axis=0) - np.identity(3)/3\n",
    "        return nematicOrder, polarOrder\n",
    "    def NematicOrder( self,fils):\n",
    "        Q,_ = self.NematicTensor(fils)\n",
    "        return np.sqrt(np.tensordot(Q, Q)*1.5)\n",
    "    # Get reference frame nematic basis vectors\n",
    "    def GetBasisVectors( self,fils):\n",
    "        # basis vectors are the eigenvectors of the nematic tensor Q in order of magnitude of their eigenvalues\n",
    "        Q,_ = self.NematicTensor(fils)\n",
    "        w,v = np.linalg.eig( Q)\n",
    "        idx = np.argsort(np.sqrt(w*w))\n",
    "        v = v[:,idx]\n",
    "        w = w[idx]\n",
    "        idx = [0,1,2]\n",
    "        if np.any( np.around( np.cross( v[:,0], v[:,1]),2) != np.around( v[:,2],2) ):\n",
    "            idx1 = idx[0]\n",
    "            idx2 = idx[1]\n",
    "            idx = [idx2, idx1, idx[2]]\n",
    "        w = w[idx]\n",
    "        v = v[:,idx]  \n",
    "        return w,v\n",
    "    def FilsIdxInsideTac_T1_T2( self, tilist,t1,t2):\n",
    "    # find the filaments that are remain inside a tactoid between times t1 and t2\n",
    "    # the ids of filaments inside tac are stored in tilist\n",
    "        cc = tilist[t1]\n",
    "        for tt in range(t1, t2+1):\n",
    "            cc = list( set.intersection(set(cc), set(tilist[tt])))\n",
    "            #cc = [val for val in tilist[tt] if val in cc] \n",
    "        return cc\n",
    "    def FilsIdxOutsideTac_T1_T2( self, tilist,t1,t2, nF):\n",
    "    # find the filaments that remain outside a tactoid between times t1 and t2\n",
    "    # the ids of filaments inside tac are stored in tilist\n",
    "        cc = list(range(0,nF))\n",
    "        for tt in range(t1, t2+1):\n",
    "            for xx in tilist[tt]:\n",
    "                if xx in cc:\n",
    "                    cc.remove(xx)\n",
    "        return cc\n",
    "    def FilsInsideTac( self, flist, idx):\n",
    "    # find the filaments that are remain inside a tactoid between times t1 and t2\n",
    "    # the ids of filaments inside tac are stored in tilist\n",
    "        ff = []\n",
    "        for ec in idx:\n",
    "            ff.append( flist[ec])\n",
    "        return ff\n",
    "    def P2PInsideTac( self, p2p, idx):\n",
    "        # returns a mini matrix corresponding to the pairs inside tac. Needs the full p2p matrix.\n",
    "        \n",
    "        # delete rows and column not corresponding to those in idx\n",
    "        rm = list( set.difference(set( range( p2p.shape[0]) ), set( idx )))\n",
    "        #rm = [xx for xx in range( p2p.shape[0]) if xx not in idx]\n",
    "        p2pdel = np.delete( p2p, rm, axis=0)\n",
    "        p2pdel = np.delete( p2pdel, rm, axis=1)\n",
    "        return p2pdel"
   ]
  },
  {
   "cell_type": "markdown",
   "metadata": {},
   "source": [
    "### SCRIPT:\n",
    "#### Initialization\n",
    "We begin by loading the filament and protein data from files and storing them as objects."
   ]
  },
  {
   "cell_type": "code",
   "execution_count": 72,
   "metadata": {},
   "outputs": [
    {
     "name": "stdout",
     "output_type": "stream",
     "text": [
      "Simulation details:\n",
      "  Filaments: 400\n",
      "  Xlinks: 2400\n",
      "  Frames: 150\n"
     ]
    }
   ],
   "source": [
    "# Get key to sort through file indices\n",
    "def fileKey(f):\n",
    "    k = int(f[f.rfind(\"_\")+1:f.rfind(\".\")])\n",
    "    return k\n",
    "\n",
    "# find filament files\n",
    "files = glob.glob( os.path.join(tpath, 'result/result*/SylinderAscii_*.dat'))\n",
    "files = sorted(files, key=fileKey)\n",
    "ftlist = []\n",
    "for fil in files:\n",
    "    flist = []\n",
    "    with open(fil, 'r') as file1:\n",
    "        for line in file1:\n",
    "            if line.startswith('C'):\n",
    "                data = line.split()\n",
    "                gid = int(data[1])\n",
    "                radius = float(data[2])\n",
    "                pos0 = np.array([float(data[3]), float(data[4]), float(data[5])])\n",
    "                pos1 = np.array([float(data[6]), float(data[7]), float(data[8])])\n",
    "                flist.append( Filament(pos0, pos1, radius,gid))\n",
    "    ftlist.append(flist)\n",
    "                         \n",
    "# Read protein file\n",
    "files = glob.glob( os.path.join(tpath, 'result/result*/ProteinAscii_*.dat'))\n",
    "files = sorted(files, key=fileKey)\n",
    "ptlist = []\n",
    "for fil in files:\n",
    "    plist = []\n",
    "    with open(fil, 'r') as file2:\n",
    "        for line in file2:\n",
    "            if line.startswith('P'):\n",
    "                data = line.split()\n",
    "                gid = int(data[1])\n",
    "                pos0 = np.array([float(data[3]), float(data[4]), float(data[5])])\n",
    "                pos1 = np.array([float(data[6]), float(data[7]), float(data[8])])\n",
    "                link0 = int(data[9])\n",
    "                link1 = int(data[10])\n",
    "                plist.append( Protein(pos0, pos1, link0, link1, gid))\n",
    "    ptlist.append(plist)\n",
    "    \n",
    "# Toss out zeroth timestep\n",
    "ftlist.pop(0)\n",
    "ptlist.pop(0)\n",
    "\n",
    "AC = AnalysisBook(boxsize)\n",
    "nT = len(ftlist)\n",
    "nF = len(ftlist[0])\n",
    "nP = len(ptlist[0])\n",
    "print('Simulation details:\\n  Filaments: {0}\\n  Xlinks: {1}\\n  Frames: {2}'.format(nF,nP,nT))"
   ]
  },
  {
   "cell_type": "markdown",
   "metadata": {},
   "source": [
    "#### Filaments inside biggest cluster"
   ]
  },
  {
   "cell_type": "code",
   "execution_count": 73,
   "metadata": {},
   "outputs": [
    {
     "data": {
      "image/png": "[encoded data removed]",
      "text/plain": [
       "<Figure size 432x288 with 1 Axes>"
      ]
     },
     "metadata": {
      "needs_background": "light"
     },
     "output_type": "display_data"
    }
   ],
   "source": [
    "if not analyze_bulk:\n",
    "    cct = []\n",
    "    cct2 = np.zeros( (nT,nF),dtype=bool)\n",
    "    for it in range(nT):\n",
    "\n",
    "        # Create a graph for filaments\n",
    "        g = Graph( len(ftlist[it]) ); \n",
    "\n",
    "        # add edges to the graph (each edge represents a binding xlink)\n",
    "        for p in ptlist[it]:\n",
    "            if p.link0 is not -1 and p.link1 is not -1:\n",
    "                g.addEdge(p.link0, p.link1) \n",
    "\n",
    "        # find connected components\n",
    "        cc = g.connectedComponents()\n",
    "        cct2[[it for i in range(len(cc[0]))], cc[0]] = True\n",
    "        cct.append( cc[0])\n",
    "else:\n",
    "    cct = [range(nF) for ii in range(nT)]\n",
    "\n",
    "    \n",
    "ftlist_trimmed = []\n",
    "for row in cct2:\n",
    "    fff = []\n",
    "    idx = np.where(row)[0].tolist()\n",
    "    for el in idx:\n",
    "        fff.append( ftlist[it][el])\n",
    "    ftlist_trimmed.append( fff)\n",
    "    \n",
    "if run_visualization:\n",
    "    %matplotlib inline\n",
    "    fig,ax = plt.subplots()\n",
    "    nft = [len(ii)/nF for ii in cct]\n",
    "    ax.plot( dt*np.arange(nT) , nft, color=cols['cluster'], linewidth=lw)\n",
    "    ax.set(xlabel='time (s)', ylabel='Fraction inside cluster', title='Fraction of filaments inside cluster', ylim=[-0.05,1.05])\n",
    "    fig.suptitle(ftitle)\n",
    "    fig.savefig( os.path.join(rpath,'fractionInCluster.pdf') , bbox_inches='tight', dpi=600)"
   ]
  },
  {
   "cell_type": "markdown",
   "metadata": {},
   "source": [
    "#### Coordinate transformation:"
   ]
  },
  {
   "cell_type": "code",
   "execution_count": 18,
   "metadata": {},
   "outputs": [
    {
     "data": {
      "text/plain": [
       "20.834659814834595"
      ]
     },
     "execution_count": 18,
     "metadata": {},
     "output_type": "execute_result"
    }
   ],
   "source": [
    "t0 = time.time()\n",
    "ftlist2 = copy.deepcopy( ftlist)\n",
    "# ptlist2 = copy.deepcopy( ptlist)\n",
    "world_origin = np.array([0,0,0])\n",
    "world_vec = np.identity(3)\n",
    "    \n",
    "for it in range(nT):\n",
    "\n",
    "    obj_origin = AC.COM( ftlist_trimmed[it]).transpose()\n",
    "    w,obj_vec = AC.GetBasisVectors( ftlist_trimmed[it])\n",
    "    T = (world_origin - obj_origin)\n",
    "    \n",
    "    # Get vector perp to z-axis and nematic director\n",
    "    vperp = pyro.perpendicular_to_vectors( world_vec[:,-1], obj_vec[:,-1])\n",
    "    if np.linalg.norm( vperp) >0.00001:\n",
    "        # rotation needed\n",
    "        vperp = vperp / np.linalg.norm(vperp)\n",
    "        theta = pyro.angle_between_vectors( world_vec[:,-1], obj_vec[:,-1])\n",
    "        axis_angle = np.concatenate( (vperp, -np.array([theta]) ))\n",
    "        q = pyro.quaternion_from_axis_angle( axis_angle)\n",
    "        \n",
    "        # transfrom filaments\n",
    "        for fil in ftlist2[it]:\n",
    "            fil.pos0 = pyro.q_prod_vector( q, fil.pos0 +T.transpose() )\n",
    "            fil.pos1 = pyro.q_prod_vector( q, fil.pos1 +T.transpose() )\n",
    "        # transfrom proteins\n",
    "#        for prot in ptlist2[it]:\n",
    "#            prot.pos0 = pyro.q_prod_vector( q, prot.pos0 +T.transpose() )\n",
    "#            prot.pos1 = pyro.q_prod_vector( q, prot.pos0 +T.transpose() )\n",
    "            \n",
    "    else:\n",
    "        # transfrom filaments\n",
    "        for fil in ftlist2[it]:\n",
    "            fil.pos0 = fil.pos0 +T.transpose()\n",
    "            fil.pos1 = fil.pos1 +T.transpose()\n",
    "        # transfrom proteins\n",
    "#        for prot in ptlist2[it]:\n",
    "#            prot.pos0 = prot.pos0 +T.transpose()\n",
    "#            prot.pos1 = prot.pos0 +T.transpose()\n",
    "\n",
    "if run_tests and run_visualization:\n",
    "    times = random.sample( range(nT), 1)\n",
    "    for it in times:\n",
    "        fig = plt.subplots(figsize=(4,4))\n",
    "        ax = plt.axes(projection='3d')\n",
    "        for fil in ftlist[it]:\n",
    "            fil.Plot3(ax, col=\"blue\")\n",
    "        for fil in ftlist2[it]:\n",
    "            fil.Plot3(ax, col=\"red\")\n",
    "        ax.set_xlim3d(-1,2)\n",
    "        ax.set_ylim3d(-1,2)\n",
    "        ax.set_zlim3d(-1,2)\n",
    "        ax.set(xlabel='X', ylabel='Y', zlabel='Z')\n",
    "t1 = time.time()\n",
    "t1-t0"
   ]
  },
  {
   "cell_type": "markdown",
   "metadata": {},
   "source": [
    "#### Pair-pair separation:"
   ]
  },
  {
   "cell_type": "code",
   "execution_count": null,
   "metadata": {},
   "outputs": [],
   "source": [
    "# Calculate and store pair-pair filament distances for all filaments for all time\n",
    "ppt = []\n",
    "for it in range(nT):\n",
    "    ppt.append( AC.P2Pdistance( ftlist[it]) )"
   ]
  },
  {
   "cell_type": "code",
   "execution_count": null,
   "metadata": {},
   "outputs": [],
   "source": [
    "def PairSeparation( p2pmat):\n",
    "    pp = np.sum( p2pmat**2, axis=2)\n",
    "    pp = np.sqrt( pp[ np.triu_indices(pp.shape[0], k = 1)] )\n",
    "    mu = np.mean(pp)\n",
    "    stderr = np.std(pp)/np.sqrt(pp.size-1)\n",
    "    return mu,mu-2*stderr,mu+2*stderr\n",
    "\n",
    "# Bulk\n",
    "pp = np.zeros((nT,3))\n",
    "for it in range(nT):\n",
    "    pp[it,0], pp[it,1],pp[it,2] = PairSeparation( ppt[it])\n",
    "    \n",
    "fig,ax = plt.subplots()\n",
    "ax.plot( dt*np.arange(nT), pp[:,0], color=cols['bulk'], label='bulk', linewidth=lw)\n",
    "ax.fill_between( dt*np.arange(nT), pp[:,1], pp[:,2], color='red', alpha=0.1)\n",
    "\n",
    "# Env\n",
    "#pp = np.zeros((nT,3))\n",
    "#for it in range(nT):\n",
    "#    # idx of environment\n",
    "#    idx = [xx for xx in range(nF) if xx not in cct[it]]\n",
    "#    pp[it,0], pp[it,1],pp[it,2] = PairSeparation( AC.P2PInsideTac(ppt[it], idx))\n",
    "#ax.plot( dt*np.arange(nT), pp[:,0], color=cols['env'], label='env', linewidth=lw)\n",
    "#ax.fill_between( dt*np.arange(nT), pp[:,1], pp[:,2], color='blue', alpha=0.1)\n",
    "\n",
    "# Cluster\n",
    "pp = np.zeros((nT,3))\n",
    "for it in range(nT):\n",
    "    pp[it,0], pp[it,1],pp[it,2] = PairSeparation( AC.P2PInsideTac(ppt[it], cct[it]))\n",
    "\n",
    "ax.plot( dt*np.arange(nT), pp[:,0], color=cols['cluster'], label='cluster', linewidth=lw)\n",
    "ax.fill_between( dt*np.arange(nT), pp[:,1], pp[:,2], color='green', alpha=0.1)\n",
    "ax.set(xlabel='time (s)', ylabel='separation ($\\mu$m)', title='Pair-pair separation')\n",
    "fig.suptitle(ftitle)\n",
    "fig.legend()\n",
    "fig.savefig( os.path.join(rpath,'mean_separation.pdf') , bbox_inches='tight', dpi=600)\n",
    "\n",
    "# Cluster only\n",
    "pp = np.zeros((nT,3))\n",
    "for it in range(nT):\n",
    "    pp[it,0], pp[it,1],pp[it,2] = PairSeparation( AC.P2PInsideTac(ppt[it], cct[it]))\n",
    "fig,ax = plt.subplots()\n",
    "ax.plot( dt*np.arange(nT), pp[:,0], color=cols['cluster'], label='cluster', linewidth=lw)\n",
    "ax.fill_between( dt*np.arange(nT), pp[:,1], pp[:,2], color=cols['cluster'], alpha=0.1)\n",
    "ax.set(xlabel='time (s)', ylabel='separation ($\\mu$m)', title='Pair-pair separation (cluster)')\n",
    "fig.suptitle(ftitle)\n",
    "fig.savefig( os.path.join(rpath,'mean_separation_cluster.pdf') , bbox_inches='tight', dpi=600)"
   ]
  },
  {
   "cell_type": "markdown",
   "metadata": {},
   "source": [
    "#### Mean square displacement of pairs:"
   ]
  },
  {
   "cell_type": "code",
   "execution_count": null,
   "metadata": {},
   "outputs": [],
   "source": [
    "lags = range(1,nT-1)\n",
    "msd_lag_time_fil = []\n",
    "for lag in lags:\n",
    "    msd_time_fil = None\n",
    "    time_origins = range(nT)\n",
    "    # Get filaments inside tactoid at both reference and lagged time\n",
    "    for iT in time_origins:\n",
    "        if iT+lag < nT:\n",
    "            \n",
    "            # get filaments that are within the cluster for the entire time between iT and iT+lag\n",
    "            idxIn = AC.FilsIdxInsideTac_T1_T2( cct,iT, iT+lag)\n",
    "            v1 = AC.P2PInsideTac( ppt[iT], idxIn )\n",
    "            v2 = AC.P2PInsideTac( ppt[iT+lag], idxIn )\n",
    "            vals = np.sum((v1-v2)**2, axis=2)\n",
    "            vals = vals[ np.triu_indices(vals.shape[0], k = 1)]\n",
    "            if msd_time_fil is None:\n",
    "                msd_time_fil = vals.flatten()\n",
    "            else:\n",
    "                msd_time_fil = np.concatenate( (msd_time_fil, vals.flatten()))\n",
    "    msd_lag_time_fil.append(msd_time_fil)"
   ]
  },
  {
   "cell_type": "code",
   "execution_count": null,
   "metadata": {},
   "outputs": [],
   "source": [
    "fig, ax = plt.subplots()\n",
    "# Cluster\n",
    "pp = np.zeros((len(lags),3))\n",
    "for idx,tt in enumerate( msd_lag_time_fil):\n",
    "    pp[idx,0] = np.mean( tt)\n",
    "    pp[idx,1] = pp[idx,0] - 2*np.std( tt)/np.sqrt(tt.size-1)\n",
    "    pp[idx,2] = pp[idx,1] + 2*np.std( tt)/np.sqrt(tt.size-1)\n",
    "    \n",
    "ax.plot( dt*np.array(lags), pp[:,0],'-', color=cols['cluster'], label='cluster', linewidth=lw)\n",
    "ax.fill_between(dt*np.array(lags), pp[:,1], pp[:,2], color=cols['cluster'], alpha=0.1)\n",
    "ax.set(xlabel='lag (s)', ylabel='$MSD_{pairs}(\\mu m^2)$', title='Mean square displacement (pairs)')\n",
    "fig.suptitle(ftitle)\n",
    "fig.savefig( os.path.join(rpath,'msdz_cluster.pdf') , bbox_inches='tight', dpi=600)"
   ]
  },
  {
   "cell_type": "markdown",
   "metadata": {},
   "source": [
    "#### Mean square displacement (Z):"
   ]
  },
  {
   "cell_type": "code",
   "execution_count": null,
   "metadata": {},
   "outputs": [],
   "source": [
    "# Calculate and store pair-pair filament distances for all filaments for all time\n",
    "ppt2 = []\n",
    "for it in range(nT):\n",
    "    ppt2.append( AC.P2Pdistance( ftlist2[it]) )"
   ]
  },
  {
   "cell_type": "code",
   "execution_count": null,
   "metadata": {},
   "outputs": [],
   "source": [
    "doit = False\n",
    "if doit:\n",
    "    # Find mean square displacement of filament centers inside tactoid, outside and in bulk\n",
    "    lags = range(1,nT-1)\n",
    "    msd_cluster = []\n",
    "    msd_bulk = []\n",
    "    msd_env = []\n",
    "\n",
    "    for lag in lags:\n",
    "        msdt_c = None\n",
    "        msdt_b = None\n",
    "        msdt_e = None\n",
    "        time_origins = range(nT)\n",
    "        # Get filaments inside tactoid at both reference and lagged time\n",
    "        for iT in time_origins:\n",
    "            if iT+lag < nT:\n",
    "\n",
    "                # Bulk\n",
    "                vals_bulk = ( ppt2[iT]-ppt2[iT+lag] )[:,:,2]**2\n",
    "                vals_bulk = vals_bulk[ np.triu_indices(vals_bulk.shape[0], k = 1)]\n",
    "                if msdt_b is None:\n",
    "                    msdt_b = vals_bulk.flatten()\n",
    "                else:\n",
    "                    msdt_b = np.concatenate( (msdt_b, vals_bulk.flatten()))\n",
    "\n",
    "                # Cluster\n",
    "                # get filaments that are within the cluster for the entire time between iT and iT+lag\n",
    "                idxIn = AC.FilsIdxInsideTac_T1_T2( cct,iT, iT+lag)\n",
    "                v1 = AC.P2PInsideTac( ppt2[iT], idxIn )\n",
    "                v2 = AC.P2PInsideTac( ppt2[iT+lag], idxIn )\n",
    "                vals_cluster = ( v1-v2 )[:,:,2]**2\n",
    "                vals_cluster = vals_cluster[ np.triu_indices(vals_cluster.shape[0], k = 1)]\n",
    "                if msdt_c is None:\n",
    "                    msdt_c = vals_cluster.flatten()\n",
    "                else:\n",
    "                    msdt_c = np.concatenate( (msdt_c, vals_cluster.flatten()))\n",
    "\n",
    "                # Environment\n",
    "                # get filaments that are outside the cluster for the entire time between iT and iT+lag\n",
    "                idxIn = AC.FilsIdxOutsideTac_T1_T2( cct,iT, iT+lag,nF)\n",
    "                v1 = AC.P2PInsideTac( ppt2[iT], idxIn )\n",
    "                v2 = AC.P2PInsideTac( ppt2[iT+lag], idxIn )\n",
    "                vals_env = ( v1-v2 )[:,:,2]**2\n",
    "                vals_env = vals_env[ np.triu_indices(vals_env.shape[0], k = 1)]\n",
    "                if msdt_e is None:\n",
    "                    msdt_e = vals_env.flatten()\n",
    "                else:\n",
    "                    msdt_e = np.concatenate( (msdt_e, vals_env.flatten()))\n",
    "        msd_cluster.append( msdt_c)\n",
    "        msd_bulk.append( msdt_b)\n",
    "        msd_env.append( msdt_e)"
   ]
  },
  {
   "cell_type": "code",
   "execution_count": null,
   "metadata": {},
   "outputs": [],
   "source": [
    "doit = False\n",
    "if doit:\n",
    "    fig, ax = plt.subplots()\n",
    "\n",
    "    # Bulk\n",
    "    pp = np.zeros((len(lags),3))\n",
    "    for idx,tt in enumerate( msd_bulk):\n",
    "        pp[idx,0] = np.mean( tt)\n",
    "        pp[idx,1] = pp[idx,0] - 2*np.std( tt)/np.sqrt(tt.size-1)\n",
    "        pp[idx,2] = pp[idx,1] + 2*np.std( tt)/np.sqrt(tt.size-1)  \n",
    "    #ax.plot( dt*np.array(lags), pp[:,0],'-', color=cols['bulk'], label='bulk', linewidth=lw)\n",
    "    #ax.fill_between(dt*np.array(lags), pp[:,1], pp[:,2], color=cols['bulk'], alpha=0.1)\n",
    "\n",
    "    # Env\n",
    "    pp = np.zeros((len(lags),3))\n",
    "    for idx,tt in enumerate( msd_env):\n",
    "        if len(tt)==0:\n",
    "            pp[idx,:] = np.array([0,0,0])\n",
    "        else:\n",
    "            pp[idx,0] = np.mean( tt)\n",
    "            pp[idx,1] = pp[idx,0] - 2*np.std( tt)/np.sqrt(tt.size-1)\n",
    "            pp[idx,2] = pp[idx,1] + 2*np.std( tt)/np.sqrt(tt.size-1)  \n",
    "    #ax.plot( dt*np.array(lags), pp[:,0],'-', color=cols['env'], label='env', linewidth=lw)\n",
    "    #ax.fill_between(dt*np.array(lags), pp[:,1], pp[:,2], color=cols['env'], alpha=0.1)\n",
    "\n",
    "    # Cluster\n",
    "    pp = np.zeros((len(lags),3))\n",
    "    for idx,tt in enumerate( msd_cluster):\n",
    "        pp[idx,0] = np.mean( tt)\n",
    "        pp[idx,1] = pp[idx,0] - 2*np.std( tt)/np.sqrt(tt.size-1)\n",
    "        pp[idx,2] = pp[idx,1] + 2*np.std( tt)/np.sqrt(tt.size-1)\n",
    "\n",
    "    ax.plot( dt*np.array(lags), pp[:,0],'-', color=cols['cluster'], label='cluster', linewidth=lw)\n",
    "    ax.fill_between(dt*np.array(lags), pp[:,1], pp[:,2], color=cols['cluster'], alpha=0.1)\n",
    "    ax.set(xlabel='lag (s)', ylabel='$MSD_{Z}(\\mu m^2)$', title='Mean square displacement (Z)')\n",
    "    fig.suptitle(ftitle)\n",
    "    #fig.legend()\n",
    "    fig.savefig( os.path.join(rpath,'msdz_cluster.pdf') , bbox_inches='tight', dpi=600)"
   ]
  },
  {
   "cell_type": "markdown",
   "metadata": {},
   "source": [
    "#### Nematic Order"
   ]
  },
  {
   "cell_type": "code",
   "execution_count": null,
   "metadata": {},
   "outputs": [],
   "source": [
    "AC = AnalysisBook(boxsize)\n",
    "# bulk\n",
    "Sall = []\n",
    "for it in range(nT):\n",
    "    Sall.append( AC.NematicOrder( ftlist[it]))\n",
    "    \n",
    "fig,ax = plt.subplots(figsize=(6,6))\n",
    "ax.plot(dt*np.arange(nT), Sall, color=cols['bulk'], linewidth=lw,label='bulk')\n",
    "\n",
    "# cluster\n",
    "Sall = []\n",
    "for it in range(nT):\n",
    "    fils = AC.FilsInsideTac( ftlist[it], cct[it])\n",
    "    Sall.append( AC.NematicOrder( fils))\n",
    "\n",
    "ax.plot(dt*np.arange(nT), Sall, color=cols['cluster'], linewidth=lw,label='cluster')\n",
    "ax.set(xlabel='Time(s)', ylabel='Nematic Order S', title='Nematic Order evolution',ylim=[-0.1,1.1])\n",
    "fig.legend()\n",
    "plt.suptitle(ftitle)\n",
    "fig.savefig( os.path.join(rpath,'nematicOrder.pdf') , bbox_inches='tight', dpi=600)\n",
    "\n",
    "# Plot theta evolution with time\n",
    "theta = np.zeros(nT)\n",
    "for it in range(nT):\n",
    "    world_vec = np.identity(3)\n",
    "    w,obj_vec = AC.GetBasisVectors( ftlist_trimmed[it])    \n",
    "    theta[it] = pyro.angle_between_vectors( world_vec[:,-1], obj_vec[:,-1])\n",
    "\n",
    "fig,ax = plt.subplots(figsize=(6,6))\n",
    "ax.plot(dt*np.arange(nT), theta, color=cols['cluster'], linewidth=lw,label='cluster')\n",
    "ax.set(xlabel='Time(s)', ylabel='theta (rad)', title='Angle b/w Z and nematic eigenvector')\n",
    "plt.suptitle(ftitle)"
   ]
  },
  {
   "cell_type": "markdown",
   "metadata": {},
   "source": [
    "#### Xlinks:"
   ]
  },
  {
   "cell_type": "code",
   "execution_count": null,
   "metadata": {
    "scrolled": false
   },
   "outputs": [],
   "source": [
    "# Energy\n",
    "k=50\n",
    "restL = 0.05\n",
    "xlinkE = np.zeros((nT))\n",
    "xlinkE_err = np.zeros((nT))\n",
    "for iT in range(nT):\n",
    "    vals = [ 0.5*k*(xlink.GetLength(boxsize)-restL)**2 for xlink in ptlist[iT]]\n",
    "    xlinkE[iT] = np.mean( vals)\n",
    "    xlinkE_err[iT] = np.std(vals)\n",
    "fig,ax = plt.subplots(figsize=(6,6))\n",
    "ax.plot(dt*np.arange(nT), xlinkE, color=cols['cluster'], linewidth=lw,)\n",
    "ax.fill_between(dt*np.arange(nT), xlinkE - xlinkE_err, xlinkE + xlinkE_err, color=cols['cluster'], alpha=0.1)\n",
    "ax.set(xlabel='time (s)', ylabel='mean energy ($pN. \\mu m$)', title='Xlink energy vs time')\n",
    "fig.suptitle(ftitle)\n",
    "fig.savefig( os.path.join(rpath,'xlinkenergy.pdf') , bbox_inches='tight', dpi=600)\n",
    "\n",
    "# Distance\n",
    "restL = 0.05\n",
    "xlinkD = np.zeros((nT))\n",
    "xlinkD_err = np.zeros((nT))\n",
    "for iT in range(nT):\n",
    "    com = AC.COM( ftlist_trimmed[iT])\n",
    "    vals = [ np.linalg.norm( getDistance( com, xlink.GetCenter(boxsize), boxsize)) for xlink in ptlist[iT]]\n",
    "    xlinkD[iT] = np.mean( vals)\n",
    "    xlinkD_err[iT] = np.std( vals)\n",
    "fig,ax = plt.subplots(figsize=(6,6))\n",
    "ax.plot(dt*np.arange(nT), xlinkD, color=cols['cluster'], linewidth=lw,)\n",
    "ax.fill_between(dt*np.arange(nT), xlinkD - xlinkD_err, xlinkD + xlinkD_err, color=cols['cluster'], alpha=0.1)\n",
    "ax.set(xlabel='time (s)', ylabel='mean distance ($\\mu m$)', title='Xlink distance from CM')\n",
    "fig.suptitle(ftitle)\n",
    "fig.savefig( os.path.join(rpath,'xlinkdistance_cm.pdf') , bbox_inches='tight', dpi=600)"
   ]
  },
  {
   "cell_type": "markdown",
   "metadata": {},
   "source": [
    "### Testing"
   ]
  },
  {
   "cell_type": "code",
   "execution_count": null,
   "metadata": {},
   "outputs": [],
   "source": [
    "# Plot trajectory of a single particle over time\n",
    "if run_tests:\n",
    "    fig = plt.subplots(figsize=(4,4))\n",
    "    ax = plt.axes(projection='3d')\n",
    "    for nn in range(1):\n",
    "        x = [ ff[nn].GetCenter(boxsize)[0] for ff in ftlist]\n",
    "        y = [ ff[nn].GetCenter(boxsize)[1] for ff in ftlist]\n",
    "        z = [ ff[nn].GetCenter(boxsize)[2] for ff in ftlist]\n",
    "        ax.plot3D(x,y,z)\n",
    "        ax.set(xlabel='X', ylabel='Y', zlabel='Z')\n",
    "        \n",
    "    fig = plt.subplots(figsize=(4,4))\n",
    "    ax = plt.axes(projection='3d')\n",
    "    for nn in range(1):\n",
    "        x = [ ff[nn].GetCenter(boxsize)[0] for ff in ftlist2]\n",
    "        y = [ ff[nn].GetCenter(boxsize)[1] for ff in ftlist2]\n",
    "        z = [ ff[nn].GetCenter(boxsize)[2] for ff in ftlist2]\n",
    "        ax.plot3D(x,y,z)\n",
    "        ax.set(xlabel='X', ylabel='Y', zlabel='Z')"
   ]
  },
  {
   "cell_type": "code",
   "execution_count": null,
   "metadata": {},
   "outputs": [],
   "source": [
    "if run_tests:\n",
    "    # Check getDistance\n",
    "    for fil in ftlist2[20]:\n",
    "        aa = fil.pos0\n",
    "        ab = fil.pos1\n",
    "        d1 = getDistance(aa,ab , boxsize)\n",
    "        d2 = np.absolute(aa-ab)\n",
    "        if np.any(d1!=d2):\n",
    "            print('d1 = {0} , d2 = {1}'.format(d1,d2))"
   ]
  },
  {
   "cell_type": "code",
   "execution_count": null,
   "metadata": {
    "scrolled": true
   },
   "outputs": [],
   "source": [
    "if run_tests:\n",
    "    # Plot distance from origin befroe and after transformation\n",
    "    nbin=10\n",
    "    dx = []\n",
    "    dy=[]\n",
    "    dz=[]\n",
    "    it = 0\n",
    "    for fil in ftlist[it]:\n",
    "        cen = np.absolute( fil.GetCenter(boxsize))\n",
    "        dx.append( cen[0] )\n",
    "        dy.append( cen[1] )\n",
    "        dz.append( cen[2] )\n",
    "\n",
    "    fig,ax =plt.subplots(2,3,figsize=(15,10))\n",
    "    ax[0,0].hist(dx, bins=nbin)\n",
    "    ax[0,1].hist(dy, bins=nbin)\n",
    "    ax[0,2].hist(dz, bins=nbin)\n",
    "\n",
    "    dx = []\n",
    "    dy=[]\n",
    "    dz=[]\n",
    "    it = 10\n",
    "    for fil in ftlist2[it]:\n",
    "        cen = np.absolute( fil.GetCenter(boxsize))\n",
    "        dx.append( cen[0] )\n",
    "        dy.append( cen[1] )\n",
    "        dz.append( cen[2] )\n",
    "    ax[1,0].hist(dx, bins=nbin)\n",
    "    ax[1,1].hist(dy, bins=nbin)\n",
    "    ax[1,2].hist(dz, bins=nbin)"
   ]
  },
  {
   "cell_type": "code",
   "execution_count": null,
   "metadata": {},
   "outputs": [],
   "source": [
    "iT=0\n",
    "\n",
    "t0 = time.time()\n",
    "obj_origin = AC.COM( ftlist_trimmed[it]).transpose()\n",
    "print('time elapsed = {}'.format(time.time()-t0))\n",
    "\n",
    "t0 = time.time()\n",
    "w,obj_vec = AC.GetBasisVectors( ftlist_trimmed[it])\n",
    "T = (world_origin - obj_origin)\n",
    "print('time elapsed = {}'.format(time.time()-t0))\n",
    "\n",
    "t0 = time.time()\n",
    "# Get vector perp to z-axis and nematic director\n",
    "vperp = pyro.perpendicular_to_vectors( world_vec[:,-1], obj_vec[:,-1])\n",
    "print('time elapsed = {}'.format(time.time()-t0))\n",
    "\n",
    "if np.linalg.norm( vperp) >0.00001:\n",
    "    t0 = time.time()\n",
    "    # rotation needed\n",
    "    vperp = vperp / np.linalg.norm(vperp)\n",
    "    theta = pyro.angle_between_vectors( world_vec[:,-1], obj_vec[:,-1])\n",
    "    axis_angle = np.concatenate( (vperp, -np.array([theta]) ))\n",
    "    q = pyro.quaternion_from_axis_angle( axis_angle)\n",
    "    print('time elapsed = {}'.format(time.time()-t0))\n",
    "\n",
    "    t0 = time.time()\n",
    "    # transfrom filaments\n",
    "    for fil in ftlist2[it]:\n",
    "        fil.pos0 = pyro.q_prod_vector( q, fil.pos0 +T.transpose() )\n",
    "        fil.pos1 = pyro.q_prod_vector( q, fil.pos1 +T.transpose() )\n",
    "    print('time elapsed = {}'.format(time.time()-t0))\n",
    "\n",
    "else:\n",
    "    # transfrom filaments\n",
    "    for fil in ftlist2[it]:\n",
    "        fil.pos0 = fil.pos0 +T.transpose()\n",
    "        fil.pos1 = fil.pos1 +T.transpose()"
   ]
  },
  {
   "cell_type": "code",
   "execution_count": null,
   "metadata": {},
   "outputs": [],
   "source": [
    "t0 = time.time()\n",
    "ppt = []\n",
    "for it in range(nT):\n",
    "    ppt.append( AC.P2Pdistance( ftlist[it]) )\n",
    "print('time elapsed = {}'.format(time.time()-t0))"
   ]
  },
  {
   "cell_type": "code",
   "execution_count": null,
   "metadata": {},
   "outputs": [],
   "source": [
    "t0 = time.time()\n",
    "ppt = np.zeros((nT,nF,nF,3))\n",
    "for it in range(20):\n",
    "    ppt[iT,:,:,:] = AC.P2Pdistance( ftlist[it])\n",
    "print('time elapsed = {}'.format(time.time()-t0))"
   ]
  },
  {
   "cell_type": "code",
   "execution_count": null,
   "metadata": {},
   "outputs": [],
   "source": [
    "# centers\n",
    "t0 = time.time()\n",
    "\n",
    "c = np.zeros( (nT,nF,3))\n",
    "for it in range(nT):\n",
    "    for jf in range(nF):\n",
    "        c[it,jf,:] = getMean( ftlist[it][jf].pos0, ftlist[it][jf].pos1, boxsize)\n",
    "\n",
    "# Calculate and store mean pair-pair filament distances for all filaments for all time\n",
    "ppt = np.zeros( (nT, nF))\n",
    "for it in range(3):\n",
    "    p2p = np.zeros((nF,nF))\n",
    "    for jf in range(nF):\n",
    "        res = 0\n",
    "        # get distance to all other filaments\n",
    "        for jf2 in range(nF):\n",
    "            if jf==jf2:\n",
    "                continue\n",
    "            elif p2p[jf2,jf] == 0:\n",
    "                res2=0\n",
    "                for dd in getDistance( c[it,jf,:], c[it,jf2,:],boxsize):\n",
    "                    res2 += dd**2\n",
    "                p2p[jf,jf2] = np.sqrt(res2)\n",
    "                res += p2p[jf,jf2]\n",
    "            else:\n",
    "                res += p2p[jf2,jf]\n",
    "        ppt[it,jf] = res/(nF-1)\n",
    "print('time elapsed = {}'.format(time.time()-t0))"
   ]
  },
  {
   "cell_type": "code",
   "execution_count": null,
   "metadata": {},
   "outputs": [],
   "source": [
    "c[it,jf2,:]"
   ]
  },
  {
   "cell_type": "code",
   "execution_count": null,
   "metadata": {},
   "outputs": [],
   "source": []
  },
  {
   "cell_type": "code",
   "execution_count": 12,
   "metadata": {},
   "outputs": [],
   "source": [
    "c = np.zeros( (nT,nF,3))\n",
    "for it in range(nT):\n",
    "    for jf in range(nF):\n",
    "        c[it,jf,:] = getMean( ftlist[it][jf].pos0, ftlist[it][jf].pos1, boxsize)"
   ]
  },
  {
   "cell_type": "code",
   "execution_count": null,
   "metadata": {},
   "outputs": [],
   "source": [
    "t0 = time.time()\n",
    "# Calculate and store mean pair-pair filament distances for all filaments for all time\n",
    "ppt = np.zeros( (nT, nF))\n",
    "for it in range(3):\n",
    "    p2p = np.zeros((nF,nF))\n",
    "    for jf in range(nF):\n",
    "        res = 0\n",
    "        # get distance to all other filaments\n",
    "        for jf2 in range(nF):\n",
    "            if jf==jf2:\n",
    "                continue\n",
    "            elif p2p[jf2,jf] == 0:\n",
    "                res2=0\n",
    "                # get distance\n",
    "                dist = np.absolute( c[it,jf,:]-c[it,jf2,:])\n",
    "                for idx in range(3):\n",
    "                    k = np.floor( dist[idx]/(0.5*boxsize[idx]))\n",
    "                    dist[idx] -= k*boxsize[idx]\n",
    "                for dd in dist:\n",
    "                    res2 += dd**2\n",
    "                p2p[jf,jf2] = np.sqrt(res2)\n",
    "                res += p2p[jf,jf2]\n",
    "            else:\n",
    "                res += p2p[jf2,jf]\n",
    "        ppt[it,jf] = res/(nF-1)\n",
    "print('time elapsed = {}'.format(time.time()-t0))"
   ]
  },
  {
   "cell_type": "code",
   "execution_count": null,
   "metadata": {},
   "outputs": [],
   "source": [
    "from numba import jit\n",
    "@jit( nopython=True)\n",
    "def meanPairSep(c,nT,nF,boxsize,boolRodsInside):\n",
    "    # Calculate and store mean pair-pair filament distances for all filaments for all time\n",
    "    mu = np.zeros(nT)\n",
    "    sig = np.zeros(nT)\n",
    "    for it in range(nT):\n",
    "        ppt=np.zeros(nF)\n",
    "        p2p = np.zeros((nF,nF))\n",
    "        for jf in range(nF):\n",
    "            if not boolRodsInside[it][jf]:\n",
    "                continue\n",
    "                \n",
    "            res = 0\n",
    "            # get distance to all other filaments\n",
    "            for jf2 in range(nF):\n",
    "                if not boolRodsInside[it][jf2] or jf==jf2:\n",
    "                    continue\n",
    "                elif p2p[jf2,jf] == 0:\n",
    "                    res2=0\n",
    "                    # get distance\n",
    "                    dist = np.absolute( c[it,jf,:]-c[it,jf2,:])\n",
    "                    for idx in range(3):\n",
    "                        k = np.floor( dist[idx]/(0.5*boxsize[idx]))\n",
    "                        dist[idx] -= k*boxsize[idx]\n",
    "                    for dd in dist:\n",
    "                        res2 += dd**2\n",
    "                    p2p[jf,jf2] = np.sqrt(res2)\n",
    "                    res += p2p[jf,jf2]\n",
    "                else:\n",
    "                    res += p2p[jf2,jf]\n",
    "            ppt[jf] = res/(np.sum(boolRodsInside[it])-1)\n",
    "        mu[it] = np.mean(ppt[ boolRodsInside[it] ])\n",
    "        sig[it] = np.std(ppt)\n",
    "    return mu,sig\n",
    "t0 = time.time()\n",
    "rho_mu, rho_sig = meanPairSep(c,nT,nF,boxsize, cct2)\n",
    "\n",
    "fig,ax = plt.subplots()\n",
    "ax.plot( dt*np.arange(nT), rho_mu, color=cols['cluster'], label='cluster', linewidth=lw)\n",
    "ax.fill_between( dt*np.arange(nT), rho_mu-rho_sig, rho_mu+rho_sig, color=cols['cluster'], alpha=0.1)\n",
    "ax.set(xlabel='time (s)', ylabel='separation ($\\mu$m)', title='Pair-pair separation (cluster)')\n",
    "fig.suptitle(ftitle)\n",
    "fig.savefig( os.path.join(rpath,'mean_separation_cluster.pdf') , bbox_inches='tight', dpi=600)\n",
    "\n",
    "print('time elapsed = {}'.format(time.time()-t0))"
   ]
  },
  {
   "cell_type": "code",
   "execution_count": null,
   "metadata": {},
   "outputs": [],
   "source": [
    "def PairSeparation( p2pmat):\n",
    "    pp = np.sum( p2pmat**2, axis=2)\n",
    "    pp = np.sqrt( pp[ np.triu_indices(pp.shape[0], k = 1)] )\n",
    "    mu = np.mean(pp)\n",
    "    stderr = np.std(pp)/np.sqrt(pp.size-1)\n",
    "    return mu,mu-2*stderr,mu+2*stderr\n",
    "\n",
    "t0 = time.time()\n",
    "ppt = []\n",
    "for it in range(nT):\n",
    "    ppt.append( AC.P2Pdistance( ftlist[it]) )\n",
    "\n",
    "# Cluster only\n",
    "pp = np.zeros((nT,3))\n",
    "for it in range(nT):\n",
    "    pp[it,0], pp[it,1],pp[it,2] = PairSeparation( AC.P2PInsideTac(ppt[it], cct[it]))\n",
    "fig,ax = plt.subplots()\n",
    "ax.plot( dt*np.arange(nT), pp[:,0], color=cols['cluster'], label='cluster', linewidth=lw)\n",
    "ax.fill_between( dt*np.arange(nT), pp[:,1], pp[:,2], color=cols['cluster'], alpha=0.1)\n",
    "ax.set(xlabel='time (s)', ylabel='separation ($\\mu$m)', title='Pair-pair separation (cluster)')\n",
    "fig.suptitle(ftitle)\n",
    "fig.savefig( os.path.join(rpath,'mean_separation_cluster.pdf') , bbox_inches='tight', dpi=600)\n",
    "\n",
    "print('time elapsed = {}'.format(time.time()-t0))"
   ]
  },
  {
   "cell_type": "code",
   "execution_count": null,
   "metadata": {},
   "outputs": [],
   "source": [
    "def PairSeparation( p2pmat):\n",
    "    pp = np.sum( p2pmat**2, axis=2)\n",
    "    pp = np.sqrt( pp[ np.triu_indices(pp.shape[0], k = 1)] )\n",
    "    mu = np.mean(pp)\n",
    "    stderr = np.std(pp)/np.sqrt(pp.size-1)\n",
    "    return mu,mu-2*stderr,mu+2*stderr\n",
    "\n",
    "t0 = time.time()\n",
    "ppt = []\n",
    "for it in range(nT):\n",
    "    ppt.append( AC.P2Pdistance( ftlist[it]) )\n",
    "\n",
    "# Cluster only\n",
    "pp = np.zeros((nT,3))\n",
    "for it in range(nT):\n",
    "    pp[it,0], pp[it,1],pp[it,2] = PairSeparation( ppt[it])\n",
    "fig,ax = plt.subplots()\n",
    "ax.plot( dt*np.arange(nT), pp[:,0], color=cols['cluster'], label='cluster', linewidth=lw)\n",
    "ax.fill_between( dt*np.arange(nT), pp[:,1], pp[:,2], color=cols['cluster'], alpha=0.1)\n",
    "ax.set(xlabel='time (s)', ylabel='separation ($\\mu$m)', title='Pair-pair separation (cluster)')\n",
    "fig.suptitle(ftitle)\n",
    "fig.savefig( os.path.join(rpath,'mean_separation_cluster.pdf') , bbox_inches='tight', dpi=600)\n",
    "\n",
    "print('time elapsed = {}'.format(time.time()-t0))"
   ]
  },
  {
   "cell_type": "code",
   "execution_count": 60,
   "metadata": {},
   "outputs": [
    {
     "name": "stdout",
     "output_type": "stream",
     "text": [
      "time elapsed = 24.52375292778015\n"
     ]
    },
    {
     "data": {
      "image/png": "[encoded data removed]",
      "text/plain": [
       "<Figure size 432x288 with 1 Axes>"
      ]
     },
     "metadata": {
      "needs_background": "light"
     },
     "output_type": "display_data"
    }
   ],
   "source": [
    "from numba import jit\n",
    "\n",
    "@jit( nopython=True)\n",
    "def dist2all(c,nT,nF,boxsize,boolRodsInside):\n",
    "    # Calculate mean pair-pair filament distances for all filaments\n",
    "    ppt=np.zeros(nF)\n",
    "    p2p = np.zeros((nF,nF))\n",
    "    \n",
    "    for jf in range(nF):\n",
    "        if not boolRodsInside[jf]:\n",
    "            continue\n",
    "        res = 0\n",
    "        dist = np.absolute( c[jf,:]-c)\n",
    "        # get distance to all other filaments\n",
    "        for jf2 in range(nF):\n",
    "            if not boolRodsInside[jf2] or jf==jf2:\n",
    "                continue\n",
    "            elif p2p[jf2,jf] == 0:\n",
    "                res2=0\n",
    "                # get distance\n",
    "                #dist = np.absolute( c[jf,:]-c[jf2,:])\n",
    "                for idx in range(3):\n",
    "                    k = np.floor( dist[jf2,idx]/(0.5*boxsize[idx]))\n",
    "                    dist[jf2,idx] -= k*boxsize[idx]\n",
    "                    res2 += dist[jf2,idx]**2\n",
    "                p2p[jf,jf2] = np.sqrt(res2)\n",
    "                res += p2p[jf,jf2]\n",
    "            else:\n",
    "                res += p2p[jf2,jf]\n",
    "        ppt[jf] = res/(np.sum(boolRodsInside)-1)\n",
    "    return ppt\n",
    "\n",
    "@jit( nopython=True)\n",
    "def meanPairSep(c,nT,nF,boxsize,boolRodsInside):\n",
    "    # Calculate and store mean pair-pair filament distances for all filaments for all time\n",
    "    mu = np.zeros(nT)\n",
    "    sig = np.zeros(nT)\n",
    "    for it in range(nT):\n",
    "        ppt=dist2all(c[it,:,:],nT,nF,boxsize,boolRodsInside[it])\n",
    "        mu[it] = np.mean(ppt[ boolRodsInside[it] ])\n",
    "        sig[it] = np.std(ppt[ boolRodsInside[it] ])\n",
    "    return mu,sig\n",
    "\n",
    "@jit( nopython=True)\n",
    "def msd(lags,c,nT,nF,boxsize,boolRodsInside):\n",
    "    mu = np.zeros(lags.shape)\n",
    "    sig = np.zeros(lags.shape)\n",
    "    for idx in range(lags.size):\n",
    "        pptdiff = np.zeros(nT-lags[idx])\n",
    "        for it in range(pptdiff.size):\n",
    "            \n",
    "            #find rods inside at both times\n",
    "            rods_in = np.logical_and( boolRodsInside[it],boolRodsInside[it+lags[idx]])\n",
    "            \n",
    "            ppt1=dist2all(c[it,:,:],nT,nF,boxsize,rods_in)\n",
    "            ppt2=dist2all(c[it+lags[idx],:,:],nT,nF,boxsize,rods_in)\n",
    "            \n",
    "            res = 0\n",
    "            for idx2 in range(ppt1.size):\n",
    "                res+=(ppt2[idx2]-ppt1[idx2])**2\n",
    "            pptdiff[it] = res/ppt1.size\n",
    "        mu[idx] = np.mean(pptdiff)\n",
    "        sig[idx] = np.std(pptdiff)\n",
    "    return mu,sig\n",
    "t0 = time.time()\n",
    "#rho_mu, rho_sig = meanPairSep(c,20,nF,boxsize, cct2)\n",
    "lags = np.arange(1,nT)\n",
    "rho_mu, rho_sig = msd(lags,c,nT,nF,boxsize, cct2)\n",
    "fig,ax = plt.subplots()\n",
    "ax.plot( dt*lags, rho_mu, color=cols['cluster'], label='cluster', linewidth=lw)\n",
    "ax.fill_between( dt*lags, rho_mu-rho_sig, rho_mu+rho_sig, color=cols['cluster'], alpha=0.1)\n",
    "ax.set(xlabel='time (s)', ylabel='separation ($\\mu$m)', title='Pair-pair separation (cluster)')\n",
    "fig.suptitle(ftitle)\n",
    "\n",
    "print('time elapsed = {}'.format(time.time()-t0))"
   ]
  },
  {
   "cell_type": "code",
   "execution_count": 49,
   "metadata": {},
   "outputs": [
    {
     "data": {
      "text/plain": [
       "0.0007561921647473906"
      ]
     },
     "execution_count": 49,
     "metadata": {},
     "output_type": "execute_result"
    }
   ],
   "source": [
    "lags = np.arange(1,nT)\n",
    "boolRodsInside = cct2\n",
    "idx = 20\n",
    "pptdiff = np.zeros(nT-lags[idx])\n",
    "for it in range(pptdiff.size):\n",
    "    rods_in = np.logical_and( boolRodsInside[it],boolRodsInside[it+lags[idx]])\n",
    "            \n",
    "    ppt1=dist2all(c[it,:,:],nT,nF,boxsize,rods_in)\n",
    "    ppt2=dist2all(c[it+lags[idx],:,:],nT,nF,boxsize,rods_in)\n",
    "\n",
    "    res = 0\n",
    "    for idx2 in range(ppt1.size):\n",
    "        res+=(ppt2[idx2]-ppt1[idx2])**2\n",
    "    pptdiff[it] = res/ppt1.size\n",
    "np.mean(pptdiff)"
   ]
  },
  {
   "cell_type": "code",
   "execution_count": 59,
   "metadata": {},
   "outputs": [
    {
     "data": {
      "text/plain": [
       "array([0.04, 0.  , 0.  , 0.  , 0.  , 0.  , 0.  , 0.  , 0.  , 0.  , 0.  ,\n",
       "       0.  , 0.  , 0.  , 0.  , 0.  , 0.  , 0.  , 0.  , 0.  , 0.  , 0.  ,\n",
       "       0.  , 0.  , 0.  , 0.  , 0.  , 0.  , 0.  , 0.  , 0.  , 0.  , 0.  ,\n",
       "       0.  , 0.  , 0.  , 0.  , 0.  , 0.  , 0.  , 0.  , 0.  , 0.  , 0.  ,\n",
       "       0.  , 0.  , 0.  , 0.  , 0.  , 0.  , 0.  , 0.  , 0.  , 0.  , 0.  ,\n",
       "       0.  , 0.  , 0.  , 0.  , 0.  , 0.  , 0.  , 0.  , 0.  , 0.  , 0.  ,\n",
       "       0.  , 0.  , 0.  , 0.  , 0.  , 0.  , 0.  , 0.  , 0.  , 0.  , 0.  ,\n",
       "       0.  , 0.  , 0.  , 0.  , 0.  , 0.  , 0.  , 0.  , 0.  , 0.  , 0.  ,\n",
       "       0.  , 0.  , 0.  , 0.  , 0.  , 0.  , 0.  , 0.  , 0.  , 0.  , 0.  ,\n",
       "       0.  , 0.  , 0.  , 0.  , 0.  , 0.  , 0.  , 0.  , 0.  , 0.  , 0.  ,\n",
       "       0.  , 0.  , 0.  , 0.  , 0.  , 0.  , 0.  , 0.  , 0.  , 0.  , 0.  ,\n",
       "       0.  , 0.  , 0.  , 0.  , 0.  , 0.  , 0.  , 0.  , 0.  , 0.  , 0.  ,\n",
       "       0.  , 0.  , 0.  , 0.  , 0.  , 0.  , 0.  , 0.  , 0.  , 0.  , 0.  ,\n",
       "       0.  , 0.  , 0.  , 0.  , 0.  , 0.  ])"
      ]
     },
     "execution_count": 59,
     "metadata": {},
     "output_type": "execute_result"
    }
   ],
   "source": [
    "mu = np.zeros(lags.shape)\n",
    "mu[0] = 0.04\n",
    "mu"
   ]
  },
  {
   "cell_type": "code",
   "execution_count": 44,
   "metadata": {},
   "outputs": [
    {
     "data": {
      "text/plain": [
       "1.1553198051361768"
      ]
     },
     "execution_count": 44,
     "metadata": {},
     "output_type": "execute_result"
    }
   ],
   "source": [
    "res"
   ]
  },
  {
   "cell_type": "code",
   "execution_count": 39,
   "metadata": {},
   "outputs": [
    {
     "name": "stdout",
     "output_type": "stream",
     "text": [
      "time elapsed = 4.214365243911743\n",
      "time elapsed = 0.008659839630126953\n",
      "time elapsed = 0.024543046951293945\n"
     ]
    }
   ],
   "source": [
    "nn=1000\n",
    "\n",
    "t0 = time.time()\n",
    "for i in range(nn):\n",
    "    ppt = dist2all(c[it,:,:],nT,nF,boxsize,cct2[it])\n",
    "print('time elapsed = {}'.format(time.time()-t0))\n",
    "\n",
    "t0 = time.time()\n",
    "for i in range(nn):\n",
    "    np.mean(ppt[ cct2[it] ])\n",
    "print('time elapsed = {}'.format(time.time()-t0))\n",
    "\n",
    "t0 = time.time()\n",
    "for i in range(nn):\n",
    "    np.std(ppt[ cct2[it] ])\n",
    "print('time elapsed = {}'.format(time.time()-t0))"
   ]
  },
  {
   "cell_type": "code",
   "execution_count": 55,
   "metadata": {},
   "outputs": [
    {
     "name": "stdout",
     "output_type": "stream",
     "text": [
      "time elapsed = 1.4800388813018799\n"
     ]
    }
   ],
   "source": [
    "t0 = time.time()\n",
    "for i in range(nn):\n",
    "    ppt = dist2all(c[it,:,:],nT,nF,boxsize,cct2[it])\n",
    "print('time elapsed = {}'.format(time.time()-t0))"
   ]
  },
  {
   "cell_type": "code",
   "execution_count": 16,
   "metadata": {},
   "outputs": [
    {
     "ename": "NameError",
     "evalue": "name 'ppt2' is not defined",
     "output_type": "error",
     "traceback": [
      "\u001b[0;31m---------------------------------------------------------------------------\u001b[0m",
      "\u001b[0;31mNameError\u001b[0m                                 Traceback (most recent call last)",
      "\u001b[0;32m<ipython-input-16-7cbbd5633aa3>\u001b[0m in \u001b[0;36m<module>\u001b[0;34m\u001b[0m\n\u001b[0;32m----> 1\u001b[0;31m \u001b[0mppt2\u001b[0m\u001b[0;34m\u001b[0m\u001b[0;34m\u001b[0m\u001b[0m\n\u001b[0m",
      "\u001b[0;31mNameError\u001b[0m: name 'ppt2' is not defined"
     ]
    }
   ],
   "source": [
    "ppt2"
   ]
  },
  {
   "cell_type": "code",
   "execution_count": 51,
   "metadata": {},
   "outputs": [
    {
     "data": {
      "text/plain": [
       "array([0, 0, 0, 0, 0, 0, 0, 0, 0, 0, 0, 0, 0, 0, 0, 0, 0, 0, 0, 0, 0, 0,\n",
       "       0, 0, 0, 0, 0, 0, 0, 0, 0, 0, 0, 0, 0, 0, 0, 0, 0, 0, 0, 0, 0, 0,\n",
       "       0, 0, 0, 0, 0, 0, 0, 0, 0, 0, 0, 0, 0, 0, 0, 0, 0, 0, 0, 0, 0, 0,\n",
       "       0, 0, 0, 0, 0, 0, 0, 0, 0, 0, 0, 0, 0, 0, 0, 0, 0, 0, 0, 0, 0, 0,\n",
       "       0, 0, 0, 0, 0, 0, 0, 0, 0, 0, 0, 0, 0, 0, 0, 0, 0, 0, 0, 0, 0, 0,\n",
       "       0, 0, 0, 0, 0, 0, 0, 0, 0, 0, 0, 0, 0, 0, 0, 0, 0, 0, 0, 0, 0, 0,\n",
       "       0, 0, 0, 0, 0, 0, 0, 0, 0, 0, 0, 0, 0, 0, 0, 0, 0])"
      ]
     },
     "execution_count": 51,
     "metadata": {},
     "output_type": "execute_result"
    }
   ],
   "source": [
    "rho_mu"
   ]
  },
  {
   "cell_type": "code",
   "execution_count": 74,
   "metadata": {},
   "outputs": [
    {
     "data": {
      "text/plain": [
       "Text(0.5, 0.98, 'Filamin-Actin ratio = 6.0, Polydisperse')"
      ]
     },
     "execution_count": 74,
     "metadata": {},
     "output_type": "execute_result"
    },
    {
     "data": {
      "image/png": "[encoded data removed]",
      "text/plain": [
       "<Figure size 432x432 with 1 Axes>"
      ]
     },
     "metadata": {
      "needs_background": "light"
     },
     "output_type": "display_data"
    }
   ],
   "source": [
    "# num xlinks in biggest cluster\n",
    "nprot = np.zeros(nT)\n",
    "for it in range(nT):\n",
    "    idxRods = np.where(cct2[it]==True)[0]\n",
    "    tot=0\n",
    "    for prot in ptlist[it]:\n",
    "        if prot.link0 in idxRods or prot.link1 in idxRods:\n",
    "            tot+=1\n",
    "    nprot[it] = tot/np.sum(cct2[it])\n",
    "\n",
    "fig,ax = plt.subplots(figsize=(6,6))\n",
    "ax.plot(dt*np.arange(nT), nprot, color=cols['cluster'], linewidth=lw)\n",
    "ax.set(xlabel='time (s)', ylabel='ratio', title='Ratio of crosslinks to filaments inside cluster')\n",
    "fig.suptitle(ftitle)\n",
    "#fig.savefig( os.path.join(rpath,'xlinkFractionInCluster.pdf') , bbox_inches='tight', dpi=600)"
   ]
  },
  {
   "cell_type": "code",
   "execution_count": 23,
   "metadata": {},
   "outputs": [],
   "source": [
    "tot=0\n",
    "idxRods = np.where(cct2[it]==True)[0]\n",
    "for prot in ptlist[it]:\n",
    "    if prot.link0 in idxRods or prot.link1 in idxRods:\n",
    "        tot+=1\n",
    "tot = tot/np.sum( cct2[it] )"
   ]
  },
  {
   "cell_type": "code",
   "execution_count": 60,
   "metadata": {},
   "outputs": [
    {
     "name": "stdout",
     "output_type": "stream",
     "text": [
      "1976\n"
     ]
    }
   ],
   "source": [
    "it=10\n",
    "idxRods = np.where(cct2[it]==True)[0]\n",
    "tot=0\n",
    "for prot in ptlist[it]:\n",
    "    if (prot.link0 in idxRods) and (prot.link1 in idxRods):\n",
    "        tot+=1\n",
    "print( tot )"
   ]
  },
  {
   "cell_type": "code",
   "execution_count": 65,
   "metadata": {},
   "outputs": [
    {
     "data": {
      "text/plain": [
       "247"
      ]
     },
     "execution_count": 65,
     "metadata": {},
     "output_type": "execute_result"
    }
   ],
   "source": [
    "prot.link1"
   ]
  },
  {
   "cell_type": "code",
   "execution_count": 63,
   "metadata": {},
   "outputs": [
    {
     "data": {
      "text/plain": [
       "array([  0,   1,   2,   3,   4,   5,   6,   7,   8,   9,  10,  11,  12,\n",
       "        13,  14,  15,  16,  17,  18,  19,  20,  21,  22,  23,  24,  25,\n",
       "        26,  27,  28,  29,  30,  31,  32,  33,  34,  35,  36,  37,  38,\n",
       "        39,  40,  41,  42,  43,  44,  45,  46,  47,  48,  49,  50,  51,\n",
       "        52,  53,  54,  55,  56,  57,  58,  59,  60,  61,  62,  63,  64,\n",
       "        65,  66,  67,  68,  69,  70,  71,  72,  73,  74,  75,  76,  77,\n",
       "        78,  79,  80,  81,  82,  83,  84,  85,  86,  87,  88,  89,  90,\n",
       "        91,  92,  93,  94,  95,  96,  97,  98,  99, 100, 101, 102, 103,\n",
       "       104, 105, 106, 107, 108, 109, 110, 111, 112, 113, 114, 115, 116,\n",
       "       117, 118, 119, 120, 121, 122, 123, 124, 125, 126, 127, 128, 129,\n",
       "       130, 131, 132, 133, 134, 135, 136, 137, 138, 139, 140, 141, 142,\n",
       "       143, 144, 145, 146, 147, 148, 149, 150, 151, 152, 153, 154, 155,\n",
       "       156, 157, 158, 159, 160, 161, 162, 163, 164, 165, 166, 167, 168,\n",
       "       169, 170, 171, 172, 173, 174, 175, 176, 177, 178, 179, 180, 181,\n",
       "       182, 183, 184, 185, 186, 187, 188, 189, 190, 191, 192, 193, 194,\n",
       "       195, 196, 197, 198, 199, 200, 201, 202, 203, 204, 205, 206, 207,\n",
       "       208, 209, 210, 211, 212, 213, 214, 215, 216, 217, 218, 219, 220,\n",
       "       221, 222, 223, 224, 225, 226, 227, 228, 229, 230, 231, 232, 233,\n",
       "       234, 235, 236, 237, 238, 239, 240, 241, 242, 243, 244, 245, 246,\n",
       "       247, 248, 249, 250, 251, 252, 253, 254, 255, 256, 257, 258, 259,\n",
       "       260, 261, 262, 263, 264, 265, 266, 267, 268, 269, 270, 271, 272,\n",
       "       273, 274, 275, 276, 277, 278, 279, 280, 281, 282, 283, 284, 285,\n",
       "       286, 287, 288, 289, 290, 291, 292, 293, 294, 295, 296, 297, 298,\n",
       "       299, 300, 301, 302, 303, 304, 305, 306, 307, 308, 309, 310, 311,\n",
       "       312, 313, 314, 315, 316, 317, 318, 319, 321, 322, 323, 324, 325,\n",
       "       326, 327, 328, 329, 330, 331, 332, 333, 334, 335, 336, 337, 338,\n",
       "       339, 340, 341, 342, 343, 344, 345, 346, 347, 348, 349, 350, 352,\n",
       "       353, 354, 355, 356, 357, 358, 360, 361, 362, 363, 364, 365, 366,\n",
       "       368, 369, 370, 371, 372, 373, 374, 375, 377, 379, 380, 381, 382,\n",
       "       383, 384, 385, 386, 387, 388, 389, 391, 392, 393, 394, 395, 396,\n",
       "       397, 398, 399])"
      ]
     },
     "execution_count": 63,
     "metadata": {},
     "output_type": "execute_result"
    }
   ],
   "source": [
    "idxRods"
   ]
  },
  {
   "cell_type": "code",
   "execution_count": null,
   "metadata": {},
   "outputs": [],
   "source": []
  }
 ],
 "metadata": {
  "kernelspec": {
   "display_name": "Python 3",
   "language": "python",
   "name": "python3"
  },
  "language_info": {
   "codemirror_mode": {
    "name": "ipython",
    "version": 3
   },
   "file_extension": ".py",
   "mimetype": "text/x-python",
   "name": "python",
   "nbconvert_exporter": "python",
   "pygments_lexer": "ipython3",
   "version": "3.7.5"
  }
 },
 "nbformat": 4,
 "nbformat_minor": 4
}
