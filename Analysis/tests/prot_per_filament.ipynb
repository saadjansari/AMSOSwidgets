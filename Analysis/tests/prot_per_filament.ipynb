{
 "cells": [
  {
   "cell_type": "code",
   "execution_count": 63,
   "metadata": {},
   "outputs": [],
   "source": [
    "from pathlib import Path\n",
    "import numpy as np\n",
    "import pandas as pd\n",
    "import math\n",
    "from numba import njit,jit\n",
    "import time\n",
    "from matplotlib import pyplot as plt\n",
    "import yaml\n",
    "import networkx as nx\n",
    "import scipy\n",
    "\n",
    "# Define paths\n",
    "path_prefix = Path(\"/Users/saadjansari/Documents/Projects/Results/AMSOS\")\n",
    "simpath = {\n",
    "    'Tac': path_prefix / \"Tactoids/scan_filamin_6400/run/f5_merged\",\n",
    "#     'Tac': path_prefix / \"Tactoids/n25600/f5\",\n",
    "}\n",
    "\n",
    "# resolve paths\n",
    "for key in simpath.keys():\n",
    "    simpath[key].resolve()"
   ]
  },
  {
   "cell_type": "markdown",
   "metadata": {},
   "source": [
    "### How many proteins on a filament?"
   ]
  },
  {
   "cell_type": "code",
   "execution_count": 64,
   "metadata": {},
   "outputs": [],
   "source": [
    "def get_volume_from_config(spath, conf=False):\n",
    "    # Read yaml config file to extract information about space\n",
    "    # If confinement is True, use a cylindrical confinement in XY plane, but full box size in Z\n",
    "    with open( spath / 'RunConfig.yaml') as yf:\n",
    "        rconfig = yaml.safe_load( yf)\n",
    "        \n",
    "    box_size = np.array( rconfig['simBoxHigh']) - np.array( rconfig['simBoxLow'])\n",
    "    \n",
    "    if conf:\n",
    "        cyl_length = box_size[ np.array( rconfig['boundaries'][0]['axis'], dtype=bool)]\n",
    "        cyl_rad = rconfig['boundaries'][0]['radius']\n",
    "        vol = math.pi * cyl_rad**2 * cyl_length\n",
    "        vol = vol[0]\n",
    "    else:\n",
    "        vol = boxsize[0]*boxsize[1]*boxsize[2]\n",
    "    \n",
    "    return vol\n",
    "\n",
    "def get_boxsize_pbc(spath, conf=False):\n",
    "    # Read yaml config file to extract information about space\n",
    "    # If confinement is True, use a cylindrical confinement in XY plane, but full box size in Z\n",
    "    with open( spath / 'RunConfig.yaml') as yf:\n",
    "        rconfig = yaml.safe_load( yf)\n",
    "        \n",
    "    box_size = np.array( rconfig['simBoxHigh']) - np.array( rconfig['simBoxLow'])\n",
    "    if conf:\n",
    "        box_size[0] = 2*box_size[0]\n",
    "        box_size[1] = 2*box_size[1]\n",
    "    return box_size\n",
    "    \n",
    "def find_last_n_frames(spath,n=1):\n",
    "    \n",
    "    def fileKey(f):\n",
    "        return int( f.parts[-1].split('_')[-1].split('.dat')[0] )\n",
    "    file_s_last = sorted( list(spath.glob('**/SylinderAscii*')), key=fileKey)[-n:]\n",
    "    file_p_last = sorted( list(spath.glob('**/ProteinAscii*')), key=fileKey)[-n:]\n",
    "    return file_s_last, file_p_last\n",
    "\n",
    "@njit\n",
    "def unfold_trajectories(crds, boxsize):\n",
    "    # unfolded trajectory via the shortest route\n",
    "    # expect input: crds = [time, particle, dim]\n",
    "    crds2 = np.zeros_like(crds)\n",
    "    crds2[0,:,:] = crds[0,:,:]\n",
    "    for idx in np.arange(crds.shape[-1]):\n",
    "        for ipart in np.arange(crds.shape[1]):\n",
    "            \n",
    "            # find amount particle travels frame to frame\n",
    "            dist = nb_diff( crds[:,ipart,idx])\n",
    "            k = np.sign( dist) * np.floor( np.absolute(dist)/(0.51*boxsize[idx]))\n",
    "            dist -= k*boxsize[idx]\n",
    "            crds2[1:,ipart,idx] = dist.cumsum()+crds[0,ipart,idx]\n",
    "    return crds2\n",
    "\n",
    "@njit\n",
    "def nb_diff(x):\n",
    "    return x[1:] - x[:-1]\n",
    "\n",
    "def find_frames(spath):\n",
    "    \n",
    "    def fileKey(f):\n",
    "        return int( f.parts[-1].split('_')[-1].split('.dat')[0] )\n",
    "    file_s_last = sorted( list(spath.glob('**/SylinderAscii*')), key=fileKey)\n",
    "    file_p_last = sorted( list(spath.glob('**/ProteinAscii*')), key=fileKey)\n",
    "    return file_s_last, file_p_last\n",
    "\n",
    "def get_edges_in_largest_cc( cc, edge0, edge1):\n",
    "\n",
    "    # initialize\n",
    "    idx_edges = []\n",
    "    n_edges = 0\n",
    "\n",
    "    # num xlinks in biggest cluster\n",
    "    for idx in np.arange(len(edge0)):\n",
    "        if edge0[idx] in cc and edge1[idx] in cc:\n",
    "            idx_edges.append( idx)\n",
    "            n_edges+=1\n",
    "\n",
    "    return idx_edges, n_edges\n",
    "\n",
    "def get_largest_cc( nodes, edge0, edge1):\n",
    "    # Get largesst connected component\n",
    "    # nodes is a list of integers representing node indices\n",
    "    # edge0 / edge1 are the list of nodes that each edge connects to.\n",
    "    # Indices whose values are -1 are ignored in both edge0 and edge1.\n",
    "\n",
    "    # Create a graph for filaments\n",
    "    g = nx.Graph()\n",
    "    g.add_nodes_from( nodes)\n",
    "\n",
    "    # add edges to the graph\n",
    "    for e0,e1 in zip( edge0,edge1):\n",
    "        if e0 != -1 and e1 != -1:\n",
    "            g.add_edge(e0, e1)\n",
    "\n",
    "    # find connected component largest\n",
    "    cc = list( max(nx.connected_components(g), key=len) )\n",
    "\n",
    "    # also get a boolean array representing nodes that are in the largest cc\n",
    "    cc_bool = np.zeros(len(nodes), dtype=bool)\n",
    "    cc_bool[ cc] = True\n",
    "    return cc, cc_bool\n",
    "\n",
    "def read_dat_sylinder( fname):\n",
    "    # Read a SylinderAscii_X.dat file\n",
    "\n",
    "    # open the file and read the lines\n",
    "    with open(fname, 'r') as file1:\n",
    "        filecontent = file1.readlines()\n",
    "\n",
    "        # Initialize numpy arrays for data\n",
    "        gids = np.zeros( len(filecontent)-2, dtype=int)\n",
    "        rad = np.zeros(len(filecontent)-2)\n",
    "        pos0 = np.zeros( (len(filecontent)-2,3))\n",
    "        pos1 = np.zeros( (len(filecontent)-2,3))\n",
    "        ort = np.zeros( (len(filecontent)-2,3))\n",
    "\n",
    "        # Delete the first two lines because they dont have any data\n",
    "        filecontent[0:2] = []\n",
    "        for idx,line in enumerate(filecontent):\n",
    "\n",
    "            # Split the string with space-delimited and convert strings into useful data types\n",
    "            data = line.split()\n",
    "            gids[idx] = int(data[1])\n",
    "\n",
    "            dat = np.array( list(map(float,data[2::])) )\n",
    "            rad[idx] = dat[0]\n",
    "            pos0[idx,:] = dat[1:4]\n",
    "            pos1[idx,:] = dat[4::]\n",
    "            xi = pos1[idx,:] - pos0[idx,:]\n",
    "            ort[idx,:] =  xi/np.sqrt(xi.dot(xi))\n",
    "\n",
    "    # Store data as a dataframe\n",
    "    df = pd.DataFrame({\n",
    "        'gid': gids,\n",
    "        'radius' : rad,\n",
    "        'pos0' : list(pos0),\n",
    "        'pos1': list(pos1),\n",
    "        'orientation': list(ort)\n",
    "        })\n",
    "    return df\n",
    "\n",
    "def read_dat_protein( fname):\n",
    "    # Read a ProetinAscii_X.dat file\n",
    "\n",
    "    # open the file and read the lines\n",
    "    with open(fname, 'r') as file1:\n",
    "        filecontent = file1.readlines()\n",
    "\n",
    "        # Delete the first two lines because they dont have any data\n",
    "        filecontent[0:2] = []\n",
    "\n",
    "        # Initialize numpy arrays for data\n",
    "        gids = np.zeros( len(filecontent), dtype=int)\n",
    "        pos0 = np.zeros( (len(filecontent),3))\n",
    "        pos1 = np.zeros( (len(filecontent),3))\n",
    "        link0 = np.zeros( len(filecontent), dtype=int)\n",
    "        link1 = np.zeros( len(filecontent), dtype=int)\n",
    "\n",
    "        for idx,line in enumerate(filecontent):\n",
    "\n",
    "            # Split the string with space-delimited and convert strings into useful data types\n",
    "            data = line.split()\n",
    "            # pdb.set_trace()\n",
    "            gids[idx] = int(data[1])\n",
    "            link0[idx] = int(data[9])\n",
    "            link1[idx] = int(data[10])\n",
    "            dat = np.array( list(map(float,data[2:9])) )\n",
    "            pos0[idx,:] = dat[1:4]\n",
    "            pos1[idx,:] = dat[4::]\n",
    "\n",
    "    # Store data as a dataframe\n",
    "    df = pd.DataFrame({\n",
    "        'gid': gids,\n",
    "        'pos0' : list(pos0),\n",
    "        'pos1': list(pos1),\n",
    "        'link0': link0,\n",
    "        'link1': link1\n",
    "        })\n",
    "    return df"
   ]
  },
  {
   "cell_type": "code",
   "execution_count": 65,
   "metadata": {},
   "outputs": [],
   "source": [
    "spath = simpath['Tac']\n",
    "\n",
    "# Load data\n",
    "boxsize = get_boxsize_pbc( spath)\n",
    "    \n",
    "# get last n frames\n",
    "syl_frame = find_last_n_frames( spath,n=1)[0][0]\n",
    "prot_frame = find_last_n_frames( spath,n=1)[1][0]\n",
    "            \n",
    "df_sylinder = read_dat_sylinder( syl_frame )\n",
    "df_protein = read_dat_protein( prot_frame)\n",
    "\n",
    "# Get proteins in cluster\n",
    "# Get large clusters\n",
    "cc = np.array( get_largest_cc( \n",
    "    df_sylinder.gid.tolist(), \n",
    "    df_protein.link0.tolist(),\n",
    "    df_protein.link1.tolist())[0])\n",
    "\n",
    "cc_set = set(cc)\n",
    "nprot = np.zeros_like(cc)\n",
    "for idx in np.arange(df_protein.shape[0]):\n",
    "    L0 = df_protein.link0[idx]\n",
    "    L1 = df_protein.link1[idx]\n",
    "    if L0 in cc_set:\n",
    "        idx2 = np.argwhere( np.array(cc) == L0)[0][0]\n",
    "        nprot[idx2]+=1\n",
    "    if L1 in cc_set:\n",
    "        idx2 = np.argwhere( np.array(cc) == L1)[0][0]\n",
    "        nprot[idx2]+=1"
   ]
  },
  {
   "cell_type": "code",
   "execution_count": 70,
   "metadata": {},
   "outputs": [
    {
     "data": {
      "text/plain": [
       "(array([ 88., 169., 334., 420., 469., 411., 296., 133.,  68.,  19.,   5.]),\n",
       " array([ 1.        ,  4.90909091,  8.81818182, 12.72727273, 16.63636364,\n",
       "        20.54545455, 24.45454545, 28.36363636, 32.27272727, 36.18181818,\n",
       "        40.09090909, 44.        ]),\n",
       " <BarContainer object of 11 artists>)"
      ]
     },
     "execution_count": 70,
     "metadata": {},
     "output_type": "execute_result"
    },
    {
     "data": {
      "image/png": "[encoded data removed]",
      "text/plain": [
       "<Figure size 432x288 with 1 Axes>"
      ]
     },
     "metadata": {
      "needs_background": "light"
     },
     "output_type": "display_data"
    }
   ],
   "source": [
    "plt.hist( nprot, bins=11)"
   ]
  },
  {
   "cell_type": "code",
   "execution_count": 73,
   "metadata": {},
   "outputs": [
    {
     "data": {
      "text/plain": [
       "824"
      ]
     },
     "execution_count": 73,
     "metadata": {},
     "output_type": "execute_result"
    }
   ],
   "source": [
    "np.argwhere(nprot==max(nprot))[0][0]"
   ]
  },
  {
   "cell_type": "code",
   "execution_count": 68,
   "metadata": {},
   "outputs": [
    {
     "data": {
      "text/plain": [
       "22400"
      ]
     },
     "execution_count": 68,
     "metadata": {},
     "output_type": "execute_result"
    }
   ],
   "source": [
    "df_protein.shape[0]"
   ]
  },
  {
   "cell_type": "code",
   "execution_count": null,
   "metadata": {},
   "outputs": [],
   "source": []
  }
 ],
 "metadata": {
  "kernelspec": {
   "display_name": "Python 3",
   "language": "python",
   "name": "python3"
  },
  "language_info": {
   "codemirror_mode": {
    "name": "ipython",
    "version": 3
   },
   "file_extension": ".py",
   "mimetype": "text/x-python",
   "name": "python",
   "nbconvert_exporter": "python",
   "pygments_lexer": "ipython3",
   "version": "3.8.5"
  }
 },
 "nbformat": 4,
 "nbformat_minor": 4
}
