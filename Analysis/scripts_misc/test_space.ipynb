{
 "cells": [
  {
   "cell_type": "code",
   "execution_count": 1,
   "metadata": {},
   "outputs": [],
   "source": [
    "import os\n",
    "import numpy as np\n",
    "import pandas as pd\n",
    "import math\n",
    "from numba import njit\n",
    "import open3d as o3d\n",
    "import networkx as nx\n",
    "import functools\n",
    "import time\n",
    "from matplotlib import pyplot as plt\n",
    "from pytransform3d import rotations as pyro"
   ]
  },
  {
   "cell_type": "code",
   "execution_count": 2,
   "metadata": {},
   "outputs": [],
   "source": [
    "def read_dat_sylinder( fname):\n",
    "    # Read a SylinderAscii_X.dat file\n",
    "\n",
    "    # open the file and read the lines\n",
    "    with open(fname, 'r') as file1:\n",
    "        filecontent = file1.readlines()\n",
    "\n",
    "        # Initialize numpy arrays for data\n",
    "        gids = np.zeros( len(filecontent)-2, dtype=int)\n",
    "        rad = np.zeros(len(filecontent)-2)\n",
    "        pos0 = np.zeros( (len(filecontent)-2,3))\n",
    "        pos1 = np.zeros( (len(filecontent)-2,3))\n",
    "        ort = np.zeros( (len(filecontent)-2,3))\n",
    "\n",
    "        # Delete the first two lines because they dont have any data\n",
    "        filecontent[0:2] = []\n",
    "        for idx,line in enumerate(filecontent):\n",
    "\n",
    "            # Split the string with space-delimited and convert strings into useful data types\n",
    "            data = line.split()\n",
    "            gids[idx] = int(data[1])\n",
    "\n",
    "            dat = np.array( list(map(float,data[2::])) )\n",
    "            rad[idx] = dat[0]\n",
    "            pos0[idx,:] = dat[1:4]\n",
    "            pos1[idx,:] = dat[4::]\n",
    "            xi = pos1[idx,:] - pos0[idx,:]\n",
    "            ort[idx,:] =  xi/np.sqrt(xi.dot(xi))\n",
    "\n",
    "    # Store data as a dataframe\n",
    "    df = pd.DataFrame({\n",
    "        'gid': gids,\n",
    "        'radius' : rad,\n",
    "        'pos0' : list(pos0),\n",
    "        'pos1': list(pos1),\n",
    "        'orientation': list(ort)\n",
    "        })\n",
    "    return df\n",
    "\n",
    "def read_dat_protein( fname):\n",
    "    # Read a ProetinAscii_X.dat file\n",
    "\n",
    "    # open the file and read the lines\n",
    "    with open(fname, 'r') as file1:\n",
    "        filecontent = file1.readlines()\n",
    "\n",
    "        # Delete the first two lines because they dont have any data\n",
    "        filecontent[0:2] = []\n",
    "\n",
    "        # Initialize numpy arrays for data\n",
    "        gids = np.zeros( len(filecontent), dtype=int)\n",
    "        pos0 = np.zeros( (len(filecontent),3))\n",
    "        pos1 = np.zeros( (len(filecontent),3))\n",
    "        link0 = np.zeros( len(filecontent), dtype=int)\n",
    "        link1 = np.zeros( len(filecontent), dtype=int)\n",
    "\n",
    "        for idx,line in enumerate(filecontent):\n",
    "\n",
    "            # Split the string with space-delimited and convert strings into useful data types\n",
    "            data = line.split()\n",
    "            # pdb.set_trace()\n",
    "            gids[idx] = int(data[1])\n",
    "            link0[idx] = int(data[9])\n",
    "            link1[idx] = int(data[10])\n",
    "            dat = np.array( list(map(float,data[2:9])) )\n",
    "            pos0[idx,:] = dat[1:4]\n",
    "            pos1[idx,:] = dat[4::]\n",
    "\n",
    "    # Store data as a dataframe\n",
    "    df = pd.DataFrame({\n",
    "        'gid': gids,\n",
    "        'pos0' : list(pos0),\n",
    "        'pos1': list(pos1),\n",
    "        'link0': link0,\n",
    "        'link1': link1\n",
    "        })\n",
    "    return df"
   ]
  },
  {
   "cell_type": "code",
   "execution_count": 120,
   "metadata": {},
   "outputs": [],
   "source": [
    "def transform_coords( coords, origin_new, axis_new):\n",
    "    # transform coordinates to a new frame of reference with the orivided\n",
    "    # new origin and the the new basis matrix\n",
    "\n",
    "    world_origin = np.array([0,0,0])\n",
    "    world_vec = np.identity(3)\n",
    "\n",
    "    # Translation vector\n",
    "    T = (world_origin - origin_new)\n",
    "    coords = coords + T.transpose()\n",
    "\n",
    "    # Get vector perp to z-axis and the new z-axis\n",
    "    vperp = pyro.perpendicular_to_vectors( world_vec[:,-1], axis_new)\n",
    "\n",
    "    # Rotate if needed\n",
    "    if np.linalg.norm( vperp) >0.00001:\n",
    "        vperp = vperp / np.linalg.norm(vperp)\n",
    "        theta = pyro.angle_between_vectors( world_vec[:,-1], obj_vec[:,-1])\n",
    "        axis_angle = np.concatenate( (vperp, -np.array([theta]) ))\n",
    "        q = pyro.quaternion_from_axis_angle( axis_angle)\n",
    "\n",
    "        # transfrom coordinates\n",
    "        coords = q_prod_coords( coords )\n",
    "\n",
    "    return coords\n",
    "\n",
    "@njit\n",
    "def q_prod_coords( coords, q):\n",
    "    # multiply each row vector in coords by the quaternion q\n",
    "    for idx in np.arange( coords.shape[0]):\n",
    "        t = 2 * np.cross(q[1:], coords[idx,:])\n",
    "        coords[idx,:]+= q[0] * t + np.cross(q[1:], t)\n",
    "    return coords"
   ]
  },
  {
   "cell_type": "code",
   "execution_count": 127,
   "metadata": {},
   "outputs": [],
   "source": [
    "def timer( func):\n",
    "    \"\"\" Print runtime of decorated functions \"\"\"\n",
    "    @functools.wraps( func)\n",
    "    def wrapper_timer( *args, **kwargs):\n",
    "        start_time = time.perf_counter()\n",
    "        value = func( *args, **kwargs)\n",
    "        end_time = time.perf_counter()\n",
    "        run_time = end_time - start_time\n",
    "        print(f\"Finished {func.__name__!r} in {run_time:.4f} secs\")\n",
    "        return value\n",
    "    return wrapper_timer\n",
    "\n",
    "@timer\n",
    "def calc_nematic_order(orient_array):\n",
    "    # Calculates the maximum eigenvalue of the nematic tensor Q\n",
    "\n",
    "    # calculate Q tensor\n",
    "    Q = calc_nematic_tensor(orient_array)\n",
    "    S = np.sqrt(np.tensordot(Q, Q)*1.5)\n",
    "    return S\n",
    "\n",
    "@timer\n",
    "@njit\n",
    "def calc_polar_order(orient_array):\n",
    "    # Calculates the polar order given the array of filament orientations\n",
    "\n",
    "    # Initialize P vector\n",
    "    Pvec = np.zeros(3)\n",
    "\n",
    "    # Take a mean of all orientations\n",
    "    for irow in np.arange(orient_array.shape[0]):\n",
    "        Pvec += orient_array[irow,:]\n",
    "    Pvec = Pvec / orient_array.shape[0]\n",
    "    P = np.linalg.norm( Pvec)\n",
    "    return P\n",
    "\n",
    "@njit\n",
    "def calc_nematic_tensor( orient_array):\n",
    "    # Calculates the nematic tensor Q\n",
    "\n",
    "    # initialize Q tensor\n",
    "    Q = np.zeros((3,3))\n",
    "    # sum over all filaments, taking their outer products\n",
    "    for irow in np.arange(orient_array.shape[0]):\n",
    "        Q += np.outer( orient_array[irow,:], orient_array[irow,:])\n",
    "\n",
    "    # complete mean calculation by dividing by number of filaments and subtracting identity.\n",
    "    Q = Q/orient_array.shape[0] - np.identity(3)/3\n",
    "    return Q\n",
    "\n",
    "\n",
    "@timer\n",
    "def get_largest_cc( nodes, edge0, edge1):\n",
    "    # Get largesst connected component\n",
    "    # nodes is a list of integers representing node indices\n",
    "    # edge0 / edge1 are the list of nodes that each edge connects to.\n",
    "    # Indices whose values are -1 are ignored in both edge0 and edge1.\n",
    "\n",
    "    # Create a graph for filaments\n",
    "    g = nx.Graph()\n",
    "    g.add_nodes_from( nodes)\n",
    "\n",
    "    # add edges to the graph\n",
    "    for e0,e1 in zip( edge0,edge1):\n",
    "        if e0 != -1 and e1 != -1:\n",
    "            g.add_edge(e0, e1)\n",
    "\n",
    "    # find connected component largest\n",
    "    cc = list( max(nx.connected_components(g), key=len) )\n",
    "\n",
    "    # also get a boolean array representing nodes that are in the largest cc\n",
    "    cc_bool = np.zeros(len(nodes), dtype=bool)\n",
    "    cc_bool[ cc] = True\n",
    "    return cc, cc_bool\n",
    "\n",
    "@timer\n",
    "@njit\n",
    "def get_edges_in_largest_cc( cc, edge0, edge1):\n",
    "\n",
    "    # initialize\n",
    "    idx_edges = []\n",
    "    n_edges = 0\n",
    "\n",
    "    # num xlinks in biggest cluster\n",
    "    for idx in np.arange(len(edge0)):\n",
    "        if edge0[idx] != -1 or edge1[idx] != -1:\n",
    "            idx_edges.append( idx_edges)\n",
    "            n_edges+=1\n",
    "\n",
    "    return idx_edges, n_edges\n",
    "\n",
    "\n",
    "\n",
    "@njit\n",
    "def calc_distance_pbc(p0,p1,boxsize):\n",
    "    # distance between two points in the nearest image convention\n",
    "    # can use multidimensional arrays for distances between multiple points\n",
    "    dist = np.absolute( p1-p0)\n",
    "    for idx in np.arange(dist.shape[-1]):\n",
    "        if len(dist.shape) == 1:\n",
    "            k = np.floor( dist[idx]/(0.5*boxsize[idx]))\n",
    "            dist[idx] -= k*boxsize[idx]\n",
    "        elif len(dist.shape) == 2:\n",
    "            k = np.floor( dist[:,idx]/(0.5*boxsize[idx]))\n",
    "            dist[:,idx] -= k*boxsize[idx]\n",
    "        # elif len(dist.shape) == 3:\n",
    "            # k = np.floor( dist[:,:,idx]/(0.5*boxsize[idx]))\n",
    "            # dist[:,:,idx] -= k*boxsize[idx]\n",
    "    return np.absolute(dist)\n",
    "\n",
    "@njit\n",
    "def calc_mean_pbc(p0,p1,boxsize):\n",
    "    # mean of the two points in the nearest image\n",
    "    dist = np.absolute(p1-p0)\n",
    "    for idx in np.arange(dist.shape[-1]):\n",
    "        if len(dist.shape) == 1:\n",
    "            k = np.floor( dist[idx]/(0.5*boxsize[idx]))\n",
    "            p1[idx] -= k*boxsize[idx]\n",
    "        elif len(dist.shape) == 2:\n",
    "            k = np.floor( dist[:,idx]/(0.5*boxsize[idx]))\n",
    "            p1[:,idx] -= k*boxsize[idx]\n",
    "        # elif len(dist.shape) == 3:\n",
    "            # k = np.floor( dist[:,:,idx]/(0.5*boxsize[idx]))\n",
    "            # p1[:,:,idx] -= k*boxsize[idx]\n",
    "    return (p0 + p1)/2\n",
    "\n",
    "@timer\n",
    "@njit\n",
    "def calc_mean_separation(coords,boxsize):\n",
    "    # Calculate mean pair-pair separation\n",
    "\n",
    "    # Initialize\n",
    "    num_coords = coords.shape[0]\n",
    "    mu = 0\n",
    "    sig = 0\n",
    "\n",
    "    mean_p2p = calc_mean_p2p_dist( coords, boxsize)\n",
    "    for idx in np.arange( num_coords):\n",
    "        mu += mean_p2p[idx]\n",
    "    mu = mu/num_coords\n",
    "    sig = np.std( mean_p2p)\n",
    "    return mu,sig\n",
    "\n",
    "\n",
    "@njit\n",
    "def calc_mean_p2p_dist(coords, boxsize):\n",
    "    # Calculate mean separation of every filament from all other pairs\n",
    "\n",
    "    # Initialize\n",
    "    num_coords = coords.shape[0]\n",
    "    mean_p2p = np.zeros( num_coords)\n",
    "\n",
    "    # Calculate p2p distance matrix\n",
    "    p2p_mat = calc_p2p_dist_mat(coords, boxsize)\n",
    "    for idx in np.arange( num_coords):\n",
    "        for idx2 in np.arange(num_coords):\n",
    "            mean_p2p[idx] += p2p_mat[idx,idx2]\n",
    "        mean_p2p[idx] = mean_p2p[idx]/num_coords\n",
    "\n",
    "    return mean_p2p\n",
    "\n",
    "@njit\n",
    "def calc_p2p_dist_mat(coords, boxsize):\n",
    "\n",
    "    # Initialize\n",
    "    num_coords = coords.shape[0]\n",
    "    p2p = np.zeros( (num_coords, num_coords))\n",
    "\n",
    "    # Loop over reference filament. For ref filament,\n",
    "    for jf in np.arange( num_coords):\n",
    "\n",
    "        dist_sum = 0\n",
    "        dist = np.absolute( coords[jf,:]-coords)\n",
    "\n",
    "        # get distance to all other filaments\n",
    "        for jf2 in np.arange( num_coords):\n",
    "\n",
    "            # Skip if same as the reference filament\n",
    "            if jf==jf2:\n",
    "                continue\n",
    "            # If distance with j1 and j2 switched already calculated, copy from matrix\n",
    "            elif p2p[jf2,jf] != 0:\n",
    "                p2p[jf,jf2] = p2p[jf2,jf]\n",
    "                dist_sum += p2p[jf2,jf]\n",
    "            # Otherwise, calculate distance\n",
    "            else:\n",
    "                # We need to find the norm distance. We will code up a manual\n",
    "                # summation of squares and then take a square root. This is\n",
    "                # faster with njit.\n",
    "                # We apply box-size considerations to find the distance to the closest image\n",
    "                dist_xyz = 0\n",
    "                # get distance\n",
    "                for idx in np.arange( len(boxsize)):\n",
    "                    k = np.floor( dist[jf2,idx]/(0.5*boxsize[idx]))\n",
    "                    dist[jf2,idx] -= k*boxsize[idx]\n",
    "                    dist_xyz += dist[jf2,idx]**2\n",
    "                p2p[jf,jf2] = np.sqrt( dist_xyz)\n",
    "                dist_sum += p2p[jf,jf2]\n",
    "    return p2p\n",
    "\n",
    "@njit\n",
    "def msd_pairs(lags,c,nT,nF,boxsize,boolRodsInside):\n",
    "    mu = np.zeros(lags.shape)\n",
    "    sig = np.zeros(lags.shape)\n",
    "    for idx in range(lags.size):\n",
    "        pptdiff = np.zeros(nT-lags[idx])\n",
    "        for it in range(pptdiff.size):\n",
    "\n",
    "            #find rods inside at both times\n",
    "            rods_in = np.logical_and( boolRodsInside[it],boolRodsInside[it+lags[idx]])\n",
    "\n",
    "            ppt1=dist2all(c[it,:,:],nT,nF,boxsize,rods_in)\n",
    "            ppt2=dist2all(c[it+lags[idx],:,:],nT,nF,boxsize,rods_in)\n",
    "\n",
    "            res = 0\n",
    "            for idx2 in range(ppt1.size):\n",
    "                res+=(ppt2[idx2]-ppt1[idx2])**2\n",
    "            pptdiff[it] = res/ppt1.size\n",
    "        mu[idx] = np.mean(pptdiff)\n",
    "        sig[idx] = np.std(pptdiff)\n",
    "    return mu,sig\n",
    "\n",
    "\n",
    "\n",
    "@timer\n",
    "@njit\n",
    "def calc_protein_energy( lengths, rest_length):\n",
    "\n",
    "    # Energy\n",
    "    sum_energy = 0\n",
    "    for ix in np.arange( len(lengths) ):\n",
    "        sum_energy += 0.5*( lengths[ix]-rest_length)**2\n",
    "    xlink_mu = sum_energy / lengths.shape[0]\n",
    "\n",
    "    sum_energy_sq = 0\n",
    "    for ix in np.arange( len(lengths) ):\n",
    "        sum_energy_sq += ( 0.5*( lengths[ix]-rest_length)**2 - xlink_mu)\n",
    "    xlink_std = np.sqrt( sum_energy_sq/lengths.shape[0])\n",
    "\n",
    "    return xlink_mu, xlink_std\n",
    "\n",
    "\n",
    "@timer\n",
    "def calc_aspect_ratio( coords):\n",
    "    # Calculate aspect ratio of bounding box of a collection of 3D points\n",
    "\n",
    "    pcd = o3d.geometry.PointCloud()\n",
    "    pcd.points = o3d.utility.Vector3dVector( coords)\n",
    "    obb = pcd.get_oriented_bounding_box()\n",
    "\n",
    "    xx = obb.extent\n",
    "    aspect_ratio = max( xx) / np.mean(sorted(xx)[0:2])\n",
    "    return aspect_ratio\n",
    "\n",
    "@timer\n",
    "@njit\n",
    "def calc_z_ordering( orient_array):\n",
    "    # Calculate alignment in z\n",
    "\n",
    "    z_axis = np.array( [0.,0.,1.])\n",
    "    sum_all = 0\n",
    "    for idx in np.arange( orient_array.shape[0]):\n",
    "        sum_all += np.absolute( orient_array[idx,:].dot(z_axis) )\n",
    "    return sum_all/orient_array.shape[0]\n",
    "\n",
    "\n",
    "@njit\n",
    "def pair_partition_func_centers(centers):\n",
    "    \n",
    "    q = np.zeros((centers.shape[0], centers.shape[0]))\n",
    "    # for each pair of centers, calculate pair_partition function\n",
    "    for idx1 in np.arange( centers.shape[0]):\n",
    "        q[idx1,:] = pair_partition_func_i_centers( \n",
    "            centers[idx1,:], centers, q[idx1,:])\n",
    "    return q\n",
    "\n",
    "@njit\n",
    "def pair_partition_func_i_centers(r0,r1,q):\n",
    "    \n",
    "    # distance between centers\n",
    "    dist = r0-r1\n",
    "    for idx in np.arange( dist.shape[1]):\n",
    "        q+= dist[:,idx]**2\n",
    "    return q\n",
    "\n",
    "\n",
    "@timer\n",
    "@njit\n",
    "def calc_local_polar_order( c, orients, boxsize):\n",
    "    # Calculate the local polar order\n",
    "    \n",
    "    porder_par = 0\n",
    "    porder_apar = 0\n",
    "    \n",
    "    # Define a maximum distance for infinite square potential well\n",
    "    dist_max = 4*0.025\n",
    "    \n",
    "    # coordinate indices within the distance range\n",
    "    q = pair_partition_func_centers(c)\n",
    "\n",
    "    for idx in np.arange( q.shape[0]):\n",
    "        \n",
    "        o_parallel = np.zeros(3)\n",
    "        o_aparallel = np.zeros(3)\n",
    "        n_parallel = 0\n",
    "        n_aparallel = 0\n",
    "        \n",
    "        # orientation of reference filament\n",
    "        o1 = orients[idx,:]\n",
    "        for idx1 in np.arange(q.shape[1]):\n",
    "            \n",
    "            if o1.dot( orients[idx1,:]) > 0:\n",
    "                o_parallel += q[idx,idx1]*orients[idx1,:]\n",
    "                n_parallel += 1\n",
    "            else:\n",
    "                o_aparallel += q[idx,idx1]*orients[idx1,:]\n",
    "                n_aparallel += 1\n",
    "        \n",
    "        porder_par += np.linalg.norm( o_parallel/n_parallel)\n",
    "        porder_apar += np.linalg.norm( o_aparallel/n_aparallel)\n",
    "\n",
    "    return porder_par/c.shape[0], porder_apar/c.shape[0]\n",
    "\n",
    "@timer\n",
    "def get_nodes_in_clusters( nodes, edge0, edge1, min_size_ratio=0.1):\n",
    "    # Get largesst connected component\n",
    "    # nodes is a list of integers representing node indices\n",
    "    # edge0 / edge1 are the list of nodes that each edge connects to.\n",
    "    # Indices whose values are -1 are ignored in both edge0 and edge1.\n",
    "\n",
    "    # Create a graph for filaments\n",
    "    g = nx.Graph()\n",
    "    g.add_nodes_from( nodes)\n",
    "\n",
    "    # add edges to the graph\n",
    "    for e0,e1 in zip( edge0,edge1):\n",
    "        if e0 != -1 and e1 != -1:\n",
    "            g.add_edge(e0, e1)\n",
    "\n",
    "    # find connected component largest\n",
    "    cc_sort = sorted(nx.connected_components(g), key=len, reverse=True)\n",
    "    cc_large = [ii for ii in cc_sort if len(ii) > 0.1*len(nodes)]\n",
    "    cc = []\n",
    "    for clus in cc_large:\n",
    "        cc+=clus\n",
    "\n",
    "    # also get a boolean array representing nodes that are in the largest cc\n",
    "    cc_bool = np.zeros(len(nodes), dtype=bool)\n",
    "    cc_bool[ cc] = True\n",
    "    return cc, cc_bool\n",
    "\n"
   ]
  },
  {
   "cell_type": "code",
   "execution_count": 234,
   "metadata": {},
   "outputs": [],
   "source": [
    "fpath = \"/Users/saadjansari/Documents/Projects/Results/AMSOS/Tactoids/scan_filamin_6400/run/f10\"\n",
    "fpath_actin = os.path.join(fpath, \"result/result0-399/SylinderAscii_100.dat\")\n",
    "fpath_xlinks = os.path.join(fpath, \"result/result0-399/ProteinAscii_100.dat\")\n",
    "\n",
    "# fpath = \"/Users/saadjansari/Documents/Projects/Results/AMSOS/Confinement/scan_d_pf_const_num/run/pf08_d125/merge\"\n",
    "# fpath_actin = os.path.join(fpath, \"result/result400-799/SylinderAscii_660.dat\")\n",
    "# fpath_xlinks = os.path.join(fpath, \"result/result400-799/ProteinAscii_660.dat\")\n",
    "\n",
    "df_sylinder = read_dat_sylinder(fpath_actin)\n",
    "df_protein = read_dat_protein(fpath_xlinks)"
   ]
  },
  {
   "cell_type": "code",
   "execution_count": 235,
   "metadata": {},
   "outputs": [
    {
     "name": "stdout",
     "output_type": "stream",
     "text": [
      "Finished 'get_largest_cc' in 0.1152 secs\n",
      "Finished 'calc_nematic_order' in 0.0026 secs\n",
      "Finished 'calc_polar_order' in 0.0002 secs\n",
      "Finished 'calc_nematic_order' in 0.0026 secs\n",
      "Finished 'calc_polar_order' in 0.0001 secs\n",
      "Finished 'calc_mean_separation' in 3.6119 secs\n",
      "Finished 'calc_protein_energy' in 0.0002 secs\n",
      "Finished 'calc_z_ordering' in 0.0002 secs\n",
      "Finished 'calc_local_polar_order' in 7.4971 secs\n",
      "Finished 'get_nodes_in_clusters' in 0.1074 secs\n",
      "Time elapsed = 11.409334897994995\n"
     ]
    }
   ],
   "source": [
    "import time\n",
    "t0 = time.time()\n",
    "boxsize=np.array([3.17,3.17,3.17])\n",
    "data={}\n",
    "# Filament centers\n",
    "c = calc_mean_pbc(\n",
    "    np.array( df_sylinder.pos0.tolist()),\n",
    "    np.array( df_sylinder.pos1.tolist()),\n",
    "    boxsize)\n",
    "\n",
    "# Check existence of a cluster\n",
    "# Get largest connected component using information about xlinks\n",
    "cc, cc_bool = get_largest_cc(\n",
    "        df_sylinder.gid.tolist(),\n",
    "        df_protein.link0.tolist(),\n",
    "        df_protein.link1.tolist() )\n",
    "df_sylinder_cc = df_sylinder[cc_bool]\n",
    "\n",
    "\n",
    "# Global order\n",
    "# Bulk and Cluster\n",
    "data['S_bulk'] = calc_nematic_order( np.array( df_sylinder.orientation.tolist()) )\n",
    "data['P_bulk'] = calc_polar_order( np.array( df_sylinder.orientation.tolist()) )\n",
    "data['S_cluster'] = calc_nematic_order( np.array( df_sylinder_cc.orientation.tolist()) )\n",
    "data['P_cluster'] = calc_polar_order( np.array( df_sylinder_cc.orientation.tolist()) )\n",
    "\n",
    "# Pair-pair separation\n",
    "\n",
    "# Filament centers\n",
    "c = calc_mean_pbc(\n",
    "    np.array( df_sylinder.pos0.tolist()),\n",
    "    np.array( df_sylinder.pos1.tolist()),\n",
    "    boxsize)\n",
    "# data['mean_sep_bulk'] = calc_mean_separation( c, boxsize)\n",
    "data['mean_sep_cluster'] = list(calc_mean_separation( c[cc,:], boxsize))\n",
    "\n",
    "# Xlink\n",
    "# Energy\n",
    "# xlink lengths\n",
    "xlink_lengths = np.linalg.norm(\n",
    "        calc_distance_pbc(\n",
    "            np.array( df_protein.pos0.tolist()),\n",
    "            np.array( df_protein.pos1.tolist()),\n",
    "            boxsize), axis=1)\n",
    "data['xlink_energy'] = list(calc_protein_energy( xlink_lengths, 0.05))\n",
    "\n",
    "#data['tactoid_aspect_ratio'] = calc_aspect_ratio( c[cc,:])\n",
    "data['z_order'] = calc_z_ordering( np.array( df_sylinder.orientation.tolist()) )\n",
    "a,b = calc_local_polar_order( c, np.array( df_sylinder.orientation.tolist()),boxsize)\n",
    "\n",
    "# Get nodes in clusters\n",
    "cc, cc_bool = get_nodes_in_clusters(\n",
    "        df_sylinder.gid.tolist(),\n",
    "        df_protein.link0.tolist(),\n",
    "        df_protein.link1.tolist(),\n",
    "        min_size_ratio=0.1)\n",
    "\n",
    "t1 = time.time()\n",
    "print('Time elapsed = {}'.format(t1-t0))"
   ]
  },
  {
   "cell_type": "code",
   "execution_count": 57,
   "metadata": {},
   "outputs": [
    {
     "name": "stdout",
     "output_type": "stream",
     "text": [
      "time elapsed = 1.5853219032287598\n"
     ]
    }
   ],
   "source": [
    "r0 = df_sylinder.pos0[0]\n",
    "u0 = df_sylinder.orientation[0]\n",
    "r1 = df_sylinder.pos0[1]\n",
    "u1 = df_sylinder.orientation[1]\n",
    "\n",
    "@njit\n",
    "def pair_partition_func_centers(centers):\n",
    "    \n",
    "    q = np.zeros((centers.shape[0], centers.shape[0]))\n",
    "    # for each pair of centers, calculate pair_partition function\n",
    "    for idx1 in np.arange( centers.shape[0]):\n",
    "        q[idx1,:] = pair_partition_func_i_centers( \n",
    "            centers[idx1,:], centers, q[idx1,:])\n",
    "    return q\n",
    "\n",
    "@njit\n",
    "def pair_partition_func_i_centers(r0,r1,q):\n",
    "    \n",
    "    # distance between centers\n",
    "    dist = r0-r1\n",
    "    for idx in np.arange( dist.shape[1]):\n",
    "        q+= dist[:,idx]**2\n",
    "    return q\n",
    "\n",
    "t0 = time.time()\n",
    "q = pair_partition_func_centers(\n",
    "    np.array( df_sylinder.pos0.tolist() ))\n",
    "print('time elapsed = {}'.format(time.time()-t0))"
   ]
  },
  {
   "cell_type": "code",
   "execution_count": 224,
   "metadata": {},
   "outputs": [],
   "source": [
    "def calc_cyl_corr_single( c_ref, c_all, axis_cyl):\n",
    "    # calculates a binned (x^2+y^2) vs z binned matrix for distributions of points relative to reference point.\n",
    "\n",
    "    # transform all other coordinates\n",
    "#     c_tall = transform_coords(\n",
    "#             c_all-c_ref,\n",
    "#             np.array([0,0,0]),\n",
    "#             axis_cyl)\n",
    "    c_tall = c_all-c_ref\n",
    "            \n",
    "\n",
    "    x2y2sqrt = np.sqrt(\n",
    "            c_tall[:,0]**2 + c_tall[:,1]**2 )\n",
    "    z = c_tall[:,2]\n",
    "\n",
    "    return x2y2sqrt, z\n",
    "\n",
    "def calc_cyl_corr( c_all, axis_cyl):\n",
    "    # calculates a binned (x^2+y^2) vs z binned matrix for all pairs of distributions of points\n",
    "\n",
    "    sz = c_all.shape[0]\n",
    "    xyall = np.zeros( sz**2)\n",
    "    zall = np.zeros( sz**2)\n",
    "    for idx in np.arange(sz):\n",
    "        xyall[idx*sz:idx*sz+sz], zall[idx*sz:idx*sz+sz] = calc_cyl_corr_single(\n",
    "                c_all[idx,:],\n",
    "                c_all, axis_cyl)\n",
    "    return xyall, zall\n",
    "\n",
    "xy,z = calc_cyl_corr( c, np.array([0,0,1]) )"
   ]
  },
  {
   "cell_type": "code",
   "execution_count": 233,
   "metadata": {},
   "outputs": [
    {
     "data": {
      "text/plain": [
       "<matplotlib.image.AxesImage at 0x181e62f10>"
      ]
     },
     "execution_count": 233,
     "metadata": {},
     "output_type": "execute_result"
    },
    {
     "data": {
      "image/png": "[encoded data removed]",
      "text/plain": [
       "<Figure size 1008x432 with 1 Axes>"
      ]
     },
     "metadata": {
      "needs_background": "light"
     },
     "output_type": "display_data"
    }
   ],
   "source": [
    "from matplotlib.image import NonUniformImage\n",
    "\n",
    "xyedges = np.arange(0,0.5,0.0125)\n",
    "zedges = np.arange(-0.5,0.5,0.0125)\n",
    "W = np.outer( math.pi*(xyedges[1:]**2 - xyedges[:-1]**2), (zedges[1:]-zedges[:-1]) )\n",
    "H,xyedges,zedges = np.histogram2d(xy,z, bins=(xyedges, zedges) )\n",
    "H = H\n",
    "fig,ax = plt.subplots(figsize=(14, 6))\n",
    "plt.imshow(H.T, interpolation='nearest',\n",
    "        extent=[xyedges[0], xyedges[-1], zedges[0], zedges[-1]])"
   ]
  },
  {
   "cell_type": "code",
   "execution_count": 163,
   "metadata": {},
   "outputs": [],
   "source": [
    "c_all = c-c[0,:]\n",
    "xyt = np.sqrt(\n",
    "        c_all[:,0]**2 + c_all[:,1]**2 )\n",
    "zt = c_all[:,2]\n"
   ]
  },
  {
   "cell_type": "code",
   "execution_count": 204,
   "metadata": {},
   "outputs": [
    {
     "data": {
      "text/plain": [
       "(20, 10)"
      ]
     },
     "execution_count": 204,
     "metadata": {},
     "output_type": "execute_result"
    }
   ],
   "source": [
    "X.shape"
   ]
  },
  {
   "cell_type": "code",
   "execution_count": 167,
   "metadata": {},
   "outputs": [
    {
     "data": {
      "text/plain": [
       "array([0.  , 0.05, 0.1 , 0.15, 0.2 , 0.25, 0.3 , 0.35, 0.4 , 0.45, 0.5 ,\n",
       "       0.55, 0.6 , 0.65, 0.7 , 0.75, 0.8 , 0.85, 0.9 , 0.95])"
      ]
     },
     "execution_count": 167,
     "metadata": {},
     "output_type": "execute_result"
    }
   ],
   "source": [
    "np.arange(0,1,0.05)"
   ]
  },
  {
   "cell_type": "code",
   "execution_count": 191,
   "metadata": {},
   "outputs": [
    {
     "data": {
      "text/plain": [
       "(9, 19)"
      ]
     },
     "execution_count": 191,
     "metadata": {},
     "output_type": "execute_result"
    }
   ],
   "source": [
    "H.shape"
   ]
  },
  {
   "cell_type": "code",
   "execution_count": 189,
   "metadata": {},
   "outputs": [
    {
     "data": {
      "text/plain": [
       "array([0.05, 0.05, 0.05, 0.05, 0.05, 0.05, 0.05, 0.05, 0.05, 0.05, 0.05,\n",
       "       0.05, 0.05, 0.05, 0.05, 0.05, 0.05, 0.05, 0.05])"
      ]
     },
     "execution_count": 189,
     "metadata": {},
     "output_type": "execute_result"
    }
   ],
   "source": [
    "(zedges[1:]-zedges[:-1])"
   ]
  },
  {
   "cell_type": "code",
   "execution_count": 217,
   "metadata": {},
   "outputs": [
    {
     "data": {
      "text/plain": [
       "<matplotlib.image.NonUniformImage at 0x12ee03400>"
      ]
     },
     "execution_count": 217,
     "metadata": {},
     "output_type": "execute_result"
    }
   ],
   "source": [
    "im"
   ]
  },
  {
   "cell_type": "code",
   "execution_count": 222,
   "metadata": {},
   "outputs": [
    {
     "data": {
      "text/plain": [
       "<matplotlib.collections.QuadMesh at 0x130afe940>"
      ]
     },
     "execution_count": 222,
     "metadata": {},
     "output_type": "execute_result"
    },
    {
     "data": {
      "image/png": "[encoded data removed]",
      "text/plain": [
       "<Figure size 504x216 with 2 Axes>"
      ]
     },
     "metadata": {
      "needs_background": "light"
     },
     "output_type": "display_data"
    }
   ],
   "source": [
    "xedges = np.arange(0,0.5,0.0125)\n",
    "yedges = np.arange(-0.5,0.5,0.0125)\n",
    "W = np.outer( math.pi*(xedges[1:]**2 - xedges[:-1]**2), (yedges[1:]-yedges[:-1]) )\n",
    "\n",
    "x = xy\n",
    "y = z\n",
    "H, xedges, yedges = np.histogram2d(x, y, bins=(xedges, yedges))\n",
    "H = H.T  # Let each row list bins with common y range.\n",
    "\n",
    "fig = plt.figure(figsize=(7, 3))\n",
    "ax = fig.add_subplot(131, title='imshow: square bins')\n",
    "plt.imshow(H, interpolation='nearest', origin='lower',\n",
    "        extent=[xedges[0], xedges[-1], yedges[0], yedges[-1]])\n",
    "\n",
    "ax = fig.add_subplot(132, title='pcolormesh: actual edges',\n",
    "        aspect='equal')\n",
    "X, Y = np.meshgrid(xedges, yedges)\n",
    "ax.pcolormesh(X, Y, H)\n",
    "\n",
    "# ax = fig.add_subplot(133, title='NonUniformImage: interpolated',\n",
    "#         aspect='equal', xlim=xedges[[0, -1]], ylim=yedges[[0, -1]])\n",
    "# im = NonUniformImage(ax, interpolation='bilinear')\n",
    "# xcenters = (xedges[:-1] + xedges[1:]) / 2\n",
    "# ycenters = (yedges[:-1] + yedges[1:]) / 2\n",
    "# im.set_data(xcenters, ycenters, H)\n",
    "# ax.images.append(im)\n",
    "# plt.show()"
   ]
  },
  {
   "cell_type": "code",
   "execution_count": 18,
   "metadata": {},
   "outputs": [
    {
     "data": {
      "text/plain": [
       "[<matplotlib.lines.Line2D at 0x12ce5cfa0>]"
      ]
     },
     "execution_count": 18,
     "metadata": {},
     "output_type": "execute_result"
    },
    {
     "data": {
      "image/png": "[encoded data removed]",
      "text/plain": [
       "<Figure size 432x288 with 1 Axes>"
      ]
     },
     "metadata": {
      "needs_background": "light"
     },
     "output_type": "display_data"
    }
   ],
   "source": [
    "x = np.arange(200)\n",
    "y = 1.0*x**2\n",
    "y[50:60] = np.nan\n",
    "plt.plot(x,y)"
   ]
  },
  {
   "cell_type": "code",
   "execution_count": 11,
   "metadata": {},
   "outputs": [
    {
     "data": {
      "image/png": "[encoded data removed]",
      "text/plain": [
       "<Figure size 432x288 with 1 Axes>"
      ]
     },
     "metadata": {
      "needs_background": "light"
     },
     "output_type": "display_data"
    }
   ],
   "source": [
    "x = np.linspace(-np.pi/2, np.pi/2, 31)\n",
    "y = np.cos(x)**3\n",
    "\n",
    "# 3) set to NaN where y > 0.7\n",
    "y4 = y.copy()\n",
    "y4[y > 0.7] = np.nan\n",
    "\n",
    "plt.plot(x*1.0, y4, 'o-', label='NaN values')\n",
    "plt.legend()\n",
    "plt.title('Masked and NaN data')\n",
    "plt.show()"
   ]
  },
  {
   "cell_type": "code",
   "execution_count": 15,
   "metadata": {},
   "outputs": [
    {
     "data": {
      "text/plain": [
       "2500"
      ]
     },
     "execution_count": 15,
     "metadata": {},
     "output_type": "execute_result"
    }
   ],
   "source": [
    "y[50]"
   ]
  },
  {
   "cell_type": "code",
   "execution_count": null,
   "metadata": {},
   "outputs": [],
   "source": []
  }
 ],
 "metadata": {
  "kernelspec": {
   "display_name": "Python 3",
   "language": "python",
   "name": "python3"
  },
  "language_info": {
   "codemirror_mode": {
    "name": "ipython",
    "version": 3
   },
   "file_extension": ".py",
   "mimetype": "text/x-python",
   "name": "python",
   "nbconvert_exporter": "python",
   "pygments_lexer": "ipython3",
   "version": "3.8.5"
  }
 },
 "nbformat": 4,
 "nbformat_minor": 4
}
