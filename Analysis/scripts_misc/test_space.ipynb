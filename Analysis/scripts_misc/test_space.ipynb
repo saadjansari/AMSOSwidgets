{
 "cells": [
  {
   "cell_type": "code",
   "execution_count": 26,
   "metadata": {},
   "outputs": [],
   "source": [
    "import os\n",
    "import numpy as np\n",
    "import pandas as pd\n",
    "import math\n",
    "from numba import njit\n",
    "import open3d as o3d\n",
    "import networkx as nx\n",
    "import functools\n",
    "import time\n",
    "from matplotlib import pyplot as plt\n",
    "from pytransform3d import rotations as pyro\n",
    "\n",
    "def timer( func):\n",
    "    \"\"\" Print runtime of decorated functions \"\"\"\n",
    "    @functools.wraps( func)\n",
    "    def wrapper_timer( *args, **kwargs):\n",
    "        start_time = time.perf_counter()\n",
    "        value = func( *args, **kwargs)\n",
    "        end_time = time.perf_counter()\n",
    "        run_time = end_time - start_time\n",
    "        print(f\"Finished {func.__name__!r} in {run_time:.4f} secs\")\n",
    "        return value\n",
    "    return wrapper_timer"
   ]
  },
  {
   "cell_type": "markdown",
   "metadata": {},
   "source": [
    "### Read .dat files"
   ]
  },
  {
   "cell_type": "code",
   "execution_count": 27,
   "metadata": {},
   "outputs": [],
   "source": [
    "def read_dat_sylinder( fname):\n",
    "    # Read a SylinderAscii_X.dat file\n",
    "\n",
    "    # open the file and read the lines\n",
    "    with open(fname, 'r') as file1:\n",
    "        filecontent = file1.readlines()\n",
    "\n",
    "        # Initialize numpy arrays for data\n",
    "        gids = np.zeros( len(filecontent)-2, dtype=int)\n",
    "        rad = np.zeros(len(filecontent)-2)\n",
    "        pos0 = np.zeros( (len(filecontent)-2,3))\n",
    "        pos1 = np.zeros( (len(filecontent)-2,3))\n",
    "        ort = np.zeros( (len(filecontent)-2,3))\n",
    "\n",
    "        # Delete the first two lines because they dont have any data\n",
    "        filecontent[0:2] = []\n",
    "        for idx,line in enumerate(filecontent):\n",
    "\n",
    "            # Split the string with space-delimited and convert strings into useful data types\n",
    "            data = line.split()\n",
    "            gids[idx] = int(data[1])\n",
    "\n",
    "            dat = np.array( list(map(float,data[2::])) )\n",
    "            rad[idx] = dat[0]\n",
    "            pos0[idx,:] = dat[1:4]\n",
    "            pos1[idx,:] = dat[4::]\n",
    "            xi = pos1[idx,:] - pos0[idx,:]\n",
    "            ort[idx,:] =  xi/np.sqrt(xi.dot(xi))\n",
    "\n",
    "    # Store data as a dataframe\n",
    "    df = pd.DataFrame({\n",
    "        'gid': gids,\n",
    "        'radius' : rad,\n",
    "        'pos0' : list(pos0),\n",
    "        'pos1': list(pos1),\n",
    "        'orientation': list(ort)\n",
    "        })\n",
    "    return df\n",
    "\n",
    "def read_dat_protein( fname):\n",
    "    # Read a ProetinAscii_X.dat file\n",
    "\n",
    "    # open the file and read the lines\n",
    "    with open(fname, 'r') as file1:\n",
    "        filecontent = file1.readlines()\n",
    "\n",
    "        # Delete the first two lines because they dont have any data\n",
    "        filecontent[0:2] = []\n",
    "\n",
    "        # Initialize numpy arrays for data\n",
    "        gids = np.zeros( len(filecontent), dtype=int)\n",
    "        pos0 = np.zeros( (len(filecontent),3))\n",
    "        pos1 = np.zeros( (len(filecontent),3))\n",
    "        link0 = np.zeros( len(filecontent), dtype=int)\n",
    "        link1 = np.zeros( len(filecontent), dtype=int)\n",
    "\n",
    "        for idx,line in enumerate(filecontent):\n",
    "\n",
    "            # Split the string with space-delimited and convert strings into useful data types\n",
    "            data = line.split()\n",
    "            # pdb.set_trace()\n",
    "            gids[idx] = int(data[1])\n",
    "            link0[idx] = int(data[9])\n",
    "            link1[idx] = int(data[10])\n",
    "            dat = np.array( list(map(float,data[2:9])) )\n",
    "            pos0[idx,:] = dat[1:4]\n",
    "            pos1[idx,:] = dat[4::]\n",
    "\n",
    "    # Store data as a dataframe\n",
    "    df = pd.DataFrame({\n",
    "        'gid': gids,\n",
    "        'pos0' : list(pos0),\n",
    "        'pos1': list(pos1),\n",
    "        'link0': link0,\n",
    "        'link1': link1\n",
    "        })\n",
    "    return df"
   ]
  },
  {
   "cell_type": "markdown",
   "metadata": {},
   "source": [
    "### Ordering "
   ]
  },
  {
   "cell_type": "code",
   "execution_count": 28,
   "metadata": {},
   "outputs": [],
   "source": [
    "@timer\n",
    "def calc_nematic_order(orient_array):\n",
    "    # Calculates the maximum eigenvalue of the nematic tensor Q\n",
    "\n",
    "    if not orient_array.any():\n",
    "        return np.nan\n",
    "\n",
    "    # calculate Q tensor\n",
    "    Q = calc_nematic_tensor(orient_array)\n",
    "    S = np.sqrt(np.tensordot(Q, Q)*1.5)\n",
    "    return S\n",
    "\n",
    "@timer\n",
    "@njit\n",
    "def calc_polar_order(orient_array):\n",
    "    # Calculates the polar order given the array of filament orientations\n",
    "\n",
    "    if not orient_array.any():\n",
    "        return np.nan\n",
    "\n",
    "    # Initialize P vector\n",
    "    Pvec = np.zeros(3)\n",
    "\n",
    "    # Take a mean of all orientations\n",
    "    for irow in np.arange( orient_array.shape[0]):\n",
    "        Pvec += orient_array[irow,:]\n",
    "    Pvec = Pvec / orient_array.shape[0]\n",
    "    P = np.linalg.norm( Pvec)\n",
    "    return P\n",
    "\n",
    "\n",
    "@njit\n",
    "def calc_nematic_tensor( orient_array):\n",
    "    # Calculates the nematic tensor Q\n",
    "\n",
    "    # initialize Q tensor\n",
    "    Q = np.zeros((3,3))\n",
    "    # sum over all filaments, taking their outer products\n",
    "    for irow in np.arange(orient_array.shape[0]):\n",
    "        Q += np.outer( orient_array[irow,:], orient_array[irow,:])\n",
    "\n",
    "    # complete mean calculation by dividing by number of filaments and subtracting identity.\n",
    "    Q = Q/orient_array.shape[0] - np.identity(3)/3\n",
    "    return Q\n",
    "\n",
    "@timer\n",
    "@njit\n",
    "def calc_z_ordering( orient_array):\n",
    "    # Calculate alignment in z\n",
    "\n",
    "    if not orient_array.any():\n",
    "        return np.nan\n",
    "\n",
    "    z_axis = np.array( [0.,0.,1.])\n",
    "    sum_all = 0\n",
    "    for idx in np.arange( orient_array.shape[0]):\n",
    "        sum_all += np.absolute( orient_array[idx,:].dot(z_axis) )\n",
    "    return sum_all/orient_array.shape[0]\n",
    "\n",
    "@timer\n",
    "@njit\n",
    "def calc_local_polar_order( c, orients, boxsize):\n",
    "    # Calculate the local polar order\n",
    "    \n",
    "    if not orients.any():\n",
    "        return np.nan, np.nan\n",
    "    \n",
    "    porder_par = 0\n",
    "    porder_apar = 0\n",
    "    \n",
    "    # Define a maximum distance for infinite square potential well\n",
    "    dist_max = 4*0.025\n",
    "    \n",
    "    # coordinate indices within the distance range\n",
    "    q = pair_partition_func_centers(c, boxsize)\n",
    "\n",
    "    for idx in np.arange( q.shape[0]):\n",
    "        \n",
    "        o_parallel = np.zeros(3)\n",
    "        o_aparallel = np.zeros(3)\n",
    "        n_parallel = 0\n",
    "        n_aparallel = 0\n",
    "        \n",
    "        # orientation of reference filament\n",
    "        o1 = orients[idx,:]\n",
    "        dp = np.dot(orients, o1)\n",
    "        scaled_orients = np.multiply( orients.transpose(), q[idx,:]).transpose()\n",
    "        for idx1 in np.arange(q.shape[1]):\n",
    "            if dp[idx1] >0:\n",
    "                o_parallel += scaled_orients[idx1,:]\n",
    "                n_parallel += 1\n",
    "            else:\n",
    "                o_aparallel += scaled_orients[idx1,:]\n",
    "                n_aparallel += 1\n",
    "        \n",
    "        if n_parallel > 0:\n",
    "            porder_par += np.linalg.norm( o_parallel/n_parallel)\n",
    "        if n_aparallel > 0:\n",
    "            porder_apar += np.linalg.norm( o_aparallel/n_aparallel)\n",
    "        \n",
    "    return porder_par/c.shape[0], porder_apar/c.shape[0]"
   ]
  },
  {
   "cell_type": "markdown",
   "metadata": {},
   "source": [
    "### Cluster parsing "
   ]
  },
  {
   "cell_type": "code",
   "execution_count": 29,
   "metadata": {},
   "outputs": [],
   "source": [
    "@timer\n",
    "def get_nodes_in_clusters( nodes, edge0, edge1, min_size_ratio=0.1):\n",
    "    # Get largesst connected component\n",
    "    # nodes is a list of integers representing node indices\n",
    "    # edge0 / edge1 are the list of nodes that each edge connects to.\n",
    "    # Indices whose values are -1 are ignored in both edge0 and edge1.\n",
    "\n",
    "    # Create a graph for filaments\n",
    "    g = nx.Graph()\n",
    "    g.add_nodes_from( nodes)\n",
    "\n",
    "    # add edges to the graph\n",
    "    for e0,e1 in zip( edge0,edge1):\n",
    "        if e0 != -1 and e1 != -1:\n",
    "            g.add_edge(e0, e1)\n",
    "\n",
    "    # find connected component largest\n",
    "    cc_sort = sorted(nx.connected_components(g), key=len, reverse=True)\n",
    "    cc_large = [ii for ii in cc_sort if len(ii) > 0.1*len(nodes)]\n",
    "    cc = []\n",
    "    for clus in cc_large:\n",
    "        cc+=clus\n",
    "\n",
    "    # also get a boolean array representing nodes that are in the largest cc\n",
    "    cc_bool = np.zeros(len(nodes), dtype=bool)\n",
    "    cc_bool[ cc] = True\n",
    "    return cc, cc_bool\n",
    "\n",
    "@timer\n",
    "def get_largest_cc( nodes, edge0, edge1):\n",
    "    # Get largesst connected component\n",
    "    # nodes is a list of integers representing node indices\n",
    "    # edge0 / edge1 are the list of nodes that each edge connects to.\n",
    "    # Indices whose values are -1 are ignored in both edge0 and edge1.\n",
    "\n",
    "    # Create a graph for filaments\n",
    "    g = nx.Graph()\n",
    "    g.add_nodes_from( nodes)\n",
    "\n",
    "    # add edges to the graph\n",
    "    for e0,e1 in zip( edge0,edge1):\n",
    "        if e0 != -1 and e1 != -1:\n",
    "            g.add_edge(e0, e1)\n",
    "\n",
    "    # find connected component largest\n",
    "    cc = list( max(nx.connected_components(g), key=len) )\n",
    "\n",
    "    # also get a boolean array representing nodes that are in the largest cc\n",
    "    cc_bool = np.zeros(len(nodes), dtype=bool)\n",
    "    cc_bool[ cc] = True\n",
    "    return cc, cc_bool\n",
    "\n",
    "@timer\n",
    "@njit\n",
    "def get_edges_in_largest_cc( cc, edge0, edge1):\n",
    "\n",
    "    # initialize\n",
    "    idx_edges = []\n",
    "    n_edges = 0\n",
    "\n",
    "    # num xlinks in biggest cluster\n",
    "    for idx in np.arange(len(edge0)):\n",
    "        if edge0[idx] != -1 or edge1[idx] != -1:\n",
    "            idx_edges.append( idx_edges)\n",
    "            n_edges+=1\n",
    "\n",
    "    return idx_edges, n_edges"
   ]
  },
  {
   "cell_type": "markdown",
   "metadata": {},
   "source": [
    "###  Distances in periodic boundaries"
   ]
  },
  {
   "cell_type": "code",
   "execution_count": 30,
   "metadata": {},
   "outputs": [],
   "source": [
    "@njit\n",
    "def calc_distance_pbc(p0,p1,boxsize):\n",
    "    # distance between two points in the nearest image convention\n",
    "    # can use multidimensional arrays for distances between multiple points\n",
    "    dist = np.absolute( p1-p0)\n",
    "    for idx in np.arange(dist.shape[-1]):\n",
    "        if len(dist.shape) == 1:\n",
    "            k = np.floor( dist[idx]/(0.5*boxsize[idx]))\n",
    "            dist[idx] -= k*boxsize[idx]\n",
    "        elif len(dist.shape) == 2:\n",
    "            k = np.floor( dist[:,idx]/(0.5*boxsize[idx]))\n",
    "            dist[:,idx] -= k*boxsize[idx]\n",
    "        # elif len(dist.shape) == 3:\n",
    "            # k = np.floor( dist[:,:,idx]/(0.5*boxsize[idx]))\n",
    "            # dist[:,:,idx] -= k*boxsize[idx]\n",
    "    return np.absolute(dist)\n",
    "\n",
    "@njit\n",
    "def calc_mean_pbc(p0,p1,boxsize):\n",
    "    # mean of the two points in the nearest image\n",
    "    dist = np.absolute(p1-p0)\n",
    "    for idx in np.arange(dist.shape[-1]):\n",
    "        if len(dist.shape) == 1:\n",
    "            k = np.floor( dist[idx]/(0.5*boxsize[idx]))\n",
    "            p1[idx] -= k*boxsize[idx]\n",
    "        elif len(dist.shape) == 2:\n",
    "            k = np.floor( dist[:,idx]/(0.5*boxsize[idx]))\n",
    "            p1[:,idx] -= k*boxsize[idx]\n",
    "        # elif len(dist.shape) == 3:\n",
    "            # k = np.floor( dist[:,:,idx]/(0.5*boxsize[idx]))\n",
    "            # p1[:,:,idx] -= k*boxsize[idx]\n",
    "    return (p0 + p1)/2\n",
    "\n",
    "@njit\n",
    "def unfold_coordinates(crds,boxsize):\n",
    "    # unfolded crds via the nearest image convention\n",
    "\n",
    "    # reference coordinate\n",
    "    c_ref = crds[0,:]\n",
    "    dist = np.absolute( crds-c_ref)\n",
    "    for idx in np.arange(crds.shape[-1]):\n",
    "        k = np.floor( dist[:,idx]/(0.4*boxsize[idx]))\n",
    "        crds[:,idx] -= k*boxsize[idx]\n",
    "    return crds\n",
    "\n",
    "@timer\n",
    "@njit\n",
    "def calc_mean_separation(coords,boxsize):\n",
    "    # Calculate mean pair-pair separation\n",
    "\n",
    "    # Initialize\n",
    "    num_coords = coords.shape[0]\n",
    "    mu = 0\n",
    "    sig = 0\n",
    "\n",
    "    mean_p2p = calc_mean_p2p_dist( coords, boxsize)\n",
    "    for idx in np.arange( num_coords):\n",
    "        mu += mean_p2p[idx]\n",
    "    mu = mu/num_coords\n",
    "    sig = np.std( mean_p2p)\n",
    "    return mu,sig\n",
    "\n",
    "\n",
    "@njit\n",
    "def calc_mean_p2p_dist(coords, boxsize):\n",
    "    # Calculate mean separation of every filament from all other pairs\n",
    "\n",
    "    # Initialize\n",
    "    num_coords = coords.shape[0]\n",
    "    mean_p2p = np.zeros( num_coords)\n",
    "\n",
    "    # Calculate p2p distance matrix\n",
    "    p2p_mat = pair_partition_func_centers(coords, boxsize)\n",
    "    for idx in np.arange( num_coords):\n",
    "        for idx2 in np.arange(num_coords):\n",
    "            mean_p2p[idx] += p2p_mat[idx,idx2]\n",
    "        mean_p2p[idx] = mean_p2p[idx]/num_coords\n",
    "\n",
    "    return mean_p2p\n",
    "\n",
    "@njit\n",
    "def msd_pairs(lags,c,nT,nF,boxsize,boolRodsInside):\n",
    "    mu = np.zeros(lags.shape)\n",
    "    sig = np.zeros(lags.shape)\n",
    "    for idx in range(lags.size):\n",
    "        pptdiff = np.zeros(nT-lags[idx])\n",
    "        for it in range(pptdiff.size):\n",
    "\n",
    "            #find rods inside at both times\n",
    "            rods_in = np.logical_and( boolRodsInside[it],boolRodsInside[it+lags[idx]])\n",
    "\n",
    "            ppt1=dist2all(c[it,:,:],nT,nF,boxsize,rods_in)\n",
    "            ppt2=dist2all(c[it+lags[idx],:,:],nT,nF,boxsize,rods_in)\n",
    "\n",
    "            res = 0\n",
    "            for idx2 in range(ppt1.size):\n",
    "                res+=(ppt2[idx2]-ppt1[idx2])**2\n",
    "            pptdiff[it] = res/ppt1.size\n",
    "        mu[idx] = np.mean(pptdiff)\n",
    "        sig[idx] = np.std(pptdiff)\n",
    "    return mu,sig\n",
    "\n",
    "@njit\n",
    "def pair_partition_func_centers(centers, boxsize):\n",
    "    \n",
    "    q = np.zeros((centers.shape[0], centers.shape[0]))\n",
    "    # for each pair of centers, calculate pair_partition function\n",
    "    for idx1 in np.arange( centers.shape[0]):\n",
    "        q[idx1,:] = pair_partition_func_i_centers( \n",
    "            centers[idx1,:], centers, q[idx1,:], boxsize)\n",
    "    return q\n",
    "\n",
    "@njit\n",
    "def pair_partition_func_i_centers(r0,r1,q, boxsize):\n",
    "    \n",
    "    # distance between centers\n",
    "    dist = r0-r1\n",
    "    for idx in np.arange( dist.shape[1]):\n",
    "        q+= dist[:,idx]**2\n",
    "    return q"
   ]
  },
  {
   "cell_type": "markdown",
   "metadata": {},
   "source": [
    "### Misc"
   ]
  },
  {
   "cell_type": "code",
   "execution_count": 31,
   "metadata": {},
   "outputs": [],
   "source": [
    "@timer\n",
    "@njit\n",
    "def calc_protein_energy( lengths, rest_length):\n",
    "\n",
    "    if not lengths.any():\n",
    "        return np.nan,np.nan\n",
    "    \n",
    "    # Energy\n",
    "    sum_energy = 0\n",
    "    for ix in np.arange( len(lengths) ):\n",
    "        sum_energy += 0.5*( lengths[ix]-rest_length)**2\n",
    "    xlink_mu = sum_energy / lengths.shape[0]\n",
    "\n",
    "    sum_energy_sq = 0\n",
    "    for ix in np.arange( len(lengths) ):\n",
    "        sum_energy_sq += ( 0.5*( lengths[ix]-rest_length)**2 - xlink_mu)\n",
    "    xlink_std = np.sqrt( sum_energy_sq/lengths.shape[0])\n",
    "\n",
    "    return xlink_mu, xlink_std\n",
    "\n",
    "\n",
    "@timer\n",
    "def calc_aspect_ratio( coords):\n",
    "    # Calculate aspect ratio of bounding box of a collection of 3D points\n",
    "\n",
    "    if not coords.any():\n",
    "        return np.nan\n",
    "    \n",
    "    pcd = o3d.geometry.PointCloud()\n",
    "    pcd.points = o3d.utility.Vector3dVector( coords)\n",
    "    obb = pcd.get_oriented_bounding_box()\n",
    "\n",
    "    xx = obb.extent\n",
    "    aspect_ratio = max( xx) / np.mean(sorted(xx)[0:2])\n",
    "    return aspect_ratio"
   ]
  },
  {
   "cell_type": "markdown",
   "metadata": {},
   "source": [
    "### Code:"
   ]
  },
  {
   "cell_type": "code",
   "execution_count": 33,
   "metadata": {},
   "outputs": [],
   "source": [
    "fpath = \"/Users/saadjansari/Documents/Projects/Results/AMSOS/Tactoids/scan_filamin_6400/run/f5_merged\"\n",
    "fpath_actin = os.path.join(fpath, \"result/result800-1199/SylinderAscii_1040.dat\")\n",
    "fpath_xlinks = os.path.join(fpath, \"result/result800-1199/ProteinAscii_1040.dat\")\n",
    "\n",
    "# fpath = \"/Users/saadjansari/Documents/Projects/Results/AMSOS/Confinement/scan_d_pf_const_num/run/pf08_d10/s0\"\n",
    "# fpath_actin = os.path.join(fpath, \"result/result400-799/SylinderAscii_510.dat\")\n",
    "# fpath_xlinks = os.path.join(fpath, \"result/result400-799/ProteinAscii_510.dat\")\n",
    "\n",
    "df_sylinder = read_dat_sylinder(fpath_actin)\n",
    "df_protein = read_dat_protein(fpath_xlinks)\n",
    "\n",
    "boxsize=np.array([3.17,3.17,3.17])\n",
    "data={}"
   ]
  },
  {
   "cell_type": "code",
   "execution_count": 35,
   "metadata": {},
   "outputs": [
    {
     "name": "stdout",
     "output_type": "stream",
     "text": [
      "Finished 'get_nodes_in_clusters' in 0.0628 secs\n",
      "Finished 'calc_nematic_order' in 0.0026 secs\n",
      "Finished 'calc_polar_order' in 0.0002 secs\n",
      "Finished 'calc_nematic_order' in 0.0011 secs\n",
      "Finished 'calc_polar_order' in 0.0001 secs\n",
      "Finished 'calc_protein_energy' in 0.0001 secs\n",
      "Finished 'calc_aspect_ratio' in 0.0012 secs\n",
      "Finished 'calc_z_ordering' in 0.0002 secs\n",
      "Time elapsed = 0.11505889892578125\n"
     ]
    }
   ],
   "source": [
    "import time\n",
    "t0 = time.time()\n",
    "\n",
    "# Filament centers\n",
    "c = calc_mean_pbc(\n",
    "    np.array(df_sylinder.pos0.tolist()),\n",
    "    np.array(df_sylinder.pos1.tolist()),\n",
    "    boxsize)\n",
    "\n",
    "# Check existence of a cluster\n",
    "# Get largest connected component using information about xlinks\n",
    "cc, cc_bool = get_nodes_in_clusters(\n",
    "        df_sylinder.gid.tolist(),\n",
    "        df_protein.link0.tolist(),\n",
    "        df_protein.link1.tolist(),\n",
    "        min_size_ratio=0.1)\n",
    "df_sylinder_cc = df_sylinder[cc_bool]\n",
    "data['num_cluster'] = len(df_sylinder_cc)\n",
    "\n",
    "# Global order\n",
    "# Bulk and Cluster\n",
    "data['S_bulk'] = calc_nematic_order(\n",
    "    np.array(df_sylinder.orientation.tolist()))\n",
    "data['P_bulk'] = calc_polar_order(\n",
    "    np.array(df_sylinder.orientation.tolist()))\n",
    "data['S_cluster'] = calc_nematic_order(\n",
    "    np.array(df_sylinder_cc.orientation.tolist()))\n",
    "data['P_cluster'] = calc_polar_order(\n",
    "    np.array(df_sylinder_cc.orientation.tolist()))\n",
    "\n",
    "# Pair-pair separation\n",
    "# data['mean_sep_bulk'] = list(\n",
    "#     calc_mean_separation(c, boxsize))\n",
    "# data['mean_sep_cluster'] = list(\n",
    "#     calc_mean_separation(c[cc, :], boxsize))\n",
    "\n",
    "# Xlink\n",
    "# xlink lengths\n",
    "xlink_lengths = np.linalg.norm(\n",
    "    calc_distance_pbc(\n",
    "        np.array(df_protein.pos0.tolist()),\n",
    "        np.array(df_protein.pos1.tolist()),\n",
    "        boxsize), axis=1)\n",
    "data['xlink_energy'] = list(\n",
    "    calc_protein_energy(xlink_lengths, 0.05))\n",
    "\n",
    "ends_cc = np.vstack( (\n",
    "    np.array( df_sylinder.pos0.tolist())[cc,:],\n",
    "    np.array( df_sylinder.pos1.tolist())[cc,:]))\n",
    "data['tactoid_aspect_ratio'] = calc_aspect_ratio(\n",
    "        unfold_coordinates( ends_cc, boxsize))\n",
    "\n",
    "data['z_order'] = calc_z_ordering(\n",
    "    np.array(df_sylinder.orientation.tolist()))\n",
    "\n",
    "# data['local_polar_order'] = calc_local_polar_order(\n",
    "#         c,\n",
    "#         np.array( df_sylinder.orientation.tolist() ),\n",
    "#         boxsize)\n",
    "\n",
    "# Length distribution inside vs outside cluster\n",
    "len_fils = calc_distance_pbc(\n",
    "        np.array( df_sylinder.pos0.tolist()),\n",
    "        np.array( df_sylinder.pos1.tolist()),\n",
    "        boxsize)\n",
    "data['length_mean_bulk'] = np.mean(len_fils)\n",
    "data['length_mean_cluster'] = np.mean(len_fils[ cc_bool] )\n",
    "data['length_mean_env'] = np.mean(len_fils[ np.invert(cc_bool)] )\n",
    "t1 = time.time()\n",
    "print('Time elapsed = {}'.format(t1-t0))"
   ]
  },
  {
   "cell_type": "code",
   "execution_count": 235,
   "metadata": {},
   "outputs": [
    {
     "name": "stdout",
     "output_type": "stream",
     "text": [
      "Finished 'get_largest_cc' in 0.0018 secs\n",
      "Finished 'calc_nematic_order' in 0.0002 secs\n",
      "Finished 'calc_polar_order' in 0.0000 secs\n",
      "Finished 'calc_nematic_order' in 0.0001 secs\n",
      "Finished 'calc_polar_order' in 0.0000 secs\n",
      "Finished 'calc_mean_separation' in 0.0004 secs\n",
      "Finished 'calc_protein_energy' in 0.0000 secs\n",
      "Finished 'calc_z_ordering' in 0.0000 secs\n",
      "Finished 'calc_local_polar_order' in 0.0034 secs\n",
      "Finished 'get_nodes_in_clusters' in 0.0016 secs\n",
      "Time elapsed = 0.015432119369506836\n"
     ]
    }
   ],
   "source": [
    "import time\n",
    "t0 = time.time()\n",
    "boxsize=np.array([3.17,3.17,3.17])\n",
    "data={}\n",
    "# Filament centers\n",
    "c = calc_mean_pbc(\n",
    "    np.array( df_sylinder.pos0.tolist()),\n",
    "    np.array( df_sylinder.pos1.tolist()),\n",
    "    boxsize)\n",
    "\n",
    "# Check existence of a cluster\n",
    "# Get largest connected component using information about xlinks\n",
    "cc, cc_bool = get_largest_cc(\n",
    "        df_sylinder.gid.tolist(),\n",
    "        df_protein.link0.tolist(),\n",
    "        df_protein.link1.tolist() )\n",
    "df_sylinder_cc = df_sylinder[cc_bool]\n",
    "\n",
    "\n",
    "# Global order\n",
    "# Bulk and Cluster\n",
    "data['S_bulk'] = calc_nematic_order( np.array( df_sylinder.orientation.tolist()) )\n",
    "data['P_bulk'] = calc_polar_order( np.array( df_sylinder.orientation.tolist()) )\n",
    "data['S_cluster'] = calc_nematic_order( np.array( df_sylinder_cc.orientation.tolist()) )\n",
    "data['P_cluster'] = calc_polar_order( np.array( df_sylinder_cc.orientation.tolist()) )\n",
    "\n",
    "# Pair-pair separation\n",
    "# data['mean_sep_bulk'] = calc_mean_separation( c, boxsize)\n",
    "data['mean_sep_cluster'] = list(calc_mean_separation( c[cc,:], boxsize))\n",
    "\n",
    "# Xlink\n",
    "# Energy\n",
    "# xlink lengths\n",
    "xlink_lengths = np.linalg.norm(\n",
    "        calc_distance_pbc(\n",
    "            np.array( df_protein.pos0.tolist()),\n",
    "            np.array( df_protein.pos1.tolist()),\n",
    "            boxsize), axis=1)\n",
    "data['xlink_energy'] = list(calc_protein_energy( xlink_lengths, 0.05))\n",
    "\n",
    "#data['tactoid_aspect_ratio'] = calc_aspect_ratio( c[cc,:])\n",
    "data['z_order'] = calc_z_ordering( np.array( df_sylinder.orientation.tolist()) )\n",
    "a,b = calc_local_polar_order( c, np.array( df_sylinder.orientation.tolist()),boxsize)\n",
    "\n",
    "# Get nodes in clusters\n",
    "cc, cc_bool = get_nodes_in_clusters(\n",
    "        df_sylinder.gid.tolist(),\n",
    "        df_protein.link0.tolist(),\n",
    "        df_protein.link1.tolist(),\n",
    "        min_size_ratio=0.1)\n",
    "\n",
    "t1 = time.time()\n",
    "print('Time elapsed = {}'.format(t1-t0))"
   ]
  },
  {
   "cell_type": "code",
   "execution_count": 259,
   "metadata": {},
   "outputs": [],
   "source": [
    "def calc_cyl_corr_single( c_ref, c_all, idx_exclude, axis_cyl):\n",
    "    # calculates a binned (x^2+y^2) vs z binned matrix for distributions of points relative to reference point.\n",
    "\n",
    "    # transform all other coordinates\n",
    "#     c_tall = transform_coords(\n",
    "#             c_all-c_ref,\n",
    "#             np.array([0,0,0]),\n",
    "#             axis_cyl)\n",
    "    c_tall = c_all[ np.arange(c_all.shape[0])!=idx_exclude] - c_ref\n",
    "\n",
    "    x2y2sqrt = np.sqrt(\n",
    "            c_tall[:,0]**2 + c_tall[:,1]**2 )\n",
    "    z = c_tall[:,2]\n",
    "\n",
    "    return x2y2sqrt, z\n",
    "\n",
    "def calc_cyl_corr( c_all, axis_cyl):\n",
    "    # calculates a binned (x^2+y^2) vs z binned matrix for all pairs of distributions of points\n",
    "\n",
    "    sz = c_all.shape[0]\n",
    "    xyall = np.zeros( sz*(sz-1))\n",
    "    zall = np.zeros( sz*(sz-1))\n",
    "    for idx in np.arange(sz):\n",
    "        xyall[idx*(sz-1):idx*(sz-1)+(sz-1)], zall[idx*(sz-1):idx*(sz-1)+(sz-1)] = calc_cyl_corr_single(\n",
    "                c_all[idx,:],\n",
    "                c_all, idx,axis_cyl)\n",
    "    return xyall, zall\n",
    "\n",
    "xy,z = calc_cyl_corr( \n",
    "    np.array( df_sylinder.pos0.tolist()),\n",
    "    np.array([0,0,1]) )"
   ]
  },
  {
   "cell_type": "code",
   "execution_count": 260,
   "metadata": {},
   "outputs": [
    {
     "data": {
      "text/plain": [
       "<matplotlib.colorbar.Colorbar at 0x1377b8ee0>"
      ]
     },
     "execution_count": 260,
     "metadata": {},
     "output_type": "execute_result"
    },
    {
     "data": {
      "image/png": "[encoded data removed]",
      "text/plain": [
       "<Figure size 1008x432 with 2 Axes>"
      ]
     },
     "metadata": {
      "needs_background": "light"
     },
     "output_type": "display_data"
    }
   ],
   "source": [
    "from matplotlib.image import NonUniformImage\n",
    "\n",
    "xyedges = np.arange(0,0.25,0.0125)\n",
    "zedges = np.arange(-0.4,0.4,0.0125)\n",
    "W = np.outer( math.pi*(xyedges[1:]**2 - xyedges[:-1]**2), (zedges[1:]-zedges[:-1]) )\n",
    "H,xyedges,zedges = np.histogram2d(xy,z, bins=(xyedges, zedges) )\n",
    "H = H\n",
    "fig,ax = plt.subplots(figsize=(14, 6))\n",
    "plt.imshow(H.T, cmap='viridis', interpolation='nearest',\n",
    "        extent=[xyedges[0], xyedges[-1], zedges[0], zedges[-1]])\n",
    "plt.colorbar()"
   ]
  },
  {
   "cell_type": "code",
   "execution_count": 246,
   "metadata": {},
   "outputs": [
    {
     "data": {
      "text/plain": [
       "<matplotlib.collections.QuadMesh at 0x135f76c70>"
      ]
     },
     "execution_count": 246,
     "metadata": {},
     "output_type": "execute_result"
    },
    {
     "data": {
      "image/png": "[encoded data removed]",
      "text/plain": [
       "<Figure size 504x216 with 2 Axes>"
      ]
     },
     "metadata": {
      "needs_background": "light"
     },
     "output_type": "display_data"
    }
   ],
   "source": [
    "xedges = np.arange(0,0.5,0.0125)\n",
    "yedges = np.arange(-0.5,0.5,0.025)\n",
    "W = np.outer( math.pi*(xedges[1:]**2 - xedges[:-1]**2), (yedges[1:]-yedges[:-1]) )\n",
    "\n",
    "x = xy\n",
    "y = z\n",
    "H, xedges, yedges = np.histogram2d(x, y, bins=(xedges, yedges))\n",
    "H = H.T  # Let each row list bins with common y range.\n",
    "\n",
    "fig = plt.figure(figsize=(7, 3))\n",
    "ax = fig.add_subplot(131, title='imshow: square bins')\n",
    "plt.imshow(H, interpolation='nearest', origin='lower',\n",
    "        extent=[xedges[0], xedges[-1], yedges[0], yedges[-1]])\n",
    "\n",
    "ax = fig.add_subplot(132, title='pcolormesh: actual edges',\n",
    "        aspect='equal')\n",
    "X, Y = np.meshgrid(xedges, yedges)\n",
    "ax.pcolormesh(X, Y, H)\n",
    "\n",
    "# ax = fig.add_subplot(133, title='NonUniformImage: interpolated',\n",
    "#         aspect='equal', xlim=xedges[[0, -1]], ylim=yedges[[0, -1]])\n",
    "# im = NonUniformImage(ax, interpolation='bilinear')\n",
    "# xcenters = (xedges[:-1] + xedges[1:]) / 2\n",
    "# ycenters = (yedges[:-1] + yedges[1:]) / 2\n",
    "# im.set_data(xcenters, ycenters, H)\n",
    "# ax.images.append(im)\n",
    "# plt.show()"
   ]
  },
  {
   "cell_type": "code",
   "execution_count": 152,
   "metadata": {},
   "outputs": [
    {
     "data": {
      "text/plain": [
       "(576, 3)"
      ]
     },
     "execution_count": 152,
     "metadata": {},
     "output_type": "execute_result"
    }
   ],
   "source": [
    "c_tall = c - c[0,:]\n",
    "c_tall.shape"
   ]
  },
  {
   "cell_type": "code",
   "execution_count": 156,
   "metadata": {},
   "outputs": [
    {
     "data": {
      "text/plain": [
       "(575, 3)"
      ]
     },
     "execution_count": 156,
     "metadata": {},
     "output_type": "execute_result"
    }
   ],
   "source": [
    "c[ np.arange(len(c))!=0 ].shape"
   ]
  },
  {
   "cell_type": "code",
   "execution_count": 158,
   "metadata": {},
   "outputs": [
    {
     "data": {
      "text/plain": [
       "(576, 3)"
      ]
     },
     "execution_count": 158,
     "metadata": {},
     "output_type": "execute_result"
    }
   ],
   "source": [
    "c.shape"
   ]
  },
  {
   "cell_type": "code",
   "execution_count": 161,
   "metadata": {},
   "outputs": [
    {
     "ename": "SyntaxError",
     "evalue": "invalid syntax (<ipython-input-161-f250589ecd46>, line 2)",
     "output_type": "error",
     "traceback": [
      "\u001b[0;36m  File \u001b[0;32m\"<ipython-input-161-f250589ecd46>\"\u001b[0;36m, line \u001b[0;32m2\u001b[0m\n\u001b[0;31m    a = [idx*(576-1):idx*(576-1)+(576-1)]\u001b[0m\n\u001b[0m                    ^\u001b[0m\n\u001b[0;31mSyntaxError\u001b[0m\u001b[0;31m:\u001b[0m invalid syntax\n"
     ]
    }
   ],
   "source": [
    "idx=0\n",
    "a = idx*(576-1):idx*(576-1)+(576-1)"
   ]
  },
  {
   "cell_type": "code",
   "execution_count": 168,
   "metadata": {},
   "outputs": [
    {
     "data": {
      "text/plain": [
       "1150"
      ]
     },
     "execution_count": 168,
     "metadata": {},
     "output_type": "execute_result"
    }
   ],
   "source": [
    "1*(576-1)+(576-1)"
   ]
  },
  {
   "cell_type": "code",
   "execution_count": 167,
   "metadata": {},
   "outputs": [
    {
     "data": {
      "text/plain": [
       "575"
      ]
     },
     "execution_count": 167,
     "metadata": {},
     "output_type": "execute_result"
    }
   ],
   "source": [
    "1*(576-1)"
   ]
  },
  {
   "cell_type": "code",
   "execution_count": 184,
   "metadata": {},
   "outputs": [
    {
     "name": "stdout",
     "output_type": "stream",
     "text": [
      "(575, 3)\n",
      "(576, 3)\n",
      "(3,)\n"
     ]
    }
   ],
   "source": [
    "aa = c[np.arange(len(c))!=0,:]-c[0,:]\n",
    "print( aa.shape)\n",
    "print(c.shape)\n",
    "print( c[0,:].shape)"
   ]
  },
  {
   "cell_type": "code",
   "execution_count": 185,
   "metadata": {},
   "outputs": [
    {
     "name": "stdout",
     "output_type": "stream",
     "text": [
      "(575, 3)\n",
      "(576, 3)\n",
      "(3,)\n"
     ]
    },
    {
     "ename": "Exception",
     "evalue": "stop",
     "output_type": "error",
     "traceback": [
      "\u001b[0;31m---------------------------------------------------------------------------\u001b[0m",
      "\u001b[0;31mException\u001b[0m                                 Traceback (most recent call last)",
      "\u001b[0;32m<ipython-input-185-cb95820f97a3>\u001b[0m in \u001b[0;36m<module>\u001b[0;34m\u001b[0m\n\u001b[0;32m----> 1\u001b[0;31m \u001b[0mxy\u001b[0m\u001b[0;34m,\u001b[0m\u001b[0mz\u001b[0m \u001b[0;34m=\u001b[0m \u001b[0mcalc_cyl_corr_single\u001b[0m\u001b[0;34m(\u001b[0m \u001b[0mc\u001b[0m\u001b[0;34m[\u001b[0m\u001b[0;36m0\u001b[0m\u001b[0;34m,\u001b[0m\u001b[0;34m:\u001b[0m\u001b[0;34m]\u001b[0m\u001b[0;34m,\u001b[0m \u001b[0mc\u001b[0m\u001b[0;34m,\u001b[0m \u001b[0;36m0\u001b[0m\u001b[0;34m,\u001b[0m \u001b[0mnp\u001b[0m\u001b[0;34m.\u001b[0m\u001b[0marray\u001b[0m\u001b[0;34m(\u001b[0m\u001b[0;34m[\u001b[0m\u001b[0;36m0\u001b[0m\u001b[0;34m,\u001b[0m\u001b[0;36m0\u001b[0m\u001b[0;34m,\u001b[0m\u001b[0;36m1\u001b[0m\u001b[0;34m]\u001b[0m\u001b[0;34m)\u001b[0m \u001b[0;34m)\u001b[0m\u001b[0;34m\u001b[0m\u001b[0;34m\u001b[0m\u001b[0m\n\u001b[0m",
      "\u001b[0;32m<ipython-input-180-a8f7c6cc603c>\u001b[0m in \u001b[0;36mcalc_cyl_corr_single\u001b[0;34m(c_ref, c_all, idx_exclude, axis_cyl)\u001b[0m\n\u001b[1;32m     12\u001b[0m     \u001b[0mprint\u001b[0m\u001b[0;34m(\u001b[0m\u001b[0mc_ref\u001b[0m\u001b[0;34m.\u001b[0m\u001b[0mshape\u001b[0m\u001b[0;34m)\u001b[0m\u001b[0;34m\u001b[0m\u001b[0;34m\u001b[0m\u001b[0m\n\u001b[1;32m     13\u001b[0m \u001b[0;34m\u001b[0m\u001b[0m\n\u001b[0;32m---> 14\u001b[0;31m     \u001b[0;32mraise\u001b[0m \u001b[0mException\u001b[0m\u001b[0;34m(\u001b[0m\u001b[0;34m'stop'\u001b[0m\u001b[0;34m)\u001b[0m\u001b[0;34m\u001b[0m\u001b[0;34m\u001b[0m\u001b[0m\n\u001b[0m\u001b[1;32m     15\u001b[0m \u001b[0;34m\u001b[0m\u001b[0m\n\u001b[1;32m     16\u001b[0m     x2y2sqrt = np.sqrt(\n",
      "\u001b[0;31mException\u001b[0m: stop"
     ]
    }
   ],
   "source": [
    "xy,z = calc_cyl_corr_single( c[0,:], c, 0, np.array([0,0,1]) )"
   ]
  },
  {
   "cell_type": "code",
   "execution_count": 215,
   "metadata": {},
   "outputs": [],
   "source": [
    "c_all = c\n",
    "axis_cyl = np.array([0,0,1])\n",
    "sz = c_all.shape[0]\n",
    "xyall = np.zeros( sz*(sz-1))\n",
    "zall = np.zeros( sz*(sz-1))\n",
    "for idx in np.arange(sz):\n",
    "    xyall[idx*(sz-1):idx*(sz-1)+(sz-1)], zall[idx*(sz-1):idx*(sz-1)+(sz-1)] = calc_cyl_corr_single(\n",
    "            c_all[idx,:],\n",
    "            c_all, idx,axis_cyl)"
   ]
  },
  {
   "cell_type": "code",
   "execution_count": 213,
   "metadata": {},
   "outputs": [
    {
     "data": {
      "text/plain": [
       "(575,)"
      ]
     },
     "execution_count": 213,
     "metadata": {},
     "output_type": "execute_result"
    }
   ],
   "source": [
    "a.shape"
   ]
  },
  {
   "cell_type": "code",
   "execution_count": 205,
   "metadata": {},
   "outputs": [
    {
     "name": "stdout",
     "output_type": "stream",
     "text": [
      "(575, 3)\n",
      "(576, 3)\n",
      "(3,)\n"
     ]
    },
    {
     "ename": "Exception",
     "evalue": "stop",
     "output_type": "error",
     "traceback": [
      "\u001b[0;31m---------------------------------------------------------------------------\u001b[0m",
      "\u001b[0;31mException\u001b[0m                                 Traceback (most recent call last)",
      "\u001b[0;32m<ipython-input-205-18caf66799f9>\u001b[0m in \u001b[0;36m<module>\u001b[0;34m\u001b[0m\n\u001b[0;32m----> 1\u001b[0;31m calc_cyl_corr_single(\n\u001b[0m\u001b[1;32m      2\u001b[0m         \u001b[0mc\u001b[0m\u001b[0;34m[\u001b[0m\u001b[0;36m0\u001b[0m\u001b[0;34m,\u001b[0m\u001b[0;34m:\u001b[0m\u001b[0;34m]\u001b[0m\u001b[0;34m,\u001b[0m\u001b[0;34m\u001b[0m\u001b[0;34m\u001b[0m\u001b[0m\n\u001b[1;32m      3\u001b[0m         c, 0,axis_cyl)\n",
      "\u001b[0;32m<ipython-input-187-9c3e1424b8dd>\u001b[0m in \u001b[0;36mcalc_cyl_corr_single\u001b[0;34m(c_ref, c_all, idx_exclude, axis_cyl)\u001b[0m\n\u001b[1;32m     12\u001b[0m     \u001b[0mprint\u001b[0m\u001b[0;34m(\u001b[0m\u001b[0mc_ref\u001b[0m\u001b[0;34m.\u001b[0m\u001b[0mshape\u001b[0m\u001b[0;34m)\u001b[0m\u001b[0;34m\u001b[0m\u001b[0;34m\u001b[0m\u001b[0m\n\u001b[1;32m     13\u001b[0m \u001b[0;34m\u001b[0m\u001b[0m\n\u001b[0;32m---> 14\u001b[0;31m     \u001b[0;32mraise\u001b[0m \u001b[0mException\u001b[0m\u001b[0;34m(\u001b[0m\u001b[0;34m'stop'\u001b[0m\u001b[0;34m)\u001b[0m\u001b[0;34m\u001b[0m\u001b[0;34m\u001b[0m\u001b[0m\n\u001b[0m\u001b[1;32m     15\u001b[0m \u001b[0;34m\u001b[0m\u001b[0m\n\u001b[1;32m     16\u001b[0m     x2y2sqrt = np.sqrt(\n",
      "\u001b[0;31mException\u001b[0m: stop"
     ]
    }
   ],
   "source": [
    "calc_cyl_corr_single(\n",
    "        c[0,:],\n",
    "        c, 0,axis_cyl)"
   ]
  },
  {
   "cell_type": "code",
   "execution_count": 262,
   "metadata": {},
   "outputs": [
    {
     "data": {
      "text/html": [
       "<div>\n",
       "<style scoped>\n",
       "    .dataframe tbody tr th:only-of-type {\n",
       "        vertical-align: middle;\n",
       "    }\n",
       "\n",
       "    .dataframe tbody tr th {\n",
       "        vertical-align: top;\n",
       "    }\n",
       "\n",
       "    .dataframe thead th {\n",
       "        text-align: right;\n",
       "    }\n",
       "</style>\n",
       "<table border=\"1\" class=\"dataframe\">\n",
       "  <thead>\n",
       "    <tr style=\"text-align: right;\">\n",
       "      <th></th>\n",
       "      <th>gid</th>\n",
       "      <th>radius</th>\n",
       "      <th>pos0</th>\n",
       "      <th>pos1</th>\n",
       "      <th>orientation</th>\n",
       "    </tr>\n",
       "  </thead>\n",
       "  <tbody>\n",
       "    <tr>\n",
       "      <th>0</th>\n",
       "      <td>0</td>\n",
       "      <td>0.0125</td>\n",
       "      <td>[0.450677, 0.570188, 1.71182]</td>\n",
       "      <td>[0.476394, 0.57694, 1.46324]</td>\n",
       "      <td>[0.10286884764855768, 0.027008222550183134, -0...</td>\n",
       "    </tr>\n",
       "    <tr>\n",
       "      <th>1</th>\n",
       "      <td>1</td>\n",
       "      <td>0.0125</td>\n",
       "      <td>[0.489346, 0.517339, 3.02225]</td>\n",
       "      <td>[0.523433, 0.469626, 2.77924]</td>\n",
       "      <td>[0.13635638449769746, -0.19086373613220972, -0...</td>\n",
       "    </tr>\n",
       "    <tr>\n",
       "      <th>2</th>\n",
       "      <td>2</td>\n",
       "      <td>0.0125</td>\n",
       "      <td>[0.468486, 0.414469, 4.10287]</td>\n",
       "      <td>[0.467349, 0.430719, 3.8534]</td>\n",
       "      <td>[-0.004547976853803798, 0.06499966919464553, -...</td>\n",
       "    </tr>\n",
       "    <tr>\n",
       "      <th>3</th>\n",
       "      <td>3</td>\n",
       "      <td>0.0125</td>\n",
       "      <td>[0.515019, 0.423011, 7.21813]</td>\n",
       "      <td>[0.569458, 0.561117, 7.01697]</td>\n",
       "      <td>[0.2177521370120593, 0.552414200007117, -0.804...</td>\n",
       "    </tr>\n",
       "    <tr>\n",
       "      <th>4</th>\n",
       "      <td>4</td>\n",
       "      <td>0.0125</td>\n",
       "      <td>[0.39603, 0.542441, 1.15968]</td>\n",
       "      <td>[0.415387, 0.530176, 1.40863]</td>\n",
       "      <td>[0.07742724048957175, -0.04905951875830938, 0....</td>\n",
       "    </tr>\n",
       "    <tr>\n",
       "      <th>...</th>\n",
       "      <td>...</td>\n",
       "      <td>...</td>\n",
       "      <td>...</td>\n",
       "      <td>...</td>\n",
       "      <td>...</td>\n",
       "    </tr>\n",
       "    <tr>\n",
       "      <th>283</th>\n",
       "      <td>283</td>\n",
       "      <td>0.0125</td>\n",
       "      <td>[0.433234, 0.529753, 3.63773]</td>\n",
       "      <td>[0.495657, 0.533139, 3.87979]</td>\n",
       "      <td>[0.2496897237889152, 0.01354387653187554, 0.96...</td>\n",
       "    </tr>\n",
       "    <tr>\n",
       "      <th>284</th>\n",
       "      <td>284</td>\n",
       "      <td>0.0125</td>\n",
       "      <td>[0.443387, 0.506499, 3.58154]</td>\n",
       "      <td>[0.49094, 0.49277, 3.82659]</td>\n",
       "      <td>[0.1902131020979064, -0.05491631818606955, 0.9...</td>\n",
       "    </tr>\n",
       "    <tr>\n",
       "      <th>285</th>\n",
       "      <td>285</td>\n",
       "      <td>0.0125</td>\n",
       "      <td>[0.391407, 0.469972, 1.13453]</td>\n",
       "      <td>[0.405428, 0.459663, 1.38392]</td>\n",
       "      <td>[0.05608479146429079, -0.04123658192749263, 0....</td>\n",
       "    </tr>\n",
       "    <tr>\n",
       "      <th>286</th>\n",
       "      <td>286</td>\n",
       "      <td>0.0125</td>\n",
       "      <td>[0.544271, 0.406108, 7.82897]</td>\n",
       "      <td>[0.517121, 0.517993, 8.05089]</td>\n",
       "      <td>[-0.10859664474129964, 0.44752617299743486, 0....</td>\n",
       "    </tr>\n",
       "    <tr>\n",
       "      <th>287</th>\n",
       "      <td>287</td>\n",
       "      <td>0.0125</td>\n",
       "      <td>[0.564157, 0.47803, 3.41555]</td>\n",
       "      <td>[0.555977, 0.484271, 3.66534]</td>\n",
       "      <td>[-0.032719762695938924, 0.024963818946864984, ...</td>\n",
       "    </tr>\n",
       "  </tbody>\n",
       "</table>\n",
       "<p>288 rows × 5 columns</p>\n",
       "</div>"
      ],
      "text/plain": [
       "     gid  radius                           pos0  \\\n",
       "0      0  0.0125  [0.450677, 0.570188, 1.71182]   \n",
       "1      1  0.0125  [0.489346, 0.517339, 3.02225]   \n",
       "2      2  0.0125  [0.468486, 0.414469, 4.10287]   \n",
       "3      3  0.0125  [0.515019, 0.423011, 7.21813]   \n",
       "4      4  0.0125   [0.39603, 0.542441, 1.15968]   \n",
       "..   ...     ...                            ...   \n",
       "283  283  0.0125  [0.433234, 0.529753, 3.63773]   \n",
       "284  284  0.0125  [0.443387, 0.506499, 3.58154]   \n",
       "285  285  0.0125  [0.391407, 0.469972, 1.13453]   \n",
       "286  286  0.0125  [0.544271, 0.406108, 7.82897]   \n",
       "287  287  0.0125   [0.564157, 0.47803, 3.41555]   \n",
       "\n",
       "                              pos1  \\\n",
       "0     [0.476394, 0.57694, 1.46324]   \n",
       "1    [0.523433, 0.469626, 2.77924]   \n",
       "2     [0.467349, 0.430719, 3.8534]   \n",
       "3    [0.569458, 0.561117, 7.01697]   \n",
       "4    [0.415387, 0.530176, 1.40863]   \n",
       "..                             ...   \n",
       "283  [0.495657, 0.533139, 3.87979]   \n",
       "284    [0.49094, 0.49277, 3.82659]   \n",
       "285  [0.405428, 0.459663, 1.38392]   \n",
       "286  [0.517121, 0.517993, 8.05089]   \n",
       "287  [0.555977, 0.484271, 3.66534]   \n",
       "\n",
       "                                           orientation  \n",
       "0    [0.10286884764855768, 0.027008222550183134, -0...  \n",
       "1    [0.13635638449769746, -0.19086373613220972, -0...  \n",
       "2    [-0.004547976853803798, 0.06499966919464553, -...  \n",
       "3    [0.2177521370120593, 0.552414200007117, -0.804...  \n",
       "4    [0.07742724048957175, -0.04905951875830938, 0....  \n",
       "..                                                 ...  \n",
       "283  [0.2496897237889152, 0.01354387653187554, 0.96...  \n",
       "284  [0.1902131020979064, -0.05491631818606955, 0.9...  \n",
       "285  [0.05608479146429079, -0.04123658192749263, 0....  \n",
       "286  [-0.10859664474129964, 0.44752617299743486, 0....  \n",
       "287  [-0.032719762695938924, 0.024963818946864984, ...  \n",
       "\n",
       "[288 rows x 5 columns]"
      ]
     },
     "execution_count": 262,
     "metadata": {},
     "output_type": "execute_result"
    }
   ],
   "source": [
    "df_sylinder"
   ]
  },
  {
   "cell_type": "code",
   "execution_count": 14,
   "metadata": {},
   "outputs": [
    {
     "data": {
      "text/html": [
       "<div>\n",
       "<style scoped>\n",
       "    .dataframe tbody tr th:only-of-type {\n",
       "        vertical-align: middle;\n",
       "    }\n",
       "\n",
       "    .dataframe tbody tr th {\n",
       "        vertical-align: top;\n",
       "    }\n",
       "\n",
       "    .dataframe thead th {\n",
       "        text-align: right;\n",
       "    }\n",
       "</style>\n",
       "<table border=\"1\" class=\"dataframe\">\n",
       "  <thead>\n",
       "    <tr style=\"text-align: right;\">\n",
       "      <th></th>\n",
       "      <th>gid</th>\n",
       "      <th>radius</th>\n",
       "      <th>pos0</th>\n",
       "      <th>pos1</th>\n",
       "      <th>orientation</th>\n",
       "    </tr>\n",
       "  </thead>\n",
       "  <tbody>\n",
       "    <tr>\n",
       "      <th>0</th>\n",
       "      <td>0</td>\n",
       "      <td>0.0035</td>\n",
       "      <td>[0.968737, 1.17121, 0.892902]</td>\n",
       "      <td>[0.942644, 1.14754, 1.17064]</td>\n",
       "      <td>[-0.09320146559204008, -0.08454676313814444, 0...</td>\n",
       "    </tr>\n",
       "    <tr>\n",
       "      <th>1</th>\n",
       "      <td>1</td>\n",
       "      <td>0.0035</td>\n",
       "      <td>[1.05573, 0.933251, 0.943569]</td>\n",
       "      <td>[1.06297, 0.906042, 1.22211]</td>\n",
       "      <td>[0.025860798598460816, -0.09718873882120578, 0...</td>\n",
       "    </tr>\n",
       "    <tr>\n",
       "      <th>2</th>\n",
       "      <td>2</td>\n",
       "      <td>0.0035</td>\n",
       "      <td>[0.945703, 0.893115, 0.706382]</td>\n",
       "      <td>[0.934593, 0.869482, 0.985112]</td>\n",
       "      <td>[-0.03968556670493609, -0.08441845165956428, 0...</td>\n",
       "    </tr>\n",
       "    <tr>\n",
       "      <th>3</th>\n",
       "      <td>3</td>\n",
       "      <td>0.0035</td>\n",
       "      <td>[0.871105, 1.00701, 0.563134]</td>\n",
       "      <td>[0.857965, 0.96223, 0.83916]</td>\n",
       "      <td>[-0.046938073555710176, -0.159960953867937, 0....</td>\n",
       "    </tr>\n",
       "    <tr>\n",
       "      <th>4</th>\n",
       "      <td>4</td>\n",
       "      <td>0.0035</td>\n",
       "      <td>[0.834031, 0.88471, 0.925859]</td>\n",
       "      <td>[0.854076, 0.83307, 1.20019]</td>\n",
       "      <td>[0.07162310035445409, -0.1845156848243459, 0.9...</td>\n",
       "    </tr>\n",
       "    <tr>\n",
       "      <th>...</th>\n",
       "      <td>...</td>\n",
       "      <td>...</td>\n",
       "      <td>...</td>\n",
       "      <td>...</td>\n",
       "      <td>...</td>\n",
       "    </tr>\n",
       "    <tr>\n",
       "      <th>6395</th>\n",
       "      <td>6395</td>\n",
       "      <td>0.0035</td>\n",
       "      <td>[0.999755, 1.14695, 1.3309]</td>\n",
       "      <td>[1.0528, 1.09296, 1.28201]</td>\n",
       "      <td>[0.5887015912421681, -0.5991893469915098, -0.5...</td>\n",
       "    </tr>\n",
       "    <tr>\n",
       "      <th>6396</th>\n",
       "      <td>6396</td>\n",
       "      <td>0.0035</td>\n",
       "      <td>[0.945249, 1.09177, 0.731107]</td>\n",
       "      <td>[0.925199, 1.09312, 0.818923]</td>\n",
       "      <td>[-0.2225652764090403, 0.014985691927792782, 0....</td>\n",
       "    </tr>\n",
       "    <tr>\n",
       "      <th>6397</th>\n",
       "      <td>6397</td>\n",
       "      <td>0.0035</td>\n",
       "      <td>[0.960697, 1.28589, 0.809735]</td>\n",
       "      <td>[1.03756, 1.24786, 0.782269]</td>\n",
       "      <td>[0.8535812223102982, -0.42233186168196196, -0....</td>\n",
       "    </tr>\n",
       "    <tr>\n",
       "      <th>6398</th>\n",
       "      <td>6398</td>\n",
       "      <td>0.0035</td>\n",
       "      <td>[1.07826, 0.92527, 0.847258]</td>\n",
       "      <td>[1.07534, 0.924758, 0.937238]</td>\n",
       "      <td>[-0.03243405731097152, -0.005687067583294326, ...</td>\n",
       "    </tr>\n",
       "    <tr>\n",
       "      <th>6399</th>\n",
       "      <td>6399</td>\n",
       "      <td>0.0035</td>\n",
       "      <td>[0.854589, 1.08641, 0.943713]</td>\n",
       "      <td>[0.844515, 1.07799, 1.03278]</td>\n",
       "      <td>[-0.1118966457782854, -0.09352489154786292, 0....</td>\n",
       "    </tr>\n",
       "  </tbody>\n",
       "</table>\n",
       "<p>6400 rows × 5 columns</p>\n",
       "</div>"
      ],
      "text/plain": [
       "       gid  radius                            pos0  \\\n",
       "0        0  0.0035   [0.968737, 1.17121, 0.892902]   \n",
       "1        1  0.0035   [1.05573, 0.933251, 0.943569]   \n",
       "2        2  0.0035  [0.945703, 0.893115, 0.706382]   \n",
       "3        3  0.0035   [0.871105, 1.00701, 0.563134]   \n",
       "4        4  0.0035   [0.834031, 0.88471, 0.925859]   \n",
       "...    ...     ...                             ...   \n",
       "6395  6395  0.0035     [0.999755, 1.14695, 1.3309]   \n",
       "6396  6396  0.0035   [0.945249, 1.09177, 0.731107]   \n",
       "6397  6397  0.0035   [0.960697, 1.28589, 0.809735]   \n",
       "6398  6398  0.0035    [1.07826, 0.92527, 0.847258]   \n",
       "6399  6399  0.0035   [0.854589, 1.08641, 0.943713]   \n",
       "\n",
       "                                pos1  \\\n",
       "0       [0.942644, 1.14754, 1.17064]   \n",
       "1       [1.06297, 0.906042, 1.22211]   \n",
       "2     [0.934593, 0.869482, 0.985112]   \n",
       "3       [0.857965, 0.96223, 0.83916]   \n",
       "4       [0.854076, 0.83307, 1.20019]   \n",
       "...                              ...   \n",
       "6395      [1.0528, 1.09296, 1.28201]   \n",
       "6396   [0.925199, 1.09312, 0.818923]   \n",
       "6397    [1.03756, 1.24786, 0.782269]   \n",
       "6398   [1.07534, 0.924758, 0.937238]   \n",
       "6399    [0.844515, 1.07799, 1.03278]   \n",
       "\n",
       "                                            orientation  \n",
       "0     [-0.09320146559204008, -0.08454676313814444, 0...  \n",
       "1     [0.025860798598460816, -0.09718873882120578, 0...  \n",
       "2     [-0.03968556670493609, -0.08441845165956428, 0...  \n",
       "3     [-0.046938073555710176, -0.159960953867937, 0....  \n",
       "4     [0.07162310035445409, -0.1845156848243459, 0.9...  \n",
       "...                                                 ...  \n",
       "6395  [0.5887015912421681, -0.5991893469915098, -0.5...  \n",
       "6396  [-0.2225652764090403, 0.014985691927792782, 0....  \n",
       "6397  [0.8535812223102982, -0.42233186168196196, -0....  \n",
       "6398  [-0.03243405731097152, -0.005687067583294326, ...  \n",
       "6399  [-0.1118966457782854, -0.09352489154786292, 0....  \n",
       "\n",
       "[6400 rows x 5 columns]"
      ]
     },
     "execution_count": 14,
     "metadata": {},
     "output_type": "execute_result"
    }
   ],
   "source": [
    "df_sylinder"
   ]
  },
  {
   "cell_type": "code",
   "execution_count": 15,
   "metadata": {},
   "outputs": [
    {
     "data": {
      "text/plain": [
       "{'num_cluster': 6287,\n",
       " 'S_bulk': 0.906765448873095,\n",
       " 'P_bulk': 0.8612608586981993,\n",
       " 'S_cluster': 0.9206948341065119,\n",
       " 'P_cluster': 0.8771656884929672,\n",
       " 'mean_sep_bulk': [0.2205845079149027, 0.43234202589800286],\n",
       " 'mean_sep_cluster': [0.13525253262173184, 0.04981699286687025],\n",
       " 'xlink_energy': [8.98517821333731e-05, nan],\n",
       " 'tactoid_aspect_ratio': 1.8419078975936274,\n",
       " 'z_order': 0.9498193083446368,\n",
       " 'local_polar_order': (0.1823520313716874, 0.3563076162214226),\n",
       " 'length_mean_bulk': 0.06865421940442708,\n",
       " 'length_mean_cluster': 0.06883028010179736,\n",
       " 'length_mean_env': 0.05885870078171092}"
      ]
     },
     "execution_count": 15,
     "metadata": {},
     "output_type": "execute_result"
    }
   ],
   "source": [
    "data"
   ]
  },
  {
   "cell_type": "code",
   "execution_count": 62,
   "metadata": {},
   "outputs": [
    {
     "name": "stdout",
     "output_type": "stream",
     "text": [
      "Finished 'calc_aspect_ratio' in 0.0011 secs\n"
     ]
    }
   ],
   "source": [
    "@njit\n",
    "def unfold_coordinates(crds,boxsize):\n",
    "    # unfolded crds via the nearest image convention\n",
    "\n",
    "    # reference coordinate\n",
    "    c_ref = crds[0,:]\n",
    "    dist = np.absolute( crds-c_ref)\n",
    "    for idx in np.arange(crds.shape[-1]):\n",
    "        k = np.floor( dist[:,idx]/(0.5*boxsize[idx]))\n",
    "        crds[:,idx] -= k*boxsize[idx]\n",
    "    return crds\n",
    "\n",
    "ends_cc = np.vstack( (\n",
    "    np.array( df_sylinder.pos0.tolist())[cc,:],\n",
    "    np.array( df_sylinder.pos1.tolist())[cc,:]))\n",
    "c_unfold = unfold_coordinates( ends_cc, boxsize)\n",
    "ar = calc_aspect_ratio( c_unfold)"
   ]
  },
  {
   "cell_type": "code",
   "execution_count": 63,
   "metadata": {},
   "outputs": [
    {
     "data": {
      "text/plain": [
       "<matplotlib.collections.PathCollection at 0x126932760>"
      ]
     },
     "execution_count": 63,
     "metadata": {},
     "output_type": "execute_result"
    },
    {
     "data": {
      "image/png": "[encoded data removed]",
      "text/plain": [
       "<Figure size 432x288 with 1 Axes>"
      ]
     },
     "metadata": {
      "needs_background": "light"
     },
     "output_type": "display_data"
    }
   ],
   "source": [
    "plt.scatter(c_unfold[:,0], c_unfold[:,2])"
   ]
  },
  {
   "cell_type": "code",
   "execution_count": 40,
   "metadata": {},
   "outputs": [
    {
     "data": {
      "text/plain": [
       "array([1.059115 , 1.002115 , 0.8904175])"
      ]
     },
     "execution_count": 40,
     "metadata": {},
     "output_type": "execute_result"
    }
   ],
   "source": [
    "np.median( c_unfold, axis=0)"
   ]
  },
  {
   "cell_type": "code",
   "execution_count": 43,
   "metadata": {},
   "outputs": [
    {
     "data": {
      "text/plain": [
       "-3.2155899999999997"
      ]
     },
     "execution_count": 43,
     "metadata": {},
     "output_type": "execute_result"
    }
   ],
   "source": [
    "min(c_unfold[:,2])"
   ]
  },
  {
   "cell_type": "code",
   "execution_count": 60,
   "metadata": {},
   "outputs": [],
   "source": [
    "crds = ends_cc\n",
    "c_ref = crds[0,:]\n",
    "idx = 2\n",
    "dist = np.absolute( crds-c_ref)\n",
    "k = np.floor( dist[:,idx]/(0.5*boxsize[idx]))"
   ]
  },
  {
   "cell_type": "code",
   "execution_count": 61,
   "metadata": {},
   "outputs": [
    {
     "data": {
      "text/plain": [
       "array([1., 1., 1., 1., 1., 1., 1., 1., 1., 1., 1., 1., 1., 1., 1., 1., 1.,\n",
       "       1., 1., 1., 1., 1., 1., 1., 1., 1., 1., 1., 1., 1., 1., 1., 1., 1.,\n",
       "       1., 1., 1., 1., 1., 1., 1., 1., 1., 1., 1., 1., 1., 1., 1., 1., 1.,\n",
       "       1., 1., 1., 1., 1., 1., 1., 1., 1., 1., 1., 1., 1., 1., 2., 1., 1.,\n",
       "       1., 1., 1., 1., 1., 1., 1., 1., 1., 1., 1., 1., 1., 1., 1., 1., 1.,\n",
       "       1., 1., 1., 1., 1., 1., 1., 1., 1., 1., 1., 1., 1., 1., 1., 1., 1.,\n",
       "       1., 1., 1., 1., 1., 1., 1., 1., 1., 1., 1., 1., 1., 1., 1., 1., 1.,\n",
       "       1., 1., 1., 1., 1., 1., 1., 1., 1., 1., 1., 1., 1., 1., 1., 1., 1.,\n",
       "       1., 1., 1., 1., 1., 1., 1., 1., 1., 1., 1., 1., 1., 1., 1., 1., 1.,\n",
       "       1., 1., 1., 1., 1., 1., 1., 1., 1., 1., 1., 1., 1., 1., 1., 1., 1.,\n",
       "       1., 1., 1., 1., 1., 1., 1., 1., 1., 1., 1., 1., 1., 1., 1., 1., 1.,\n",
       "       1., 1., 1., 1., 1., 1., 1., 1., 1., 1., 1., 1., 1., 1., 1., 1., 1.,\n",
       "       1., 1., 1., 1., 1., 1., 1., 1., 1., 1., 1., 1., 1., 1., 1., 1., 1.,\n",
       "       1., 1., 1., 1., 1., 1., 1., 1., 1., 1., 1., 2., 1., 1., 1., 1., 1.,\n",
       "       1., 1., 1., 1., 1., 1., 1., 1., 1., 1., 1., 1., 1., 1., 2., 1., 1.,\n",
       "       2.])"
      ]
     },
     "execution_count": 61,
     "metadata": {},
     "output_type": "execute_result"
    }
   ],
   "source": [
    "k[k > 0]"
   ]
  },
  {
   "cell_type": "code",
   "execution_count": null,
   "metadata": {},
   "outputs": [],
   "source": []
  }
 ],
 "metadata": {
  "kernelspec": {
   "display_name": "Python 3",
   "language": "python",
   "name": "python3"
  },
  "language_info": {
   "codemirror_mode": {
    "name": "ipython",
    "version": 3
   },
   "file_extension": ".py",
   "mimetype": "text/x-python",
   "name": "python",
   "nbconvert_exporter": "python",
   "pygments_lexer": "ipython3",
   "version": "3.8.5"
  }
 },
 "nbformat": 4,
 "nbformat_minor": 4
}
