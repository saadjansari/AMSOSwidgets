{
 "cells": [
  {
   "cell_type": "code",
   "execution_count": 10,
   "metadata": {},
   "outputs": [],
   "source": [
    "import os\n",
    "import numpy as np\n",
    "import shutil\n",
    "from shutil import ignore_patterns\n",
    "import stat\n",
    "import glob"
   ]
  },
  {
   "cell_type": "markdown",
   "metadata": {},
   "source": [
    "This script merges simulations of AMSOS into a single simulation. This can be used when the following is true:\n",
    "* You ran a simulation that finished. You wanted to continue the simulation, so you used the final config files as initial config files for another simulation. This gave you multiple folders (where the sim is basically broken up into pieces).\n",
    "\n",
    "The goal of this script is to merge those pieces"
   ]
  },
  {
   "cell_type": "code",
   "execution_count": 11,
   "metadata": {},
   "outputs": [],
   "source": [
    "# Specify the sim folders in order\n",
    "sim_folders = [\n",
    "    \"/Users/saadjansari/Documents/Projects/AMSOS/resultsSummit/Tactoids/n400_f3600_short_poly_stability\",\n",
    "    \"/Users/saadjansari/Documents/Projects/AMSOS/resultsSummit/Tactoids/n400_f3600_short_poly_stability_c\",\n",
    "]"
   ]
  },
  {
   "cell_type": "markdown",
   "metadata": {},
   "source": [
    "This is a large copy and paste operation but with a supervisor that monitors and has the power to change the index of the files (i.e the data files are labelled like *6.dat, *91.dat). The index in all the individual pieces starts with a 0, but when merging them, the index of the latter pieces with be offset the last index of the former piece.\n",
    "\n",
    "**Example**:\n",
    "if the indices of the pieces are: $[[0,1,2,3,4], [0,1,2,3], [0,1,2,3,4,5]]$.\n",
    "\n",
    "The final indices of the merge will be $[[0,1,2,3,4],[5,6,7,8],[9,10,11,12,13,14]]$. And then these can be merged into a single folder.\n",
    "\n",
    "**Note: We will ignore the first frame of all the pieces except the first one. This first is just a copy and the action really starts at index 1.**"
   ]
  },
  {
   "cell_type": "code",
   "execution_count": 12,
   "metadata": {},
   "outputs": [],
   "source": [
    "# Specify file patterns to ignore and those to ignore just for the latter copy operations\n",
    "ext_ignore = [\"*.log\",\"*.err\",\"*.csv\",\"*.png\",\"*.pdf\",\"*.jobscript\",\".DS_Store\",\"*.mp4\",\"*pvtp.pvd\", \"*.out\"]"
   ]
  },
  {
   "cell_type": "code",
   "execution_count": 13,
   "metadata": {},
   "outputs": [],
   "source": [
    "# Define an updated copytree function\n",
    "def copytree(src, dst, symlinks = False, ignore = None):\n",
    "    if not os.path.exists(dst):\n",
    "        os.makedirs(dst)\n",
    "        shutil.copystat(src, dst)\n",
    "    lst = os.listdir(src)\n",
    "    if ignore:\n",
    "        excl = ignore(src, lst)\n",
    "        lst = [x for x in lst if x not in excl]\n",
    "    for item in lst:\n",
    "        s = os.path.join(src, item)\n",
    "        d = os.path.join(dst, item)\n",
    "        if symlinks and os.path.islink(s):\n",
    "            if os.path.lexists(d):\n",
    "                os.remove(d)\n",
    "            os.symlink(os.readlink(s), d)\n",
    "            try:\n",
    "                st = os.lstat(s)\n",
    "                mode = stat.S_IMODE(st.st_mode)\n",
    "                os.lchmod(d, mode)\n",
    "            except:\n",
    "                pass # lchmod not available\n",
    "        elif os.path.isdir(s):\n",
    "            copytree(s, d, symlinks, ignore)\n",
    "        else:\n",
    "            shutil.copy2(s, d)\n",
    "\n",
    "def file_key(f):\n",
    "    k = int( f.split(\"_\")[-1].split(\".\")[0])\n",
    "    return k\n",
    "\n",
    "def fold_key(f):\n",
    "    k = int( f.split(\"-\")[-1])\n",
    "    return k\n",
    "\n",
    "def replace_key(f,nk):\n",
    "    fnew = \"\".join( idx_files[0].split(\"_\")[:-1] ) + \"_\" + str(nk) + '.' + idx_files[0].split(\"_\")[-1].split(\".\")[-1]\n",
    "    return fnew\n",
    "\n",
    "def check_key_bound_folder( k, fold):\n",
    "    fk = fold_key( fold)\n",
    "    if k > fk:\n",
    "        return True\n",
    "    else:\n",
    "        return False\n",
    "    \n",
    "def get_new_bound_folder( old_fold):\n",
    "    upper = fold_key( old_fold)\n",
    "    lower = int(old_fold.split(\"/result\")[-1].split(\"-\")[0])\n",
    "    newlower = upper+1\n",
    "    newupper = upper+1+ (upper-lower)\n",
    "    new_fold = os.path.join( \"/\".join( old_fold.split(\"/\")[:-1]), \"result\") + str(newlower) + \"-\" + str(newupper)\n",
    "    return new_fold\n",
    "\n",
    "def get_dstfile_with_key_offset( srcfile, dstpath, offset):\n",
    "    \n",
    "    old_key = file_key( srcfile)\n",
    "    new_key = old_key + offset\n",
    "    tag = \"_\".join(srcfile.split(\"/\")[-1].split(\"_\")[:-1])\n",
    "    ext = srcfile.split(\".\")[-1]\n",
    "    dstfile = os.path.join( dstpath, tag + \"_\" + str(new_key) + \".\" + ext)\n",
    "    return dstfile"
   ]
  },
  {
   "cell_type": "code",
   "execution_count": 14,
   "metadata": {},
   "outputs": [
    {
     "name": "stdout",
     "output_type": "stream",
     "text": [
      "Created merge folder: /Users/saadjansari/Documents/Projects/AMSOS/resultsSummit/Tactoids/merge\n"
     ]
    }
   ],
   "source": [
    "# Get path of first folder. This is where the merge will be created.\n",
    "head_tail = os.path.split(sim_folders[0])\n",
    "\n",
    "# Begin by creating a new folder\n",
    "merge_fold = os.path.join( head_tail[0], 'merge')\n",
    "if os.path.exists(merge_fold):\n",
    "    shutil.rmtree(merge_fold)\n",
    "os.mkdir( merge_fold)\n",
    "print('Created merge folder: {}'.format(merge_fold))\n",
    "\n",
    "for idx,src in enumerate( sim_folders):\n",
    "    \n",
    "    # For the first folder, just copy almost every thing except those things to ignore\n",
    "    if idx == 0:\n",
    "        if not os.path.exists(merge_fold) or not os.listdir(merge_fold):\n",
    "            copytree(sim_folders[0], merge_fold, ignore=ignore_patterns(*ext_ignore))\n",
    "        else:\n",
    "            raise Exception('There is already stuff inside merge folder')\n",
    "    \n",
    "    # For the latter folders\n",
    "    else:\n",
    "        \n",
    "        # Find last index in results of merge\n",
    "        # find result folders inside the main result folder\n",
    "        res_folders = glob.glob( os.path.join(merge_fold, 'result/result*-*'))\n",
    "        res_folders = sorted( res_folders, key=fold_key)\n",
    "        # search inside last folder\n",
    "        idx_files = glob.glob( os.path.join(res_folders[-1], 'SylinderAscii*.dat'))\n",
    "        idx_files = sorted( idx_files, key=file_key)\n",
    "        max_key = max([file_key(i) for i in idx_files])\n",
    "        \n",
    "        # Search in src folder\n",
    "        # find result folders inside the main result folder\n",
    "        src_files = glob.glob( os.path.join(src, 'result/result*-*/*'))\n",
    "        src_files = sorted( src_files, key=file_key)\n",
    "        \n",
    "        resdest = res_folders[-1]\n",
    "        for fil in src_files:\n",
    "            \n",
    "            # if key=0, skip it\n",
    "            if file_key( fil) == 0:\n",
    "                continue\n",
    "                \n",
    "            # check if key exceeds folder bound. If yes, switch to new folder\n",
    "            if check_key_bound_folder( max_key+file_key(fil), resdest):\n",
    "                resdest = get_new_bound_folder( resdest)\n",
    "                print('Generated new destination folder: {}'.format(resdest))\n",
    "                os.mkdir( resdest)\n",
    "\n",
    "            dstfile = get_dstfile_with_key_offset( fil, resdest, max_key)\n",
    "            # copy_file to dst folder with key offset\n",
    "#            print(fil)\n",
    "#            print(dstfile)\n",
    "            # copy each file from src results to merge results after updating its index\n",
    "            shutil.copyfile( fil, dstfile)\n",
    "        "
   ]
  },
  {
   "cell_type": "code",
   "execution_count": null,
   "metadata": {},
   "outputs": [],
   "source": []
  }
 ],
 "metadata": {
  "kernelspec": {
   "display_name": "Python 3",
   "language": "python",
   "name": "python3"
  },
  "language_info": {
   "codemirror_mode": {
    "name": "ipython",
    "version": 3
   },
   "file_extension": ".py",
   "mimetype": "text/x-python",
   "name": "python",
   "nbconvert_exporter": "python",
   "pygments_lexer": "ipython3",
   "version": "3.8.5"
  }
 },
 "nbformat": 4,
 "nbformat_minor": 4
}
